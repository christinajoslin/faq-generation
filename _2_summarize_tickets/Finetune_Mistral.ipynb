{
  "cells": [
    {
      "cell_type": "markdown",
      "metadata": {
        "id": "yx6AnOls6ism"
      },
      "source": [
        "# **Mistral Ticket Summarization Fine-Tuning Pipeline**\n",
        "This notebook contains code for fine-tuning `Mistral-7B-Instruct-v0.3` on HPC support tickets and performing structured inference.\n"
      ]
    },
    {
      "cell_type": "markdown",
      "metadata": {
        "id": "nf7pb08e7PR4"
      },
      "source": [
        "## **Environment Setup & Memory Config**"
      ]
    },
    {
      "cell_type": "code",
      "execution_count": null,
      "metadata": {
        "id": "GkOQWacCkMCO"
      },
      "outputs": [],
      "source": [
        "# Clear GPU memory\n",
        "import torch, gc\n",
        "gc.collect()\n",
        "torch.cuda.empty_cache()\n",
        "torch.cuda.ipc_collect()"
      ]
    },
    {
      "cell_type": "code",
      "execution_count": null,
      "metadata": {
        "id": "-hwymLvqiMqG"
      },
      "outputs": [],
      "source": [
        "# Enable expandable CUDA memory segments\n",
        "import os\n",
        "os.environ[\"PYTORCH_CUDA_ALLOC_CONF\"] = \"expandable_segments:True\""
      ]
    },
    {
      "cell_type": "code",
      "execution_count": 4,
      "metadata": {
        "id": "k5Q-kHypd9c7"
      },
      "outputs": [],
      "source": [
        "# Load libraries\n",
        "from datasets import load_dataset, Dataset\n",
        "from transformers import AutoTokenizer, AutoModelForCausalLM, TrainingArguments, Trainer, DataCollatorForLanguageModeling, BitsAndBytesConfig, TrainerCallback\n",
        "from peft import get_peft_model, LoraConfig, TaskType\n",
        "import torch\n",
        "import pandas as pd\n",
        "from tqdm import tqdm\n",
        "import shutil\n",
        "import re\n"
      ]
    },
    {
      "cell_type": "code",
      "execution_count": null,
      "metadata": {
        "id": "A7SiQW3D-G4t"
      },
      "outputs": [],
      "source": [
        "# Hugging Face login (requires environment variable to be set manually)\n",
        "# IMPORTANT: You must set the HF_TOKEN environment variable before running this.\n",
        "# Example: os.environ[\"HF_TOKEN\"] = \"your_huggingface_access_token\"\n",
        "from huggingface_hub import login\n",
        "login(os.environ[\"HF_TOKEN\"])"
      ]
    },
    {
      "cell_type": "code",
      "execution_count": 3,
      "metadata": {
        "colab": {
          "base_uri": "https://localhost:8080/"
        },
        "id": "hSc4TNBJgyy7",
        "outputId": "620f7d81-08fa-4e95-b049-d82292970e13"
      },
      "outputs": [
        {
          "name": "stdout",
          "output_type": "stream",
          "text": [
            "Mounted at /content/drive\n"
          ]
        }
      ],
      "source": [
        "# Mount Google Drive (if using Google Colab)\n",
        "from google.colab import drive\n",
        "drive.mount('/content/drive')"
      ]
    },
    {
      "cell_type": "markdown",
      "metadata": {
        "id": "v-sIwblW-GZp"
      },
      "source": [
        "## **Load Tokenizer**"
      ]
    },
    {
      "cell_type": "code",
      "execution_count": 6,
      "metadata": {
        "colab": {
          "base_uri": "https://localhost:8080/",
          "height": 269,
          "referenced_widgets": [
            "72eed002663147d996f74e207e3d40ff",
            "ebb7fc0b09be43b9993be83956372bd6",
            "0f597510b067434492ab9e7603165463",
            "864615f4c84a48f5b0af61132e12081d",
            "ceae3856b45e48f886a07b749db2f100",
            "427f4a374a424cd0b1e614d72d42f29a",
            "15e002f9bfdb4266b2c9e2f419ce8ab4",
            "19b6536630b44fda8ab511828fcba7a1",
            "ae52d19cf71f4cc79f72fa0326f6cd31",
            "866e5e317ae84269afc21b1da9fad6bf",
            "88e688aea50e43b78fa9de3e59d64505",
            "fd5989cd715942fd8ac63450e368f34d",
            "243fe0d4788d43b5a8c747a7808130cf",
            "682796e9167b418cb66adf65f055b7f4",
            "993d219d5312406cb20178cbe3db86a9",
            "9bd0178cfa484c5e9b1c905910ed7429",
            "adf721324ec146899cf461f53afc9639",
            "5937ef5e4253487991191aef6f3bdbf2",
            "5366c19377044577aa5b045942a1226e",
            "c7a4fbe70da044269c641404fb834965",
            "ec933908d40242eaad1c79b452d470df",
            "609084ad490e478b806cf04de69493fa",
            "03b739c2b3d24f5f896c07f36c99d87e",
            "8675c6fb3bcd42cebb5808baf65bd549",
            "9803c4b9f30842d2a4de2c2d62f898fa",
            "a950071d2ea040378e2916882500c8b3",
            "0df31e4f5aa14987a5aeee2db3edd388",
            "299dd0ac696f4f439d883474b9a66155",
            "dc3362d8480e44319bfe53531eee4972",
            "301584388b844394a0de80cb61608327",
            "7143597f0cf44e29aa73461bbe6e8f63",
            "46d0b940d36240a9a086292e4d54db6c",
            "019631df02454b7d889bb8328477affe",
            "43a3b1c6fef7415bba837774702d26b1",
            "50713cb02336482eabfd6a3c9725dc65",
            "e73b75a06ca542b7a2e7f2259790cbdd",
            "10109bba63124688b8119c9aaae87a8e",
            "6a2895baad1847f487d24d91d4901cc0",
            "f91872a24b1149399286673bdfc0926f",
            "1940ef4f49804b6fb47da34133ceb94a",
            "d6f8543d404b4f458b21b0ec8dc89fc5",
            "2f57858ad31d450f9c21dbc4001d637a",
            "069f08ae9c9240c6a3f6cb4806118c70",
            "b66d61e81689413581c07dd967a54ac4"
          ]
        },
        "id": "VeQAmon1OM0P",
        "outputId": "8bf59438-4289-4d9b-c422-d3c812fc2a8b"
      },
      "outputs": [
        {
          "name": "stderr",
          "output_type": "stream",
          "text": [
            "/usr/local/lib/python3.11/dist-packages/huggingface_hub/utils/_auth.py:94: UserWarning: \n",
            "The secret `HF_TOKEN` does not exist in your Colab secrets.\n",
            "To authenticate with the Hugging Face Hub, create a token in your settings tab (https://huggingface.co/settings/tokens), set it as secret in your Google Colab and restart your session.\n",
            "You will be able to reuse this secret in all of your notebooks.\n",
            "Please note that authentication is recommended but still optional to access public models or datasets.\n",
            "  warnings.warn(\n"
          ]
        },
        {
          "data": {
            "application/vnd.jupyter.widget-view+json": {
              "model_id": "72eed002663147d996f74e207e3d40ff",
              "version_major": 2,
              "version_minor": 0
            },
            "text/plain": [
              "tokenizer_config.json:   0%|          | 0.00/141k [00:00<?, ?B/s]"
            ]
          },
          "metadata": {},
          "output_type": "display_data"
        },
        {
          "data": {
            "application/vnd.jupyter.widget-view+json": {
              "model_id": "fd5989cd715942fd8ac63450e368f34d",
              "version_major": 2,
              "version_minor": 0
            },
            "text/plain": [
              "tokenizer.model:   0%|          | 0.00/587k [00:00<?, ?B/s]"
            ]
          },
          "metadata": {},
          "output_type": "display_data"
        },
        {
          "data": {
            "application/vnd.jupyter.widget-view+json": {
              "model_id": "03b739c2b3d24f5f896c07f36c99d87e",
              "version_major": 2,
              "version_minor": 0
            },
            "text/plain": [
              "tokenizer.json:   0%|          | 0.00/1.96M [00:00<?, ?B/s]"
            ]
          },
          "metadata": {},
          "output_type": "display_data"
        },
        {
          "data": {
            "application/vnd.jupyter.widget-view+json": {
              "model_id": "43a3b1c6fef7415bba837774702d26b1",
              "version_major": 2,
              "version_minor": 0
            },
            "text/plain": [
              "special_tokens_map.json:   0%|          | 0.00/414 [00:00<?, ?B/s]"
            ]
          },
          "metadata": {},
          "output_type": "display_data"
        }
      ],
      "source": [
        "# Model & tokenizer\n",
        "model_name=\"mistralai/Mistral-7B-Instruct-v0.3\"\n",
        "tokenizer = AutoTokenizer.from_pretrained(model_name)\n",
        "tokenizer.eos_token = \"</s>\"\n",
        "tokenizer.pad_token = tokenizer.eos_token"
      ]
    },
    {
      "cell_type": "markdown",
      "metadata": {
        "id": "aywnIA3_-gHI"
      },
      "source": [
        "## **Load and Preprocess Training Data**"
      ]
    },
    {
      "cell_type": "code",
      "execution_count": null,
      "metadata": {
        "id": "bDy_YIXjFO8a"
      },
      "outputs": [],
      "source": [
        "df_tickets = pd.read_csv(\"/content/drive/MyDrive/Colab Notebooks/TicketHub/mistral_training_data.csv\", encoding='latin-1')\n"
      ]
    },
    {
      "cell_type": "code",
      "execution_count": null,
      "metadata": {
        "id": "Y6FMf7xpr3jC"
      },
      "outputs": [],
      "source": [
        "dataset = Dataset.from_pandas(df_tickets)"
      ]
    },
    {
      "cell_type": "code",
      "execution_count": null,
      "metadata": {
        "id": "8bmfWnwZ64k1"
      },
      "outputs": [],
      "source": [
        "# Compute token lengths (prompt + completion)\n",
        "df_tickets[\"token_length\"] = df_tickets.apply(\n",
        "    lambda row: len(tokenizer.encode(f\"[INST] {row['prompt']} [/INST] {row['completion'].strip()} {tokenizer.eos_token}\")),\n",
        "    axis=1\n",
        ")"
      ]
    },
    {
      "cell_type": "code",
      "execution_count": null,
      "metadata": {
        "colab": {
          "base_uri": "https://localhost:8080/",
          "height": 335
        },
        "id": "bDj7RGVBEU-n",
        "outputId": "d3ca143f-d932-4601-a78b-fc1f6b77f53f"
      },
      "outputs": [
        {
          "data": {
            "text/html": [
              "<div>\n",
              "<style scoped>\n",
              "    .dataframe tbody tr th:only-of-type {\n",
              "        vertical-align: middle;\n",
              "    }\n",
              "\n",
              "    .dataframe tbody tr th {\n",
              "        vertical-align: top;\n",
              "    }\n",
              "\n",
              "    .dataframe thead th {\n",
              "        text-align: right;\n",
              "    }\n",
              "</style>\n",
              "<table border=\"1\" class=\"dataframe\">\n",
              "  <thead>\n",
              "    <tr style=\"text-align: right;\">\n",
              "      <th></th>\n",
              "      <th>token_length</th>\n",
              "    </tr>\n",
              "  </thead>\n",
              "  <tbody>\n",
              "    <tr>\n",
              "      <th>count</th>\n",
              "      <td>86.000000</td>\n",
              "    </tr>\n",
              "    <tr>\n",
              "      <th>mean</th>\n",
              "      <td>636.941860</td>\n",
              "    </tr>\n",
              "    <tr>\n",
              "      <th>std</th>\n",
              "      <td>186.075276</td>\n",
              "    </tr>\n",
              "    <tr>\n",
              "      <th>min</th>\n",
              "      <td>367.000000</td>\n",
              "    </tr>\n",
              "    <tr>\n",
              "      <th>25%</th>\n",
              "      <td>504.250000</td>\n",
              "    </tr>\n",
              "    <tr>\n",
              "      <th>50%</th>\n",
              "      <td>576.000000</td>\n",
              "    </tr>\n",
              "    <tr>\n",
              "      <th>75%</th>\n",
              "      <td>713.000000</td>\n",
              "    </tr>\n",
              "    <tr>\n",
              "      <th>max</th>\n",
              "      <td>1191.000000</td>\n",
              "    </tr>\n",
              "  </tbody>\n",
              "</table>\n",
              "</div><br><label><b>dtype:</b> float64</label>"
            ],
            "text/plain": [
              "count      86.000000\n",
              "mean      636.941860\n",
              "std       186.075276\n",
              "min       367.000000\n",
              "25%       504.250000\n",
              "50%       576.000000\n",
              "75%       713.000000\n",
              "max      1191.000000\n",
              "Name: token_length, dtype: float64"
            ]
          },
          "execution_count": 67,
          "metadata": {},
          "output_type": "execute_result"
        }
      ],
      "source": [
        "df_tickets[\"token_length\"].describe() # training data token distributions"
      ]
    },
    {
      "cell_type": "markdown",
      "metadata": {
        "id": "6K6Kc5WV-w9A"
      },
      "source": [
        "## **Tokenization Function**"
      ]
    },
    {
      "cell_type": "code",
      "execution_count": null,
      "metadata": {
        "colab": {
          "base_uri": "https://localhost:8080/",
          "height": 49,
          "referenced_widgets": [
            "6a17fae1a2014a88a470479214f8d613",
            "55b6735b33194544bc1a4084f946a655",
            "21bb5407973f40e493539b2dc2c8865b",
            "c219e9a6a51e4ab1a94594f531b5ab8b",
            "8a5b6e661ab04de19f09523b27e02dec",
            "9643b97f661b4e1cba902e0c65beafd0",
            "3f7431eec0a243dca99e603e877c1a6d",
            "73e3bddf9da04b29b908e9f79ebe30a5",
            "3d8dc3c0c86d41009c223627113293c1",
            "cd9ec726124e4bc3b037c5b3189b17da",
            "4580220a4b74450895a05cc76c103668"
          ]
        },
        "id": "zlpacF6BEaG5",
        "outputId": "9296203e-6684-47a0-d274-3a50a8bb5448"
      },
      "outputs": [
        {
          "data": {
            "application/vnd.jupyter.widget-view+json": {
              "model_id": "6a17fae1a2014a88a470479214f8d613",
              "version_major": 2,
              "version_minor": 0
            },
            "text/plain": [
              "Map:   0%|          | 0/86 [00:00<?, ? examples/s]"
            ]
          },
          "metadata": {},
          "output_type": "display_data"
        }
      ],
      "source": [
        "def tokenize(batch):\n",
        "    input_ids_list = []\n",
        "    attention_mask_list = []\n",
        "    labels_list = []\n",
        "\n",
        "    for prompt, completion in zip(batch[\"prompt\"], batch[\"completion\"]):\n",
        "        # Use tokenizer-defined special tokens\n",
        "        prompt_text = f\"[INST] {prompt.strip()} [/INST]\" # plain text with [INST] and [/INST]\n",
        "        completion_text = completion.strip() # plain text\n",
        "        #print(prompt_text)\n",
        "        #print(completion_text)\n",
        "\n",
        "        # Tokenize separately WITHOUT special tokens\n",
        "        prompt_tokens = tokenizer(prompt_text, add_special_tokens=False)\n",
        "        completion_tokens = tokenizer(completion_text, add_special_tokens=False)\n",
        "        #print(prompt_tokens)\n",
        "        #print(completion_tokens)\n",
        "\n",
        "        # Concatenate\n",
        "        input_ids = prompt_tokens[\"input_ids\"] + completion_tokens[\"input_ids\"]\n",
        "        attention_mask = prompt_tokens[\"attention_mask\"] + completion_tokens[\"attention_mask\"]\n",
        "\n",
        "        # Mask prompt tokens\n",
        "        labels = [-100] * len(prompt_tokens[\"input_ids\"]) + completion_tokens[\"input_ids\"]\n",
        "\n",
        "\n",
        "        # Pad to max length\n",
        "        pad_len = 1621 - len(input_ids)\n",
        "        input_ids += [tokenizer.pad_token_id] * pad_len # adds </s> so the model sees consistnet input\n",
        "        attention_mask += [0] * pad_len # ignores this token during attention\n",
        "        labels += [-100] * pad_len\n",
        "\n",
        "        #print(labels)\n",
        "        #print(attention_mask)\n",
        "\n",
        "        input_ids_list.append(input_ids)\n",
        "        attention_mask_list.append(attention_mask)\n",
        "        labels_list.append(labels)\n",
        "\n",
        "    return {\n",
        "        \"input_ids\": input_ids_list,\n",
        "        \"attention_mask\": attention_mask_list,\n",
        "        \"labels\": labels_list\n",
        "    }\n",
        "\n",
        "# Apply to your dataset\n",
        "tokenized_dataset = dataset.map(tokenize, batched=True)\n",
        "\n"
      ]
    },
    {
      "cell_type": "markdown",
      "metadata": {
        "id": "z9KhVEAl_JvJ"
      },
      "source": [
        "## **Load Model with 8-bit Quantization**\n",
        "You may need to run `pip install -U bitsandbytes` before this step.\n",
        "\n",
        "8-bit quantization reduces GPU memory usage by representing weights with 8-bit integers instead of 16/32-bit floating-point values. This allows for faster and more efficient training or inference with large models (e.g., Mistral-7B).\n"
      ]
    },
    {
      "cell_type": "code",
      "execution_count": null,
      "metadata": {
        "colab": {
          "base_uri": "https://localhost:8080/",
          "height": 49,
          "referenced_widgets": [
            "92a6bc282e434937862f2838388380d0",
            "cccea75068e146aab1886fb0d4be5275",
            "b5d1982401eb4e7a9f105454175abcc1",
            "7240504a05c0462c9f09f8154883405c",
            "56dc65808bad44af96a2c2e40f477936",
            "81aeb1d589f94896ad3388b603318b21",
            "cb5116e9c8984663a59d309c205624ca",
            "204ae6bfc83d4c1e9d0d6865f23485e8",
            "3bc3b2b537a3493289b071924394d542",
            "f3eea1ab0fe84039aca91e1dbce25807",
            "8fea195d91a04bedb0f7be7796fa98ad"
          ]
        },
        "id": "6yvq1aTdr_EF",
        "outputId": "ae35c422-db0d-4e98-edac-9a11650682a8"
      },
      "outputs": [
        {
          "data": {
            "application/vnd.jupyter.widget-view+json": {
              "model_id": "92a6bc282e434937862f2838388380d0",
              "version_major": 2,
              "version_minor": 0
            },
            "text/plain": [
              "Loading checkpoint shards:   0%|          | 0/3 [00:00<?, ?it/s]"
            ]
          },
          "metadata": {},
          "output_type": "display_data"
        }
      ],
      "source": [
        "# Define quantization configuration:\n",
        "bnb_config = BitsAndBytesConfig(\n",
        "    load_in_8bit=True,                        # Enable 8-bit quantization to reduce memory usage\n",
        "    llm_int8_threshold=6.0,                   # LayerNorm precision threshold; layers with stddev < threshold stay in FP32\n",
        "    llm_int8_enable_fp32_cpu_offload=True     # Offload some FP32 operations to CPU to save GPU memory\n",
        ")\n",
        "\n",
        "# Load the pre-trained causal language model with quantization\n",
        "model = AutoModelForCausalLM.from_pretrained(\n",
        "    model_name,\n",
        "    quantization_config=bnb_config,           # Apply 8-bit quantization settings\n",
        "    device_map=\"auto\"                         # Automatically distribute model layers across available devices (e.g., GPU/CPU)\n",
        ")"
      ]
    },
    {
      "cell_type": "markdown",
      "metadata": {
        "id": "uQpC78xtBC2O"
      },
      "source": [
        "## **Apply LoRA**\n",
        "LoRA (Low-Rank Adaptation) is applied to reduce the number of trainable parameters by injecting adapters into selected attention components. For this task, only `q_proj`, `v_proj`, and `o_proj` are adapted to ensure the model follows strict, deterministic formatting without adding unnecessary creativity."
      ]
    },
    {
      "cell_type": "code",
      "execution_count": null,
      "metadata": {
        "id": "xf65tZTAsGbd"
      },
      "outputs": [],
      "source": [
        "lora_config = LoraConfig(\n",
        "    r=8,  # Rank of the low-rank decomposition (smaller = fewer parameters, faster training)\n",
        "    lora_alpha=16,  # Scaling factor for the adapted weights\n",
        "    target_modules=[\"q_proj\", \"v_proj\", \"o_proj\"],  # Specific attention projection layers to adapt\n",
        "    lora_dropout=0.05,  # Dropout applied within LoRA layers during training\n",
        "    bias=\"none\",  # Do not adapt bias terms\n",
        "    task_type=TaskType.CAUSAL_LM  # Specify task type for compatibility (causal language modeling)\n",
        ")\n",
        "\n",
        "# Wrap the base model with LoRA layers for parameter-efficient fine-tuning\n",
        "model = get_peft_model(model, lora_config)"
      ]
    },
    {
      "cell_type": "markdown",
      "metadata": {
        "id": "RFUVanO1CCd3"
      },
      "source": [
        "## **Initialize & Train Model**  "
      ]
    },
    {
      "cell_type": "code",
      "execution_count": null,
      "metadata": {
        "id": "iCGPwhyTXdWm"
      },
      "outputs": [],
      "source": [
        "# Custom Callback Function to Save the Model at its First Local Minimum Training Loss\n",
        "class SaveBestTrainingLossCallback(TrainerCallback):\n",
        "    def __init__(self):\n",
        "        self.best_loss = float('inf')\n",
        "\n",
        "    def on_log(self, args, state, control, logs=None, **kwargs):\n",
        "        if logs is None:\n",
        "            return control\n",
        "\n",
        "        train_loss = logs.get(\"loss\")\n",
        "        if train_loss is not None and train_loss < self.best_loss:\n",
        "            self.best_loss = train_loss\n",
        "            control.should_save = True  # Trigger save manually\n",
        "        return control\n"
      ]
    },
    {
      "cell_type": "code",
      "execution_count": null,
      "metadata": {
        "id": "ce0SgUi5sMqS"
      },
      "outputs": [],
      "source": [
        "# Training args\n",
        "training_args = TrainingArguments(\n",
        "    output_dir=\"./mistral-instruct-checkpoints\",\n",
        "    per_device_train_batch_size=1,\n",
        "    gradient_accumulation_steps=2,\n",
        "    num_train_epochs=2,\n",
        "    learning_rate=2e-4,\n",
        "    fp16=True,  # Enable 16-bit mixed precision for faster training and lower memory use\n",
        "    logging_steps=20,\n",
        "    save_strategy=\"steps\",\n",
        "    report_to=\"none\",\n",
        "    save_total_limit=1,   # Keep only the latest checkpoint to save space\n",
        ")\n"
      ]
    },
    {
      "cell_type": "code",
      "execution_count": null,
      "metadata": {
        "colab": {
          "base_uri": "https://localhost:8080/"
        },
        "id": "pHQ56VemsNtq",
        "outputId": "e8765807-9007-47f1-e6f0-20cec096b7a4"
      },
      "outputs": [
        {
          "name": "stderr",
          "output_type": "stream",
          "text": [
            "<ipython-input-62-b584c810f2d4>:2: FutureWarning: `tokenizer` is deprecated and will be removed in version 5.0.0 for `Trainer.__init__`. Use `processing_class` instead.\n",
            "  trainer = Trainer(\n",
            "No label_names provided for model class `PeftModelForCausalLM`. Since `PeftModel` hides base models input arguments, if label_names is not given, label_names can't be set automatically within `Trainer`. Note that empty label_names list will be used instead.\n"
          ]
        }
      ],
      "source": [
        "# Train\n",
        "trainer = Trainer(\n",
        "    model=model,\n",
        "    args=training_args,\n",
        "    train_dataset=tokenized_dataset,\n",
        "    tokenizer=tokenizer,\n",
        "    data_collator=DataCollatorForLanguageModeling(tokenizer, mlm=False),\n",
        "    callbacks=[SaveBestTrainingLossCallback()]\n",
        ")"
      ]
    },
    {
      "cell_type": "code",
      "execution_count": null,
      "metadata": {
        "colab": {
          "base_uri": "https://localhost:8080/",
          "height": 237
        },
        "id": "ffWLn6AU-t8y",
        "outputId": "9482af83-da56-48dc-d5a3-24879e7c954d"
      },
      "outputs": [
        {
          "data": {
            "text/html": [
              "\n",
              "    <div>\n",
              "      \n",
              "      <progress value='86' max='86' style='width:300px; height:20px; vertical-align: middle;'></progress>\n",
              "      [86/86 02:06, Epoch 2/2]\n",
              "    </div>\n",
              "    <table border=\"1\" class=\"dataframe\">\n",
              "  <thead>\n",
              " <tr style=\"text-align: left;\">\n",
              "      <th>Step</th>\n",
              "      <th>Training Loss</th>\n",
              "    </tr>\n",
              "  </thead>\n",
              "  <tbody>\n",
              "    <tr>\n",
              "      <td>20</td>\n",
              "      <td>1.681500</td>\n",
              "    </tr>\n",
              "    <tr>\n",
              "      <td>40</td>\n",
              "      <td>0.997800</td>\n",
              "    </tr>\n",
              "    <tr>\n",
              "      <td>60</td>\n",
              "      <td>0.867500</td>\n",
              "    </tr>\n",
              "    <tr>\n",
              "      <td>80</td>\n",
              "      <td>0.892000</td>\n",
              "    </tr>\n",
              "  </tbody>\n",
              "</table><p>"
            ],
            "text/plain": [
              "<IPython.core.display.HTML object>"
            ]
          },
          "metadata": {},
          "output_type": "display_data"
        },
        {
          "data": {
            "text/plain": [
              "TrainOutput(global_step=86, training_loss=1.0847518388615098, metrics={'train_runtime': 128.1161, 'train_samples_per_second': 1.343, 'train_steps_per_second': 0.671, 'total_flos': 1.1909695776915456e+16, 'train_loss': 1.0847518388615098, 'epoch': 2.0})"
            ]
          },
          "execution_count": 77,
          "metadata": {},
          "output_type": "execute_result"
        }
      ],
      "source": [
        "trainer.train()"
      ]
    },
    {
      "cell_type": "markdown",
      "metadata": {
        "id": "gJLt8-EgCN-f"
      },
      "source": [
        "## **Save Model**"
      ]
    },
    {
      "cell_type": "markdown",
      "metadata": {
        "id": "M1UrBczPELSj"
      },
      "source": [
        "###**Save the LoRA-adapted model and tokenizer**"
      ]
    },
    {
      "cell_type": "code",
      "execution_count": null,
      "metadata": {
        "colab": {
          "base_uri": "https://localhost:8080/"
        },
        "id": "LIcEvHTjsRTg",
        "outputId": "586b5f0e-3955-41c3-ed6c-2210873c7798"
      },
      "outputs": [
        {
          "data": {
            "text/plain": [
              "('/content/drive/MyDrive/Colab Notebooks/TicketHub/Training_Mistral/tokenizer_config.json',\n",
              " '/content/drive/MyDrive/Colab Notebooks/TicketHub/Training_Mistral/special_tokens_map.json',\n",
              " '/content/drive/MyDrive/Colab Notebooks/TicketHub/Training_Mistral/chat_template.jinja',\n",
              " '/content/drive/MyDrive/Colab Notebooks/TicketHub/Training_Mistral/tokenizer.model',\n",
              " '/content/drive/MyDrive/Colab Notebooks/TicketHub/Training_Mistral/added_tokens.json',\n",
              " '/content/drive/MyDrive/Colab Notebooks/TicketHub/Training_Mistral/tokenizer.json')"
            ]
          },
          "execution_count": 65,
          "metadata": {},
          "output_type": "execute_result"
        }
      ],
      "source": [
        "# Define the path to save PEFT adapter weights and tokenizer\n",
        "save_path = \"/content/drive/MyDrive/Colab Notebooks/TicketHub/Training_Mistral\"\n",
        "\n",
        "# Save only the adapter weights (not full model) and trainer state\n",
        "trainer.save_model(save_path)\n",
        "\n",
        "# Save the tokenizer config\n",
        "tokenizer.save_pretrained(save_path)"
      ]
    },
    {
      "cell_type": "markdown",
      "metadata": {
        "id": "cpW-uW27EZUX"
      },
      "source": [
        "###**Reload the LoRA-adapted model and tokenizer**"
      ]
    },
    {
      "cell_type": "code",
      "execution_count": null,
      "metadata": {
        "colab": {
          "base_uri": "https://localhost:8080/",
          "height": 357,
          "referenced_widgets": [
            "f5de241ec1b74f879fb869cc8c7a9b07",
            "54590ae2047b4dbd80183740b581875d",
            "4cb47a5a7ba1492b93d75758155d6567",
            "cebe54e5a17c4a25bd9ad501df341cc4",
            "219e270cf9cd452e85220e1963df5c5d",
            "a67b942794f44eb08a843db02a9df990",
            "0158bafe393149e687387358ba3f379e",
            "a4a5c045efdb420dbce3f9203222c016",
            "086b2bbc78b2417ba4544e8c8f470b65",
            "867dcf331394465ca6a29c94e0c95911",
            "7af3e20fdb1c4ac68577b30962a7c26f",
            "04034f7892d148cbb996e1a393e97b4c",
            "8b95fac31dd442c387626c3cfce6d573",
            "63a06392374746c4b9d7a88fdec2c6ae",
            "aeee27fb5fc149a5a629ffe0b614c937",
            "2d037caa422f456fb260ad650ed11d5a",
            "7747ab243afb48deb1f7778033f2854d",
            "a92ffc8d057d442aa9d2796eca368fe8",
            "8af97001363b47c5863906601c3d545f",
            "2a3a246e712f416b902cb5c3d48376e7",
            "4c8afdbb4b1641f38e6bb77e48a43360",
            "25f1d76a9b7d421a81176d69b663a849",
            "293fa460e8d84b4289914a489f3e7f3a",
            "cbeb4a5a41ab48db86e8d1152b0f7fc7",
            "fab16fc6298047fc8262f389d595db58",
            "42694e029dbf4f26bca26064195a92ed",
            "dce55e40ae8348389b6f2be083fcbc7d",
            "8fa39a81807e42d6b128dc1ad2e61c5c",
            "0afd484648404b8cbefa7322be63df3d",
            "399553bf2a164ff0a31d103929f69445",
            "72b4c91bca1a41169f516908f74a2a02",
            "e4f6e2d54e124083a124c54fe8bc2997",
            "ebf2d49d548d40818e8ef515b0cef2fe",
            "68dac80c79db4907bf38d22a57ae89cd",
            "e4f537cff20a469194f054f32e411130",
            "26688ee5bc9642eda4d952dbef98b123",
            "26aa6e708ff74de09a29c8ed5ed4bf66",
            "a97e52e7fd79404f978edccbf9698197",
            "794d72527eb64cccbf78374fcbee1e2d",
            "810bb561c8244f1b91f71d397a9d0826",
            "462858156bc140819add13ad8febe6ff",
            "4c8331202fba41c380ab936a0bb55fd6",
            "b8877a95bc06484fbe0322ac939d5357",
            "65f93d1cd9fd43bc90b93ed184d2d979",
            "4fb56d1c231648cba4654f770c278a2e",
            "93689229c08849e4804253343c899f9f",
            "e46e2c5005174f9db9c9207635b11d15",
            "68d9462a47a149289b9ef3652a722824",
            "c52d8241109645759d36302e80094b6f",
            "30223836caf84f77bcdf443f1feb2313",
            "7f7072f345c44463a0a31cb8dd241559",
            "dcb9eda352b140ff96602cd2fe5bad60",
            "d839bd25eda54177ba87b327b1d3c08a",
            "c0c78e6262574ab19dc9f991b8762f71",
            "cf44372eede54372bcc29ae0764964b8",
            "2c7e6f6f5cdd4b159ce403c5c3a3821c",
            "4295ddbfc16046ef8179448e740716e7",
            "604dc350628f44448c6000d4b9da9921",
            "0c462b189da94dc98246cd4e75312871",
            "ad426a353792445b97234638b0b6c8fc",
            "93e450f2197545f0a8a0c2a757dc54f3",
            "c2e0cb7adbc940d99c0285b22c8c58a4",
            "ac15d6b3a22c40d29b8cc38fe269935e",
            "2e7e5db9ded74fe3b458d2aa65af0dbb",
            "f050d9657bed4309b1b4600292034b49",
            "f61d8b626c96431d928cf780e8471cfa",
            "3a84c2b92670433a99145d4f403020a4",
            "13ab504c5dac4674885af24bfeb13162",
            "8256267781d94538b9c78c46d3c4cb71",
            "d72f407d6bac4ac9b7cf93c1d38953b9",
            "b2bd042d28ca490ba5f91cd26aebcd83",
            "3394755c16ec43a98ec729ea661ecbe2",
            "67d60960a27c498badc9253361ef09d6",
            "fc0e4e0534224557898ae49fd328247f",
            "ef548fd64dcd49b1ae3c86b646894e2f",
            "55644510692644d5b031551f733f2537",
            "7444ddddba10496589dd6b95ddbe8fd6",
            "2d07f06fce1e44d58497374218871225",
            "6901d4ebd27b4051b1febca71b23e2ee",
            "24d472322326499099c6d2149ca223f4",
            "0a872574b598433eac3f16ec41c69523",
            "9fa9d45c7ee749c49300e77754952aa0",
            "8f18ed3a3d034ac1870e65af69976f6e",
            "8cb19bf69b4f44c996bf3495c90206a3",
            "2d364381c37b402fb3e4f4a0e3a09f7d",
            "28247da7c9634acb9f044c3990edfe0a",
            "5f545e49a7e64aba9440ffa72288f1d8",
            "7ff13e845dfc438cadf1edf377acfce7"
          ]
        },
        "id": "17wwM4bFbK8i",
        "outputId": "3219f72c-2c98-4bc1-ec1e-25e6b2f3520e"
      },
      "outputs": [
        {
          "data": {
            "application/vnd.jupyter.widget-view+json": {
              "model_id": "f5de241ec1b74f879fb869cc8c7a9b07",
              "version_major": 2,
              "version_minor": 0
            },
            "text/plain": [
              "config.json:   0%|          | 0.00/601 [00:00<?, ?B/s]"
            ]
          },
          "metadata": {},
          "output_type": "display_data"
        },
        {
          "data": {
            "application/vnd.jupyter.widget-view+json": {
              "model_id": "04034f7892d148cbb996e1a393e97b4c",
              "version_major": 2,
              "version_minor": 0
            },
            "text/plain": [
              "model.safetensors.index.json:   0%|          | 0.00/23.9k [00:00<?, ?B/s]"
            ]
          },
          "metadata": {},
          "output_type": "display_data"
        },
        {
          "data": {
            "application/vnd.jupyter.widget-view+json": {
              "model_id": "293fa460e8d84b4289914a489f3e7f3a",
              "version_major": 2,
              "version_minor": 0
            },
            "text/plain": [
              "Fetching 3 files:   0%|          | 0/3 [00:00<?, ?it/s]"
            ]
          },
          "metadata": {},
          "output_type": "display_data"
        },
        {
          "data": {
            "application/vnd.jupyter.widget-view+json": {
              "model_id": "68dac80c79db4907bf38d22a57ae89cd",
              "version_major": 2,
              "version_minor": 0
            },
            "text/plain": [
              "model-00003-of-00003.safetensors:   0%|          | 0.00/4.55G [00:00<?, ?B/s]"
            ]
          },
          "metadata": {},
          "output_type": "display_data"
        },
        {
          "data": {
            "application/vnd.jupyter.widget-view+json": {
              "model_id": "4fb56d1c231648cba4654f770c278a2e",
              "version_major": 2,
              "version_minor": 0
            },
            "text/plain": [
              "model-00002-of-00003.safetensors:   0%|          | 0.00/5.00G [00:00<?, ?B/s]"
            ]
          },
          "metadata": {},
          "output_type": "display_data"
        },
        {
          "data": {
            "application/vnd.jupyter.widget-view+json": {
              "model_id": "2c7e6f6f5cdd4b159ce403c5c3a3821c",
              "version_major": 2,
              "version_minor": 0
            },
            "text/plain": [
              "model-00001-of-00003.safetensors:   0%|          | 0.00/4.95G [00:00<?, ?B/s]"
            ]
          },
          "metadata": {},
          "output_type": "display_data"
        },
        {
          "data": {
            "application/vnd.jupyter.widget-view+json": {
              "model_id": "3a84c2b92670433a99145d4f403020a4",
              "version_major": 2,
              "version_minor": 0
            },
            "text/plain": [
              "Loading checkpoint shards:   0%|          | 0/3 [00:00<?, ?it/s]"
            ]
          },
          "metadata": {},
          "output_type": "display_data"
        },
        {
          "data": {
            "application/vnd.jupyter.widget-view+json": {
              "model_id": "2d07f06fce1e44d58497374218871225",
              "version_major": 2,
              "version_minor": 0
            },
            "text/plain": [
              "generation_config.json:   0%|          | 0.00/116 [00:00<?, ?B/s]"
            ]
          },
          "metadata": {},
          "output_type": "display_data"
        }
      ],
      "source": [
        "# Define the path where the adapter and tokenizer were saved\n",
        "adapter_path = \"/content/drive/MyDrive/Colab Notebooks/TicketHub/Training_Mistral\"\n",
        "\n",
        "# Load tokenizer from saved directory\n",
        "tokenizer = AutoTokenizer.from_pretrained(adapter_path)\n",
        "\n",
        "# Load PEFT config to identify the original base model used\n",
        "peft_config = PeftConfig.from_pretrained(adapter_path)\n",
        "\n",
        "# Load the original base model\n",
        "base_model = AutoModelForCausalLM.from_pretrained(peft_config.base_model_name_or_path)"
      ]
    },
    {
      "cell_type": "code",
      "execution_count": null,
      "metadata": {
        "id": "shQ8ogQpdW_z"
      },
      "outputs": [],
      "source": [
        "# Load the LoRA adapter weights onto the base model\n",
        "model = PeftModel.from_pretrained(base_model, adapter_path)"
      ]
    },
    {
      "cell_type": "code",
      "execution_count": null,
      "metadata": {
        "id": "yYSSmAUcebtv"
      },
      "outputs": [],
      "source": [
        "# Merge LoRA weights into base model and unload the adapter\n",
        "model = model.merge_and_unload()"
      ]
    },
    {
      "cell_type": "code",
      "execution_count": null,
      "metadata": {
        "id": "mmJlw61BDcQi"
      },
      "outputs": [],
      "source": [
        "# Save the final merged model and tokenizer\n",
        "save_path = \"/content/drive/My Drive/Colab Notebooks/TicketHub/Finetuned_Mistral\"\n",
        "model.save_pretrained(save_path)\n",
        "tokenizer.save_pretrained(save_path)"
      ]
    },
    {
      "cell_type": "markdown",
      "metadata": {
        "id": "dH1j6tPgCabM"
      },
      "source": [
        "## **Inference Preparation**"
      ]
    },
    {
      "cell_type": "code",
      "execution_count": null,
      "metadata": {
        "colab": {
          "base_uri": "https://localhost:8080/"
        },
        "id": "LchtgNPfebcc",
        "outputId": "edc03e66-1297-41d2-a7db-3af47cc2ca9f"
      },
      "outputs": [
        {
          "data": {
            "text/plain": [
              "PeftModelForCausalLM(\n",
              "  (base_model): LoraModel(\n",
              "    (model): MistralForCausalLM(\n",
              "      (model): MistralModel(\n",
              "        (embed_tokens): Embedding(32768, 4096)\n",
              "        (layers): ModuleList(\n",
              "          (0-31): 32 x MistralDecoderLayer(\n",
              "            (self_attn): MistralAttention(\n",
              "              (q_proj): lora.Linear8bitLt(\n",
              "                (base_layer): Linear8bitLt(in_features=4096, out_features=4096, bias=False)\n",
              "                (lora_dropout): ModuleDict(\n",
              "                  (default): Dropout(p=0.05, inplace=False)\n",
              "                )\n",
              "                (lora_A): ModuleDict(\n",
              "                  (default): Linear(in_features=4096, out_features=8, bias=False)\n",
              "                )\n",
              "                (lora_B): ModuleDict(\n",
              "                  (default): Linear(in_features=8, out_features=4096, bias=False)\n",
              "                )\n",
              "                (lora_embedding_A): ParameterDict()\n",
              "                (lora_embedding_B): ParameterDict()\n",
              "                (lora_magnitude_vector): ModuleDict()\n",
              "              )\n",
              "              (k_proj): Linear8bitLt(in_features=4096, out_features=1024, bias=False)\n",
              "              (v_proj): lora.Linear8bitLt(\n",
              "                (base_layer): Linear8bitLt(in_features=4096, out_features=1024, bias=False)\n",
              "                (lora_dropout): ModuleDict(\n",
              "                  (default): Dropout(p=0.05, inplace=False)\n",
              "                )\n",
              "                (lora_A): ModuleDict(\n",
              "                  (default): Linear(in_features=4096, out_features=8, bias=False)\n",
              "                )\n",
              "                (lora_B): ModuleDict(\n",
              "                  (default): Linear(in_features=8, out_features=1024, bias=False)\n",
              "                )\n",
              "                (lora_embedding_A): ParameterDict()\n",
              "                (lora_embedding_B): ParameterDict()\n",
              "                (lora_magnitude_vector): ModuleDict()\n",
              "              )\n",
              "              (o_proj): lora.Linear8bitLt(\n",
              "                (base_layer): Linear8bitLt(in_features=4096, out_features=4096, bias=False)\n",
              "                (lora_dropout): ModuleDict(\n",
              "                  (default): Dropout(p=0.05, inplace=False)\n",
              "                )\n",
              "                (lora_A): ModuleDict(\n",
              "                  (default): Linear(in_features=4096, out_features=8, bias=False)\n",
              "                )\n",
              "                (lora_B): ModuleDict(\n",
              "                  (default): Linear(in_features=8, out_features=4096, bias=False)\n",
              "                )\n",
              "                (lora_embedding_A): ParameterDict()\n",
              "                (lora_embedding_B): ParameterDict()\n",
              "                (lora_magnitude_vector): ModuleDict()\n",
              "              )\n",
              "            )\n",
              "            (mlp): MistralMLP(\n",
              "              (gate_proj): Linear8bitLt(in_features=4096, out_features=14336, bias=False)\n",
              "              (up_proj): Linear8bitLt(in_features=4096, out_features=14336, bias=False)\n",
              "              (down_proj): Linear8bitLt(in_features=14336, out_features=4096, bias=False)\n",
              "              (act_fn): SiLU()\n",
              "            )\n",
              "            (input_layernorm): MistralRMSNorm((4096,), eps=1e-05)\n",
              "            (post_attention_layernorm): MistralRMSNorm((4096,), eps=1e-05)\n",
              "          )\n",
              "        )\n",
              "        (norm): MistralRMSNorm((4096,), eps=1e-05)\n",
              "        (rotary_emb): MistralRotaryEmbedding()\n",
              "      )\n",
              "      (lm_head): Linear(in_features=4096, out_features=32768, bias=False)\n",
              "    )\n",
              "  )\n",
              ")"
            ]
          },
          "execution_count": 64,
          "metadata": {},
          "output_type": "execute_result"
        }
      ],
      "source": [
        "# Enables inference\n",
        "model.eval()"
      ]
    },
    {
      "cell_type": "code",
      "execution_count": 7,
      "metadata": {
        "id": "4qyKyMKUBFgz"
      },
      "outputs": [],
      "source": [
        "# Load inference data\n",
        "df_tickets = pd.read_csv(\"/content/drive/MyDrive/Colab Notebooks/TicketHub/Finetuning Mistral-Instruct using LoRA/full_init_tdx_cln_tkts.csv\")\n"
      ]
    },
    {
      "cell_type": "code",
      "execution_count": 8,
      "metadata": {
        "colab": {
          "base_uri": "https://localhost:8080/",
          "height": 521
        },
        "id": "N4Rm7jjt6wxw",
        "outputId": "a98c5201-a70f-4a78-d02d-197da47ad6ca"
      },
      "outputs": [
        {
          "data": {
            "application/vnd.google.colaboratory.intrinsic+json": {
              "summary": "{\n  \"name\": \"df_tickets\",\n  \"rows\": 6416,\n  \"fields\": [\n    {\n      \"column\": \"issuenumber\",\n      \"properties\": {\n        \"dtype\": \"number\",\n        \"std\": 241109,\n        \"min\": 185,\n        \"max\": 796487,\n        \"num_unique_values\": 6416,\n        \"samples\": [\n          531483,\n          553267,\n          67669\n        ],\n        \"semantic_type\": \"\",\n        \"description\": \"\"\n      }\n    },\n    {\n      \"column\": \"title\",\n      \"properties\": {\n        \"dtype\": \"string\",\n        \"num_unique_values\": 5958,\n        \"samples\": [\n          \"Write access in data depot\",\n          \"RE: Order #11943 Payment Information Request / Geddes Platform / Wang\",\n          \"Installation path not writeable for package\"\n        ],\n        \"semantic_type\": \"\",\n        \"description\": \"\"\n      }\n    },\n    {\n      \"column\": \"datesubmitted\",\n      \"properties\": {\n        \"dtype\": \"object\",\n        \"num_unique_values\": 654,\n        \"samples\": [\n          \"2025-02-24\",\n          \"2023-08-20\",\n          \"2024-07-25\"\n        ],\n        \"semantic_type\": \"\",\n        \"description\": \"\"\n      }\n    },\n    {\n      \"column\": \"dateclosed\",\n      \"properties\": {\n        \"dtype\": \"object\",\n        \"num_unique_values\": 514,\n        \"samples\": [\n          \"2024-03-09\",\n          \"2025-04-04\",\n          \"2025-05-27\"\n        ],\n        \"semantic_type\": \"\",\n        \"description\": \"\"\n      }\n    },\n    {\n      \"column\": \"customernote\",\n      \"properties\": {\n        \"dtype\": \"string\",\n        \"num_unique_values\": 6408,\n        \"samples\": [\n          \"Hello, I have some jobs on Bell but they crashed with an ExitCode of 135. I was unable to get an error from these runs, and they take very long on debug mode. Just to get a better indication of the problem, what does ExitCode 135 typically indicate? Best Regards, name. Purdue Physics PhD Student ;  \\\" Hi name, Thank you for reaching out. As far as I know, Exit Code 135 could possibly be related to memory access errors. Warm regards, name ;  Thank you so much! Best Regards, name. Purdue Physics PhD Student From: Purdue IT Service Date: Thursday, February 22, 2024 at 15:46 To: name Parvir Subject: Your \\\"(Meaning of ExitCode 135)\\\" ticket was updated. \\\" ;  \\\" You are welcome, name. I'll tentatively mark this ticket as resolved then. Please feel free to contact us again if you have any other questions. Thanks, name\\\" ; \",\n          \"Hi, \\ud83d\\udc4b\\ud83c\\udffd Sorry I still not having access to hamakerb. name \\ud83e\\uddd4\\ud83c\\udffd Department of Food Science, Purdue University \\ud83d\\ude82 745 Agriculture Mall Drive, Office B245 \\ud83d\\udc47\\ud83c\\udffd West Lafayette, IN 47907-2009 Book a meeting with me From: Rosen Center for Advanced Computing Sent: Thursday, February 13, 2025 2:40 PM To: name Subject: Access Approved Hello name, You have been granted access to RCAC resources. You have been granted access to the following job submission queues, Unix groups, and other resources. Bell: hamakerb (account ready now) If you have any questions about this email please contact . \\u00a9 2025 RCAC , a division of Purdue IT . All rights reserved. ;  \\\" Hi name, Thank you for contacting RCAC support. I see that you have access to the hamakerb queue on bell. It's an account that you can submit your jobs to and it's not a physical folder you can access using cd. Let me know if you have further questions. Best, I.name RCAC support team \\\" ;  \\\" Hi, Since we haven't heard feedback from you for some time, issues seem to have been solved. I will temporarily mark this ticket as resolved. Feel free to re-open it within the next 7 days if you still need assistance on this issue. Best, I.A RCAC support team\",\n          \"Hello, I was trying to access the Jupyter notebook app through the Interactive tabs that used to be present in the gateway page,but now I was not able to access it from today morning. May I know is there any alternative way I can open my Jupyter notebook GUI. Thanks, name ;  \\\" Hi name, Thank you for contacting us. The issue should be fixed now. I'm marking this ticket as resolved at this point. If you see any further issues on Anvil, please submit a ticket via the ACCESS user support portal: https://support.access-ci.org/help-ticket We are using that ticketing system for communications about problems on Anvil. Thanks, name\\\" ;  \\\"Hi name, Apologies for the previous message. It was meant to be sent to another user. The problem on Negishi should also be resolved. Thanks, name\\\" ; \"\n        ],\n        \"semantic_type\": \"\",\n        \"description\": \"\"\n      }\n    },\n    {\n      \"column\": \"submittedby\",\n      \"properties\": {\n        \"dtype\": \"category\",\n        \"num_unique_values\": 2616,\n        \"samples\": [\n          \"mart2209@purdue.edu\",\n          \"zhou1057@purdue.edu\",\n          \"peng397@purdue.edu\"\n        ],\n        \"semantic_type\": \"\",\n        \"description\": \"\"\n      }\n    },\n    {\n      \"column\": \"submittername\",\n      \"properties\": {\n        \"dtype\": \"category\",\n        \"num_unique_values\": 2599,\n        \"samples\": [\n          \"Sendi Mejia Jimenez\",\n          \"Zhichen Nian\",\n          \"Jose Rivas\"\n        ],\n        \"semantic_type\": \"\",\n        \"description\": \"\"\n      }\n    },\n    {\n      \"column\": \"assignee\",\n      \"properties\": {\n        \"dtype\": \"category\",\n        \"num_unique_values\": 59,\n        \"samples\": [\n          \"Guangzhen Jin\",\n          \"Charles Christoffer\",\n          \"Stefan Piperov\"\n        ],\n        \"semantic_type\": \"\",\n        \"description\": \"\"\n      }\n    },\n    {\n      \"column\": \"numbermessages\",\n      \"properties\": {\n        \"dtype\": \"number\",\n        \"std\": 5,\n        \"min\": 1,\n        \"max\": 156,\n        \"num_unique_values\": 45,\n        \"samples\": [\n          33,\n          25,\n          18\n        ],\n        \"semantic_type\": \"\",\n        \"description\": \"\"\n      }\n    },\n    {\n      \"column\": \"timeopen\",\n      \"properties\": {\n        \"dtype\": \"number\",\n        \"std\": 17,\n        \"min\": 0,\n        \"max\": 292,\n        \"num_unique_values\": 128,\n        \"samples\": [\n          152,\n          78,\n          31\n        ],\n        \"semantic_type\": \"\",\n        \"description\": \"\"\n      }\n    },\n    {\n      \"column\": \"weeknumber\",\n      \"properties\": {\n        \"dtype\": \"number\",\n        \"std\": 15,\n        \"min\": 1,\n        \"max\": 52,\n        \"num_unique_values\": 52,\n        \"samples\": [\n          46,\n          19,\n          4\n        ],\n        \"semantic_type\": \"\",\n        \"description\": \"\"\n      }\n    },\n    {\n      \"column\": \"year\",\n      \"properties\": {\n        \"dtype\": \"number\",\n        \"std\": 0,\n        \"min\": 2023,\n        \"max\": 2025,\n        \"num_unique_values\": 3,\n        \"samples\": [\n          2023,\n          2024,\n          2025\n        ],\n        \"semantic_type\": \"\",\n        \"description\": \"\"\n      }\n    },\n    {\n      \"column\": \"weekstart\",\n      \"properties\": {\n        \"dtype\": \"object\",\n        \"num_unique_values\": 99,\n        \"samples\": [\n          \"2025-01-27\",\n          \"2023-09-04\",\n          \"2025-05-05\"\n        ],\n        \"semantic_type\": \"\",\n        \"description\": \"\"\n      }\n    }\n  ]\n}",
              "type": "dataframe",
              "variable_name": "df_tickets"
            },
            "text/html": [
              "\n",
              "  <div id=\"df-99df3e94-8fc3-428f-bb24-25f077465a81\" class=\"colab-df-container\">\n",
              "    <div>\n",
              "<style scoped>\n",
              "    .dataframe tbody tr th:only-of-type {\n",
              "        vertical-align: middle;\n",
              "    }\n",
              "\n",
              "    .dataframe tbody tr th {\n",
              "        vertical-align: top;\n",
              "    }\n",
              "\n",
              "    .dataframe thead th {\n",
              "        text-align: right;\n",
              "    }\n",
              "</style>\n",
              "<table border=\"1\" class=\"dataframe\">\n",
              "  <thead>\n",
              "    <tr style=\"text-align: right;\">\n",
              "      <th></th>\n",
              "      <th>issuenumber</th>\n",
              "      <th>title</th>\n",
              "      <th>datesubmitted</th>\n",
              "      <th>dateclosed</th>\n",
              "      <th>customernote</th>\n",
              "      <th>submittedby</th>\n",
              "      <th>submittername</th>\n",
              "      <th>assignee</th>\n",
              "      <th>numbermessages</th>\n",
              "      <th>timeopen</th>\n",
              "      <th>weeknumber</th>\n",
              "      <th>year</th>\n",
              "      <th>weekstart</th>\n",
              "    </tr>\n",
              "  </thead>\n",
              "  <tbody>\n",
              "    <tr>\n",
              "      <th>0</th>\n",
              "      <td>185</td>\n",
              "      <td>Server Availability for Hive Database Usage</td>\n",
              "      <td>2023-07-12</td>\n",
              "      <td>2023-08-14</td>\n",
              "      <td>Dear Purdue RCAC Team, I hope this email finds...</td>\n",
              "      <td>zhan4636@purdue.edu</td>\n",
              "      <td>Zhexi Zhang</td>\n",
              "      <td>Guangzhen Jin</td>\n",
              "      <td>3</td>\n",
              "      <td>24</td>\n",
              "      <td>28</td>\n",
              "      <td>2023</td>\n",
              "      <td>2023-07-10</td>\n",
              "    </tr>\n",
              "    <tr>\n",
              "      <th>1</th>\n",
              "      <td>400</td>\n",
              "      <td>Research Data Depot inquiry</td>\n",
              "      <td>2023-07-12</td>\n",
              "      <td>2023-08-22</td>\n",
              "      <td>Hello and good morning. name Claxon (copied) i...</td>\n",
              "      <td>phill309@purdue.edu</td>\n",
              "      <td>Michael Phillips</td>\n",
              "      <td>Guangzhen Jin</td>\n",
              "      <td>11</td>\n",
              "      <td>30</td>\n",
              "      <td>28</td>\n",
              "      <td>2023</td>\n",
              "      <td>2023-07-10</td>\n",
              "    </tr>\n",
              "    <tr>\n",
              "      <th>2</th>\n",
              "      <td>406</td>\n",
              "      <td>c-span data depot</td>\n",
              "      <td>2023-07-12</td>\n",
              "      <td>2023-08-25</td>\n",
              "      <td>To whom it may concern- I would like to set up...</td>\n",
              "      <td>bjdietri@purdue.edu</td>\n",
              "      <td>Bryce Dietrich</td>\n",
              "      <td>Guangzhen Jin</td>\n",
              "      <td>5</td>\n",
              "      <td>33</td>\n",
              "      <td>28</td>\n",
              "      <td>2023</td>\n",
              "      <td>2023-07-10</td>\n",
              "    </tr>\n",
              "    <tr>\n",
              "      <th>3</th>\n",
              "      <td>448</td>\n",
              "      <td>Huge pending time for gilbreth cluster</td>\n",
              "      <td>2023-07-12</td>\n",
              "      <td>2023-08-14</td>\n",
              "      <td>Hello RCAC team, I have a problem where it put...</td>\n",
              "      <td>nguye713@purdue.edu</td>\n",
              "      <td>Anh-luu Nguyen</td>\n",
              "      <td>Guangzhen Jin</td>\n",
              "      <td>6</td>\n",
              "      <td>24</td>\n",
              "      <td>28</td>\n",
              "      <td>2023</td>\n",
              "      <td>2023-07-10</td>\n",
              "    </tr>\n",
              "    <tr>\n",
              "      <th>4</th>\n",
              "      <td>615</td>\n",
              "      <td>Access to Tecplot on Bell</td>\n",
              "      <td>2023-07-12</td>\n",
              "      <td>2023-08-07</td>\n",
              "      <td>Hi, When I try to load tecplot module on bell,...</td>\n",
              "      <td>ksreen@purdue.edu</td>\n",
              "      <td>Kush Sreen</td>\n",
              "      <td>Guangzhen Jin</td>\n",
              "      <td>2</td>\n",
              "      <td>19</td>\n",
              "      <td>28</td>\n",
              "      <td>2023</td>\n",
              "      <td>2023-07-10</td>\n",
              "    </tr>\n",
              "  </tbody>\n",
              "</table>\n",
              "</div>\n",
              "    <div class=\"colab-df-buttons\">\n",
              "\n",
              "  <div class=\"colab-df-container\">\n",
              "    <button class=\"colab-df-convert\" onclick=\"convertToInteractive('df-99df3e94-8fc3-428f-bb24-25f077465a81')\"\n",
              "            title=\"Convert this dataframe to an interactive table.\"\n",
              "            style=\"display:none;\">\n",
              "\n",
              "  <svg xmlns=\"http://www.w3.org/2000/svg\" height=\"24px\" viewBox=\"0 -960 960 960\">\n",
              "    <path d=\"M120-120v-720h720v720H120Zm60-500h600v-160H180v160Zm220 220h160v-160H400v160Zm0 220h160v-160H400v160ZM180-400h160v-160H180v160Zm440 0h160v-160H620v160ZM180-180h160v-160H180v160Zm440 0h160v-160H620v160Z\"/>\n",
              "  </svg>\n",
              "    </button>\n",
              "\n",
              "  <style>\n",
              "    .colab-df-container {\n",
              "      display:flex;\n",
              "      gap: 12px;\n",
              "    }\n",
              "\n",
              "    .colab-df-convert {\n",
              "      background-color: #E8F0FE;\n",
              "      border: none;\n",
              "      border-radius: 50%;\n",
              "      cursor: pointer;\n",
              "      display: none;\n",
              "      fill: #1967D2;\n",
              "      height: 32px;\n",
              "      padding: 0 0 0 0;\n",
              "      width: 32px;\n",
              "    }\n",
              "\n",
              "    .colab-df-convert:hover {\n",
              "      background-color: #E2EBFA;\n",
              "      box-shadow: 0px 1px 2px rgba(60, 64, 67, 0.3), 0px 1px 3px 1px rgba(60, 64, 67, 0.15);\n",
              "      fill: #174EA6;\n",
              "    }\n",
              "\n",
              "    .colab-df-buttons div {\n",
              "      margin-bottom: 4px;\n",
              "    }\n",
              "\n",
              "    [theme=dark] .colab-df-convert {\n",
              "      background-color: #3B4455;\n",
              "      fill: #D2E3FC;\n",
              "    }\n",
              "\n",
              "    [theme=dark] .colab-df-convert:hover {\n",
              "      background-color: #434B5C;\n",
              "      box-shadow: 0px 1px 3px 1px rgba(0, 0, 0, 0.15);\n",
              "      filter: drop-shadow(0px 1px 2px rgba(0, 0, 0, 0.3));\n",
              "      fill: #FFFFFF;\n",
              "    }\n",
              "  </style>\n",
              "\n",
              "    <script>\n",
              "      const buttonEl =\n",
              "        document.querySelector('#df-99df3e94-8fc3-428f-bb24-25f077465a81 button.colab-df-convert');\n",
              "      buttonEl.style.display =\n",
              "        google.colab.kernel.accessAllowed ? 'block' : 'none';\n",
              "\n",
              "      async function convertToInteractive(key) {\n",
              "        const element = document.querySelector('#df-99df3e94-8fc3-428f-bb24-25f077465a81');\n",
              "        const dataTable =\n",
              "          await google.colab.kernel.invokeFunction('convertToInteractive',\n",
              "                                                    [key], {});\n",
              "        if (!dataTable) return;\n",
              "\n",
              "        const docLinkHtml = 'Like what you see? Visit the ' +\n",
              "          '<a target=\"_blank\" href=https://colab.research.google.com/notebooks/data_table.ipynb>data table notebook</a>'\n",
              "          + ' to learn more about interactive tables.';\n",
              "        element.innerHTML = '';\n",
              "        dataTable['output_type'] = 'display_data';\n",
              "        await google.colab.output.renderOutput(dataTable, element);\n",
              "        const docLink = document.createElement('div');\n",
              "        docLink.innerHTML = docLinkHtml;\n",
              "        element.appendChild(docLink);\n",
              "      }\n",
              "    </script>\n",
              "  </div>\n",
              "\n",
              "\n",
              "    <div id=\"df-f7fe2d2a-3328-4f94-9c85-3b8528bc2ed2\">\n",
              "      <button class=\"colab-df-quickchart\" onclick=\"quickchart('df-f7fe2d2a-3328-4f94-9c85-3b8528bc2ed2')\"\n",
              "                title=\"Suggest charts\"\n",
              "                style=\"display:none;\">\n",
              "\n",
              "<svg xmlns=\"http://www.w3.org/2000/svg\" height=\"24px\"viewBox=\"0 0 24 24\"\n",
              "     width=\"24px\">\n",
              "    <g>\n",
              "        <path d=\"M19 3H5c-1.1 0-2 .9-2 2v14c0 1.1.9 2 2 2h14c1.1 0 2-.9 2-2V5c0-1.1-.9-2-2-2zM9 17H7v-7h2v7zm4 0h-2V7h2v10zm4 0h-2v-4h2v4z\"/>\n",
              "    </g>\n",
              "</svg>\n",
              "      </button>\n",
              "\n",
              "<style>\n",
              "  .colab-df-quickchart {\n",
              "      --bg-color: #E8F0FE;\n",
              "      --fill-color: #1967D2;\n",
              "      --hover-bg-color: #E2EBFA;\n",
              "      --hover-fill-color: #174EA6;\n",
              "      --disabled-fill-color: #AAA;\n",
              "      --disabled-bg-color: #DDD;\n",
              "  }\n",
              "\n",
              "  [theme=dark] .colab-df-quickchart {\n",
              "      --bg-color: #3B4455;\n",
              "      --fill-color: #D2E3FC;\n",
              "      --hover-bg-color: #434B5C;\n",
              "      --hover-fill-color: #FFFFFF;\n",
              "      --disabled-bg-color: #3B4455;\n",
              "      --disabled-fill-color: #666;\n",
              "  }\n",
              "\n",
              "  .colab-df-quickchart {\n",
              "    background-color: var(--bg-color);\n",
              "    border: none;\n",
              "    border-radius: 50%;\n",
              "    cursor: pointer;\n",
              "    display: none;\n",
              "    fill: var(--fill-color);\n",
              "    height: 32px;\n",
              "    padding: 0;\n",
              "    width: 32px;\n",
              "  }\n",
              "\n",
              "  .colab-df-quickchart:hover {\n",
              "    background-color: var(--hover-bg-color);\n",
              "    box-shadow: 0 1px 2px rgba(60, 64, 67, 0.3), 0 1px 3px 1px rgba(60, 64, 67, 0.15);\n",
              "    fill: var(--button-hover-fill-color);\n",
              "  }\n",
              "\n",
              "  .colab-df-quickchart-complete:disabled,\n",
              "  .colab-df-quickchart-complete:disabled:hover {\n",
              "    background-color: var(--disabled-bg-color);\n",
              "    fill: var(--disabled-fill-color);\n",
              "    box-shadow: none;\n",
              "  }\n",
              "\n",
              "  .colab-df-spinner {\n",
              "    border: 2px solid var(--fill-color);\n",
              "    border-color: transparent;\n",
              "    border-bottom-color: var(--fill-color);\n",
              "    animation:\n",
              "      spin 1s steps(1) infinite;\n",
              "  }\n",
              "\n",
              "  @keyframes spin {\n",
              "    0% {\n",
              "      border-color: transparent;\n",
              "      border-bottom-color: var(--fill-color);\n",
              "      border-left-color: var(--fill-color);\n",
              "    }\n",
              "    20% {\n",
              "      border-color: transparent;\n",
              "      border-left-color: var(--fill-color);\n",
              "      border-top-color: var(--fill-color);\n",
              "    }\n",
              "    30% {\n",
              "      border-color: transparent;\n",
              "      border-left-color: var(--fill-color);\n",
              "      border-top-color: var(--fill-color);\n",
              "      border-right-color: var(--fill-color);\n",
              "    }\n",
              "    40% {\n",
              "      border-color: transparent;\n",
              "      border-right-color: var(--fill-color);\n",
              "      border-top-color: var(--fill-color);\n",
              "    }\n",
              "    60% {\n",
              "      border-color: transparent;\n",
              "      border-right-color: var(--fill-color);\n",
              "    }\n",
              "    80% {\n",
              "      border-color: transparent;\n",
              "      border-right-color: var(--fill-color);\n",
              "      border-bottom-color: var(--fill-color);\n",
              "    }\n",
              "    90% {\n",
              "      border-color: transparent;\n",
              "      border-bottom-color: var(--fill-color);\n",
              "    }\n",
              "  }\n",
              "</style>\n",
              "\n",
              "      <script>\n",
              "        async function quickchart(key) {\n",
              "          const quickchartButtonEl =\n",
              "            document.querySelector('#' + key + ' button');\n",
              "          quickchartButtonEl.disabled = true;  // To prevent multiple clicks.\n",
              "          quickchartButtonEl.classList.add('colab-df-spinner');\n",
              "          try {\n",
              "            const charts = await google.colab.kernel.invokeFunction(\n",
              "                'suggestCharts', [key], {});\n",
              "          } catch (error) {\n",
              "            console.error('Error during call to suggestCharts:', error);\n",
              "          }\n",
              "          quickchartButtonEl.classList.remove('colab-df-spinner');\n",
              "          quickchartButtonEl.classList.add('colab-df-quickchart-complete');\n",
              "        }\n",
              "        (() => {\n",
              "          let quickchartButtonEl =\n",
              "            document.querySelector('#df-f7fe2d2a-3328-4f94-9c85-3b8528bc2ed2 button');\n",
              "          quickchartButtonEl.style.display =\n",
              "            google.colab.kernel.accessAllowed ? 'block' : 'none';\n",
              "        })();\n",
              "      </script>\n",
              "    </div>\n",
              "\n",
              "    </div>\n",
              "  </div>\n"
            ],
            "text/plain": [
              "   issuenumber                                        title datesubmitted  \\\n",
              "0          185  Server Availability for Hive Database Usage    2023-07-12   \n",
              "1          400                  Research Data Depot inquiry    2023-07-12   \n",
              "2          406                            c-span data depot    2023-07-12   \n",
              "3          448       Huge pending time for gilbreth cluster    2023-07-12   \n",
              "4          615                    Access to Tecplot on Bell    2023-07-12   \n",
              "\n",
              "   dateclosed                                       customernote  \\\n",
              "0  2023-08-14  Dear Purdue RCAC Team, I hope this email finds...   \n",
              "1  2023-08-22  Hello and good morning. name Claxon (copied) i...   \n",
              "2  2023-08-25  To whom it may concern- I would like to set up...   \n",
              "3  2023-08-14  Hello RCAC team, I have a problem where it put...   \n",
              "4  2023-08-07  Hi, When I try to load tecplot module on bell,...   \n",
              "\n",
              "           submittedby     submittername       assignee  numbermessages  \\\n",
              "0  zhan4636@purdue.edu       Zhexi Zhang  Guangzhen Jin               3   \n",
              "1  phill309@purdue.edu  Michael Phillips  Guangzhen Jin              11   \n",
              "2  bjdietri@purdue.edu    Bryce Dietrich  Guangzhen Jin               5   \n",
              "3  nguye713@purdue.edu    Anh-luu Nguyen  Guangzhen Jin               6   \n",
              "4    ksreen@purdue.edu        Kush Sreen  Guangzhen Jin               2   \n",
              "\n",
              "   timeopen  weeknumber  year   weekstart  \n",
              "0        24          28  2023  2023-07-10  \n",
              "1        30          28  2023  2023-07-10  \n",
              "2        33          28  2023  2023-07-10  \n",
              "3        24          28  2023  2023-07-10  \n",
              "4        19          28  2023  2023-07-10  "
            ]
          },
          "execution_count": 8,
          "metadata": {},
          "output_type": "execute_result"
        }
      ],
      "source": [
        "df_tickets.head()"
      ]
    },
    {
      "cell_type": "code",
      "execution_count": 9,
      "metadata": {
        "colab": {
          "base_uri": "https://localhost:8080/"
        },
        "id": "dSRvKRN24XeE",
        "outputId": "7488a153-793a-4206-ab05-1b692be592c2"
      },
      "outputs": [
        {
          "data": {
            "text/plain": [
              "6416"
            ]
          },
          "execution_count": 9,
          "metadata": {},
          "output_type": "execute_result"
        }
      ],
      "source": [
        "len(df_tickets)"
      ]
    },
    {
      "cell_type": "code",
      "execution_count": 10,
      "metadata": {
        "id": "htmXb2vYFF4M"
      },
      "outputs": [],
      "source": [
        "# Set a single consistent prompt with strict format and clear exclusions\n",
        "def build_prompt(note):\n",
        "    return (\n",
        "        \"You are an expert HPC support assistant. Your job is to extract key information from HPC support ticket messages for documentation purposes. \"\n",
        "        \"Your output will be used to generate FAQs and help users resolve issues independently.\\n\\n\"\n",
        "        \"Your task:\\n\"\n",
        "        \"Extract and clearly report the *Issue Summary* and *Resolution* from the ticket message. Follow this format **exactly**, and ensure the response includes any specific technical details mentioned \"\n",
        "        \"(e.g., command-line examples, module names, tool names, documentation URLs, file paths) **whenever present**.\\n\\n\"\n",
        "        \"**Do NOT** include:\\n\"\n",
        "        \"- Bullet points\\n\"\n",
        "        \"- Extra commentary\\n\"\n",
        "        \"- Any names, titles, greetings, or sign-offs\\n\"\n",
        "        \"- References to the original message\\n\"\n",
        "        \"- Any mention of ticket status (e.g., resolved, closed, reopened)\\n\"\n",
        "        \"- Any suggestion to follow up or reopen the ticket\\n\\n\"\n",
        "        \"**Output Format:**\\n\\n\"\n",
        "        \"1. Issue Summary:  [Insert brief issue description]\\n\\n\"\n",
        "        \"2. Resolution:  [Insert detailed resolution, including any commands, links, or configuration details]\\n\\n\"\n",
        "        \"The full ticket message appears below. Do NOT copy or summarize it.\\n\"\n",
        "        f\"{note}\"\n",
        "    )\n",
        "\n",
        "# Apply to all rows\n",
        "df_tickets[\"prompt\"] = df_tickets[\"customernote\"].apply(build_prompt)\n",
        "\n"
      ]
    },
    {
      "cell_type": "code",
      "execution_count": 11,
      "metadata": {
        "id": "muDJASNbe1Ry"
      },
      "outputs": [],
      "source": [
        "# Compute token lengths for each prompt\n",
        "def compute_prompt_token_length(prompt):\n",
        "    prompt_text = f\"<s>[INST] {prompt.strip()} [/INST]\"\n",
        "    return len(tokenizer(prompt_text, truncation=False)[\"input_ids\"])\n",
        "\n",
        "# Apply the function to compute token lengths for all prompts in the dataset\n",
        "df_tickets[\"token_length\"] = df_tickets[\"prompt\"].apply(compute_prompt_token_length)"
      ]
    },
    {
      "cell_type": "code",
      "execution_count": 12,
      "metadata": {
        "colab": {
          "base_uri": "https://localhost:8080/",
          "height": 335
        },
        "id": "deuLSrZm8iUU",
        "outputId": "2568fc83-0419-459c-bb02-03de4b95a541"
      },
      "outputs": [
        {
          "data": {
            "text/html": [
              "<div>\n",
              "<style scoped>\n",
              "    .dataframe tbody tr th:only-of-type {\n",
              "        vertical-align: middle;\n",
              "    }\n",
              "\n",
              "    .dataframe tbody tr th {\n",
              "        vertical-align: top;\n",
              "    }\n",
              "\n",
              "    .dataframe thead th {\n",
              "        text-align: right;\n",
              "    }\n",
              "</style>\n",
              "<table border=\"1\" class=\"dataframe\">\n",
              "  <thead>\n",
              "    <tr style=\"text-align: right;\">\n",
              "      <th></th>\n",
              "      <th>token_length</th>\n",
              "    </tr>\n",
              "  </thead>\n",
              "  <tbody>\n",
              "    <tr>\n",
              "      <th>count</th>\n",
              "      <td>6416.000000</td>\n",
              "    </tr>\n",
              "    <tr>\n",
              "      <th>mean</th>\n",
              "      <td>952.446072</td>\n",
              "    </tr>\n",
              "    <tr>\n",
              "      <th>std</th>\n",
              "      <td>1045.598980</td>\n",
              "    </tr>\n",
              "    <tr>\n",
              "      <th>min</th>\n",
              "      <td>263.000000</td>\n",
              "    </tr>\n",
              "    <tr>\n",
              "      <th>25%</th>\n",
              "      <td>518.000000</td>\n",
              "    </tr>\n",
              "    <tr>\n",
              "      <th>50%</th>\n",
              "      <td>677.000000</td>\n",
              "    </tr>\n",
              "    <tr>\n",
              "      <th>75%</th>\n",
              "      <td>989.000000</td>\n",
              "    </tr>\n",
              "    <tr>\n",
              "      <th>max</th>\n",
              "      <td>28671.000000</td>\n",
              "    </tr>\n",
              "  </tbody>\n",
              "</table>\n",
              "</div><br><label><b>dtype:</b> float64</label>"
            ],
            "text/plain": [
              "count     6416.000000\n",
              "mean       952.446072\n",
              "std       1045.598980\n",
              "min        263.000000\n",
              "25%        518.000000\n",
              "50%        677.000000\n",
              "75%        989.000000\n",
              "max      28671.000000\n",
              "Name: token_length, dtype: float64"
            ]
          },
          "execution_count": 12,
          "metadata": {},
          "output_type": "execute_result"
        }
      ],
      "source": [
        "df_tickets[\"token_length\"].describe()"
      ]
    },
    {
      "cell_type": "markdown",
      "metadata": {
        "id": "aX4l1WgBP5l4"
      },
      "source": [
        "### **Histogram of Token Lengths (Full Inference Set)**"
      ]
    },
    {
      "cell_type": "code",
      "execution_count": 16,
      "metadata": {
        "colab": {
          "base_uri": "https://localhost:8080/",
          "height": 481
        },
        "id": "fc-nKvnEFPz-",
        "outputId": "0f510f24-21b9-4ef5-fbd0-523f2d8f6c44"
      },
      "outputs": [
        {
          "data": {
            "image/png": "[encoded data removed]",
            "text/plain": [
              "<Figure size 640x480 with 1 Axes>"
            ]
          },
          "metadata": {},
          "output_type": "display_data"
        }
      ],
      "source": [
        "import matplotlib.pyplot as plt\n",
        "p90 = df_tickets[\"token_length\"].quantile(0.90)\n",
        "plt.hist(df_tickets[\"token_length\"], bins=300, edgecolor='black')\n",
        "plt.title(\"Histogram of Token Lengths (TDX Tickets)\")\n",
        "plt.xlabel(\"Token Length\", fontsize=14,fontweight=\"bold\")\n",
        "plt.ylabel(\"Frequency\",fontsize=14,fontweight=\"bold\")\n",
        "plt.xticks(fontsize=12)\n",
        "plt.yticks(fontsize=12)\n",
        "plt.xlim(0, 5000)\n",
        "plt.grid(True)\n",
        "# Add red vertical line at 90th percentile\n",
        "plt.axvline(x=p90, color='red', linestyle='--', linewidth=2, label='90th Percentile')\n",
        "plt.legend(loc='upper right', fontsize=12)\n",
        "plt.show()"
      ]
    },
    {
      "cell_type": "markdown",
      "metadata": {
        "id": "vaWtCtVRWO7u"
      },
      "source": [
        "### **Box & Whisker Plot of Token Lengths (Full Inference Set)**"
      ]
    },
    {
      "cell_type": "code",
      "execution_count": null,
      "metadata": {
        "colab": {
          "base_uri": "https://localhost:8080/",
          "height": 564
        },
        "id": "_W3jY_oIFUtk",
        "outputId": "b20522e1-57cf-40cb-fb84-72409ce8bcfe"
      },
      "outputs": [
        {
          "data": {
            "image/png": "[encoded data removed]",
            "text/plain": [
              "<Figure size 1000x600 with 1 Axes>"
            ]
          },
          "metadata": {},
          "output_type": "display_data"
        }
      ],
      "source": [
        "import matplotlib.pyplot as plt\n",
        "plt.figure(figsize=(10, 6))\n",
        "plt.boxplot(df_tickets['token_length'], vert=False, patch_artist=True)\n",
        "plt.title(\"Box and Whisker Plot of Token Lengths (TDX Tickets)\")\n",
        "plt.xlabel(\"Token Length\")\n",
        "plt.yticks([]) # Hide y-axis ticks as it's a single box plot\n",
        "plt.grid(True, axis='x')\n",
        "plt.show()\n"
      ]
    },
    {
      "cell_type": "code",
      "execution_count": null,
      "metadata": {
        "colab": {
          "base_uri": "https://localhost:8080/"
        },
        "id": "6GwL0YSCFZt7",
        "outputId": "6326cbb9-babe-4627-cae8-df12c32838d8"
      },
      "outputs": [
        {
          "name": "stdout",
          "output_type": "stream",
          "text": [
            "The 90th percentile of token length is: 1621\n"
          ]
        }
      ],
      "source": [
        "# Calculate the 90th percentile\n",
        "percentile_90 = df_tickets[\"token_length\"].quantile(0.90)\n",
        "\n",
        "print(f\"The 90th percentile of token length is: {int(percentile_90)}\")"
      ]
    },
    {
      "cell_type": "code",
      "execution_count": null,
      "metadata": {
        "id": "tNOPDBXCFbHW"
      },
      "outputs": [],
      "source": [
        "# Filter to keep prompts that will not exceed max length (1621 based on 90th percentile - right skewed distribution)\n",
        "df_tickets = df_tickets[df_tickets[\"token_length\"] <= 1621]"
      ]
    },
    {
      "cell_type": "code",
      "execution_count": null,
      "metadata": {
        "colab": {
          "base_uri": "https://localhost:8080/"
        },
        "id": "mfsJ-xOqFf68",
        "outputId": "bbb55a86-cef9-4eba-8eea-6820ce7f007b"
      },
      "outputs": [
        {
          "data": {
            "text/plain": [
              "5774"
            ]
          },
          "execution_count": 96,
          "metadata": {},
          "output_type": "execute_result"
        }
      ],
      "source": [
        "len(df_tickets)"
      ]
    },
    {
      "cell_type": "code",
      "execution_count": null,
      "metadata": {
        "id": "guWOJcjbFidn"
      },
      "outputs": [],
      "source": [
        "# Sample the data after filtering\n",
        "sample_df = df_tickets.sample(n=100, random_state=42).reset_index(drop=True)\n"
      ]
    },
    {
      "cell_type": "markdown",
      "metadata": {
        "id": "XFi1HG8nEUeZ"
      },
      "source": [
        "## **Apply Inference to Sample Data**"
      ]
    },
    {
      "cell_type": "code",
      "execution_count": null,
      "metadata": {
        "id": "fj_B-0oRYYMZ"
      },
      "outputs": [],
      "source": [
        "def strip_inst_tags(text):\n",
        "    \"\"\"Extracts content inside [INST] and [/INST]\"\"\"\n",
        "    match = re.search(r\"\\[INST\\](.*?)\\[/INST\\]\", text, re.DOTALL)\n",
        "    return match.group(1).strip() if match else text.strip()\n",
        " # strip [INST] and [/INST] tags"
      ]
    },
    {
      "cell_type": "code",
      "execution_count": null,
      "metadata": {
        "colab": {
          "base_uri": "https://localhost:8080/"
        },
        "id": "X0K5gSjtsdMb",
        "outputId": "baa3db5e-1d88-4618-f771-cd52fea33800"
      },
      "outputs": [
        {
          "name": "stderr",
          "output_type": "stream",
          "text": [
            "  4%|▍         | 1/25 [00:49<19:37, 49.07s/it]"
          ]
        },
        {
          "name": "stdout",
          "output_type": "stream",
          "text": [
            "-----RESPONSE ONLY------\n",
            "1. Issue Summary: The user requested access to Data Depot folders for a specific user account. The user reported that access was not working earlier.\n",
            "\n",
            "2. Resolution: The support team confirmed that the user had access to the requested folders. The user confirmed that access was working after further testing. The ticket was marked as resolved.\n",
            "-----RESPONSE ONLY------\n",
            "1. Issue Summary: The user is seeking to run large datasets on Bell, which currently has a maximum memory limit of 128 GB through certain accounts. They need more than 64 cores to run their codes efficiently but are unsure how to achieve this for several hours.\n",
            "\n",
            "2. Resolution: The support team provided three possible solutions: 1) Submit jobs to the 'standby' queue with more than 64 cores if the job can complete within 4 hours. 2) Submit jobs to the 'highmem' queue with fewer cores if the job can complete within 24 hours, as each node on this queue has approximately 8 GB of memory. 3) Consult with Professor name to discuss additional resource purchases if the job requires more than 1 day and exceeds the current resource limits. The ticket was temporarily closed and can be reopened within 7 days if further discussions are needed.\n",
            "-----RESPONSE ONLY------\n",
            "1. Issue Summary: The user reported that they were unable to connect to the Thinlinc service on the Gilbreth cluster since 15:00.\n",
            "\n",
            "2. Resolution: The support team confirmed that the Gilbreth cluster was under maintenance and advised the user to try connecting again in a few days. The user was also informed that they could reach out via the ticket for further assistance. Subsequent messages indicated that the user did not respond to follow-up inquiries about their access status.\n",
            "-----RESPONSE ONLY------\n",
            "1. Issue Summary: The user encountered an error when running a Docker SIF file for GPU-accelerated LAMMPS simulations on Gilbreth. The error message indicated a missing groupid and a version mismatch for the GLIBC library.\n",
            "\n",
            "2. Resolution: The support team suggested unloading the conflicting utility (xalt) from the user's environment by adding the command `module -f unload xalt` to the job script. The user confirmed that this resolved the issue.\n"
          ]
        },
        {
          "name": "stderr",
          "output_type": "stream",
          "text": [
            "\r  8%|▊         | 2/25 [01:16<13:56, 36.39s/it]"
          ]
        },
        {
          "name": "stdout",
          "output_type": "stream",
          "text": [
            "-----RESPONSE ONLY------\n",
            "1. Issue Summary: The user reported connectivity issues with the Gilbreth cluster.\n",
            "\n",
            "2. Resolution: The support team informed the user that they are currently removing inactive users from clusters, including Gilbreth. Users who were removed by mistake can have their access restored through normal access channels. The user was advised to contact their PI for re-addition to the cluster. The ticket was marked as resolved after a week without further response.\n",
            "-----RESPONSE ONLY------\n",
            "1. Issue Summary: The user requested an extension of the maximum time for a job on Gilbreth from 4 hours to 8 hours due to inability to run from the last checkpoint.\n",
            "\n",
            "2. Resolution: The support team responded that the job had already finished and recommended checkpoints for long jobs. The ticket was marked as resolved after no further response from the user within a reasonable timeframe.\n",
            "-----RESPONSE ONLY------\n",
            "1. Issue Summary: The user was unable to log into the Negishi cluster and requested account verification.\n",
            "\n",
            "2. Resolution: The user was advised to use the \" ,push \" authentication method for Duo verification. The user confirmed that this resolved the issue. The ticket was marked resolved.\n",
            "-----RESPONSE ONLY------\n",
            "1. Issue Summary: The user requested assistance in installing the bioinformatic software Revigo and its associated databases on the cluster. They also requested the creation of a module for the software.\n",
            "\n",
            "2. Resolution: The support team asked for clarification on the storage space requirements and the preferred environment (Windows or Linux) for the software. The ticket was marked as resolved after no further response from the user. If the user wishes to reopen the request, they can do so by replying or filing a new ticket.\n"
          ]
        },
        {
          "name": "stderr",
          "output_type": "stream",
          "text": [
            "\r 12%|█▏        | 3/25 [02:17<17:25, 47.52s/it]"
          ]
        },
        {
          "name": "stdout",
          "output_type": "stream",
          "text": [
            "-----RESPONSE ONLY------\n",
            "1. Issue Summary: The user is experiencing issues with Schrodinger on Elk, including a fatal error message and difficulties updating the license. Additionally, the user needs to install VMD on Elk but requires Sudoers access.\n",
            "\n",
            "2. Resolution: The support team is consulting with a team member knowledgeable about the specific software and will provide further updates. The user was informed that the issue may have been resolved since no further feedback was received. If the user encounters any problems within the next 7 days, the ticket can be reopened.\n",
            "-----RESPONSE ONLY------\n",
            "1. Issue Summary: The user is experiencing permission errors when trying to access files on a Windows machine from a shared folder on a Linux system. The files are in the /wbayley/mystory directory, and the user is a group manager for the K-12 Science Outreach Group. The user has tried remapping the share and rebooting, but the issue persists.\n",
            "\n",
            "2. Resolution: The support team identified that the files within the /mystory folder have inconsistent permissions. The user was advised to log in to the group storage at https://www.rcac.purdue.edu/account/groups/3129/storage?u=149039&expanded=124341, click the folder under /wbayley, and use the 'Fix File Permissions' option to resolve the permission problem. If further assistance is needed, the user was instructed to reply within 7 days to keep the ticket open. After that period, a new ticket can be created at any time. The ticket was marked as resolved unless the user responds within the specified timeframe.\n",
            "-----RESPONSE ONLY------\n",
            "1. Issue Summary: The user reported that the number of available nodes in the training queue on Gilbreth has been reduced, and one node (gilbreth-j000) cannot be pinged. This has resulted in longer-than-usual wait times for jobs submitted to the queue.\n",
            "\n",
            "2. Resolution: The support team notified the engineering team about the issue and advised the user that the training queue on Gilbreth is shared and no specific waiting time can be guaranteed. The engineering team is working to resolve the issue with the affected node. The user was informed that the node will be brought back online as soon as possible.\n",
            "-----RESPONSE ONLY------\n",
            "1. Issue Summary: The user received an email about a file purge on Gilbreth and noticed a discrepancy between the email and the output of the \"purgelist\" command. The user was unsure if the files would be purged as scheduled.\n",
            "\n",
            "2. Resolution: The support team confirmed that the user had accessed the files in question using the \"touch\" command, which reset the purge time. The user was advised to find an alternative storage solution, such as data depot, and was provided guidance on how to request access from their advisor. The user reported that they were able to create a folder in data depot and move the files after receiving permission from their advisor. The ticket was marked as resolved.\n"
          ]
        },
        {
          "name": "stderr",
          "output_type": "stream",
          "text": [
            "\r 16%|█▌        | 4/25 [03:04<16:37, 47.50s/it]"
          ]
        },
        {
          "name": "stdout",
          "output_type": "stream",
          "text": [
            "-----RESPONSE ONLY------\n",
            "1. Issue Summary: The user encountered an error while submitting a job script for running CONVERGE CFD v3.0 on the Bell cluster. The error was related to the runtime library.\n",
            "\n",
            "2. Resolution: The support team provided updated job submission script with the correct module versions for Intel compilers (ifort) and OpenMPI runtime. The user was advised to load the following modules: `module load intel-oneapi-compilers/2024.2.0` and `module load openmpi/4.1.6`. If MKL library is needed, the user can also load `module load intel-oneapi-mkl/2024.2.2`. The problem was resolved after implementing the suggested changes.\n",
            "-----RESPONSE ONLY------\n",
            "1. Issue Summary: The user reported being unable to log into the WCERES cluster.\n",
            "\n",
            "2. Resolution: The support team resolved the issue, but no further details were provided. The ticket was marked as resolved.\n",
            "-----RESPONSE ONLY------\n",
            "1. Issue Summary: The user reported that two out of three nodes on Gilbreth were available on bera89-k and inquired whether this was due to scheduled maintenance or an issue with a job consuming excessive resources. They also asked for clarification on the 'GRES limit' mentioned in the SLURM documentation and how to ensure a true FIFO queue.\n",
            "\n",
            "2. Resolution: The support team confirmed that all three nodes were available, with some nodes being used by members of the bera89-k group. They explained that the job with the QOSGrpGRES reason was waiting due to reaching the aggregate GRES limit for its QOS. To ensure a true FIFO queue, the user was advised to adjust the job's QOS or resource limits to accommodate the current workload. The ticket was marked as resolved after no further response from the user.\n",
            "-----RESPONSE ONLY------\n",
            "1. Issue Summary: The user is a graduate student in the Sociology department who is seeking to purchase access to data that needs to be hosted at Purdue. They have questions about the BRASS server, including whether it can be used for data storage, who handles access setup, and whether there are any security protocol templates available. They are also unsure about the best way to securely host and analyze the data.\n",
            "\n",
            "2. Resolution: The user was informed that BRASS is primarily an application server and not suitable for large data storage or sensitive data. They were directed to the Rosen Center for Advanced Computing (RCAC) as a better option for their needs. An expert was also arranged to assist with HIPAA and resource allocation concerns through a coffee hour consultation. The user was provided a link for the consultation.\n"
          ]
        },
        {
          "name": "stderr",
          "output_type": "stream",
          "text": [
            "\r 20%|██        | 5/25 [03:51<15:42, 47.14s/it]"
          ]
        },
        {
          "name": "stdout",
          "output_type": "stream",
          "text": [
            "-----RESPONSE ONLY------\n",
            "1. Issue Summary: The user reported that students were unable to submit Jupyter notebook interactive jobs on the Bell Gateway, with jobs remaining indefinitely in the queue. The user inquired about changes in the submission process and requested clarification on the status of the gateway.\n",
            "\n",
            "2. Resolution: The support team confirmed that jobs requesting longer walltime were being held due to a maintenance schedule change. The maintenance was originally scheduled for October 24 but was pushed back to October 31 due to a water issue. The team advised the user to submit jobs with shorter walltime to ensure they are processed after the maintenance. The ticket was marked as resolved after the user confirmed the issue was addressed.\n",
            "-----RESPONSE ONLY------\n",
            "1. Issue Summary: The user is unable to access the Gilbreth cluster through the Gateway web system and is unable to select a queue. The user is part of two groups but is not able to see the queue option in Gateway, and is also experiencing issues when trying to log in via SSH.\n",
            "\n",
            "2. Resolution: The user was informed that groups and queues are separate on RCAC resources, and that they were added to the group but not specifically to any queues. The user was also informed that their account may have been mistakenly removed due to inactivity, and was advised to ask their supervisor to add them back to the queue to continue their work. The user was also informed that they may have been removed due to inactivity on the computing nodes, not the login nodes.\n",
            "-----RESPONSE ONLY------\n",
            "1. Issue Summary: The user is experiencing difficulties writing data to Bell scratch, receiving an error message even after deleting a significant amount of data. The user's current scratch usage is approximately 51 GB, and they are attempting to copy a file of similar size.\n",
            "\n",
            "2. Resolution: The support team identified the issue as related to ongoing Bell scratch problems (https://www.rcac.purdue.edu/news/6181). They informed the user that their engineering team is working on a fix and will provide updates on the news page. A maintenance schedule was provided (https://www.rcac.purdue.edu/news/6227), and the user was advised to monitor the situation. After the maintenance was completed, the support team marked the ticket as resolved, allowing the user to re-open it within 7 days if the issue persists.\n",
            "-----RESPONSE ONLY------\n",
            "1. Issue Summary: The user is experiencing issues with MPI when using SLURM on Anvil, resulting in jobs taking a large amount of time. They are unsure about the correct configuration for their SLURM script.\n",
            "\n",
            "2. Resolution: The support team advised the user to submit the ticket through the ACCESS Help Desk and provided a link for doing so. They also mentioned that a Box account might not have been created automatically and that it would be ready after a script run enabling Duo Mobile. The account should be ready by 12:15. The user was instructed to contact support if they encounter any issues. URL: https://purdue.box.com/\n"
          ]
        },
        {
          "name": "stderr",
          "output_type": "stream",
          "text": [
            "\r 24%|██▍       | 6/25 [04:39<14:59, 47.36s/it]"
          ]
        },
        {
          "name": "stdout",
          "output_type": "stream",
          "text": [
            "-----RESPONSE ONLY------\n",
            "1. Issue Summary: The user is experiencing difficulties installing Ovito on the Negishi cluster and is seeking assistance.\n",
            "\n",
            "2. Resolution: The support team determined that the issue was due to a missing library for qt5. They added the necessary library on Negishi and provided instructions for the user to load the qt5 module and run Ovito from the terminal. They also recommended using a computing node with an interactive job to improve performance.\n",
            "-----RESPONSE ONLY------\n",
            "1. Issue Summary: The user was unable to push changes to a GitHub repository and received an error message. The issue was due to a lack of write access to the repository.\n",
            "\n",
            "2. Resolution: The user was advised to contact the repository owner to request write access. Since the repository is not managed by RCAC or Purdue IT, the ticket was marked as resolved. If further assistance is needed, the user can create a new ticket or contact the support team at the provided email address.\n",
            "-----RESPONSE ONLY------\n",
            "1. Issue Summary: The user requested access to the training queue in Gilbreth HPC for deep neural network training, which requires more than one GPU and more than 4 hours. The support team clarified that the job must utilize multiple GPUs and run longer than 4 hours to be eligible for the training queue. The user provided several job IDs, but none met the criteria. The user eventually submitted a job that fits the requirements.\n",
            "\n",
            "2. Resolution: The user was informed that the job must utilize multiple GPUs and run longer than 4 hours to be eligible for the training queue. The user was advised to check the job status using the `jobinfo` command. The support team confirmed that the job had completed but was not eligible due to not meeting the GPU requirement. The user was instructed to resubmit the job with the necessary modifications. The issue was resolved when the user submitted a job that fits the criteria.\n",
            "-----RESPONSE ONLY------\n",
            "1. Issue Summary: The user inquired about faster data transfer options for uploading data to the data depot, expressing concerns about saturating the gigabit line. They were considering a paid service from Purdue IT but were seeking alternatives, specifically a physical location on campus with 10G access for data depot uploads.\n",
            "\n",
            "2. Resolution: The support team confirmed that the fastest method for data transfer would be through the on-campus network. No further action was required, and the ticket was marked as resolved after no response from the user for a period of time.\n"
          ]
        },
        {
          "name": "stderr",
          "output_type": "stream",
          "text": [
            "\r 28%|██▊       | 7/25 [05:31<14:40, 48.92s/it]"
          ]
        },
        {
          "name": "stdout",
          "output_type": "stream",
          "text": [
            "-----RESPONSE ONLY------\n",
            "1. Issue Summary: The user requested access to specific RCAC resources, queues, and Unix groups for several individuals.\n",
            "\n",
            "2. Resolution: The support team granted access to the requested resources, and the user was informed that new accounts would be ready for use the following morning. The user was also advised to check the Group History and make any necessary changes on the Queue Management website. Additionally, accounts on the Fortress (HPSS) Archival system were granted if the individuals did not already have access. The user was provided with a contact email for any questions regarding the access process.\n",
            "-----RESPONSE ONLY------\n",
            "1. Issue Summary: The user is experiencing a segmentation fault error when running a script on the highmem node, despite not requiring much memory for the job. The user suspects that the error is related to memory issues but has not been able to resolve it.\n",
            "\n",
            "2. Resolution: The support team confirmed that the jobs against highmem were not using much memory as expected. The user found an alternative set of simulations that work as a substitute and have not encountered the error since. The ticket was closed after confirmation that the issue was resolved.\n",
            "-----RESPONSE ONLY------\n",
            "1. Issue Summary:  The user requested access to the VASP module on the HPC system after being added to the license by their advisor.\n",
            "\n",
            "2. Resolution:  The support team added the user's license, and they were advised to try accessing the module later in the day. The user was informed that further assistance would be provided if needed.\n",
            "-----RESPONSE ONLY------\n",
            "1. Issue Summary: The user reported being unable to install or update packages in Scholar RStudio Server, receiving a warning about internet routines not being able to be loaded. The issue affected multiple packages and repositories, and was critical for the user's work.\n",
            "\n",
            "2. Resolution: The support team identified that the issue was related to RStudio and provided a workaround by setting the download method to \"curl\" using the `options(download.file.method = \"curl\")` command. The user confirmed that this resolved the issue, and was informed that the default method should no longer require the explicit \"curl\" argument. However, a new issue arose where the user and possibly students were unable to load required modules for package installation. The support team advised checking for duplicate or old tickets and confirmed that the issue was resolved for the user. The ticket was marked as resolved temporarily, with the option to re-open it within 7 days if further assistance is needed.\n"
          ]
        },
        {
          "name": "stderr",
          "output_type": "stream",
          "text": [
            "\r 32%|███▏      | 8/25 [06:13<13:15, 46.82s/it]"
          ]
        },
        {
          "name": "stdout",
          "output_type": "stream",
          "text": [
            "-----RESPONSE ONLY------\n",
            "1. Issue Summary: The user was unable to start an interactive job using the command 'sinteractive' and received an error message. The issue appeared after several months of successful use and persisted for a week. The user also encountered problems with X11 forwarding and using the 'mousepad' command.\n",
            "\n",
            "2. Resolution: The support team suggested connecting to Negishi through SSH and using a specific login node to resolve the X11 forwarding issue. The user was able to start an interactive job on login01. The user also discovered that starting a new ThinLinc session resolved the X11 forwarding issue. Additionally, the user found that ssh'ing inside a screen did not work correctly, and the 'mousepad' command worked when ssh'd outside of the screen.\n",
            "-----RESPONSE ONLY------\n",
            "1. Issue Summary: The user requested the removal of a specific individual's access to all HLA files due to concerns about potential malicious intent.\n",
            "\n",
            "2. Resolution: The issue was resolved by a support team member who spoke with the user and confirmed that only removal from HLA resources was necessary. The individual's access to specific data was removed, and the user was informed that the person had been terminated. The support team followed up to ensure the issue was fully resolved.\n",
            "-----RESPONSE ONLY------\n",
            "1. Issue Summary: The user reported long delays (> 30 minutes) in loading Python libraries from a Conda environment in Depot, resulting in zero workers for their Slurm cluster. They also mentioned that their modules are located at /depot/cms/conda_envs/kaur214/modules/.\n",
            "\n",
            "2. Resolution: The issue was resolved through the combined efforts of RCAC storage engineers and vendor support. Depot performance returned to normal levels, as confirmed by a link provided: https://www.rcac.purdue.edu/news/5934. The user was advised to check if the problem persists with Depot usage.\n",
            "-----RESPONSE ONLY------\n",
            "1. Issue Summary: The user was unable to log in to Negishi after being added to the group by their professor.\n",
            "\n",
            "2. Resolution: The support team provided detailed instructions on how to log in to Negishi via SSH and Thinlinc, including the use of Duo authentication. The user confirmed that both methods were working after following the instructions. The ticket was marked as resolved after no further response from the user.\n"
          ]
        },
        {
          "name": "stderr",
          "output_type": "stream",
          "text": [
            "\r 36%|███▌      | 9/25 [07:26<14:39, 54.99s/it]"
          ]
        },
        {
          "name": "stdout",
          "output_type": "stream",
          "text": [
            "-----RESPONSE ONLY------\n",
            "1. Issue Summary: The user requested access to the high assurance subscription for Globus Connect but was informed that RCAC does not have this subscription. The user is still unable to transfer files on Globus Connect and is seeking further assistance.\n",
            "\n",
            "2. Resolution: The support team suggested that the user reinstall the Globus client and uncheck the box for high assurance. They also offered a coffee hour consultation to help the user with the process. The user was provided a link to sign up for the consultation: https://www.rcac.purdue.edu/coffee.\n",
            "-----RESPONSE ONLY------\n",
            "1. Issue Summary: The user is running a memory-intensive job on the Highmem code of Gautschi and requires an extension of the job time from 23:59:00 to 70 hours to ensure the job completes successfully.\n",
            "\n",
            "2. Resolution: The support team resolved the issue by extending the job time limit to 70 hours. The user was informed of the change via email. The job is now expected to complete within the extended timeframe. \n",
            "\n",
            "Refer to the job ID 937565_1 for further details. \n",
            "\n",
            "Closing ticket. \n",
            "\n",
            "name, Ph.D. Associate Professor, Department of Forestry and Natural Resources, Purdue University Consultant, Food and Agriculture Organization of the United Nations (FAO)  ;  \" Resolving this. GL  \"  ;  \" Closing ticket.  \"  ;  \"  \"  ;  \"  \"  ;  \"  \"  ;  \"  \"  ;  \"  \"  ;  \"  \"  ;  \"  \"  ;  \"  \"  ;  \"  \"  ;  \"  \"  ;  \"  \"  ;  \"  \"  ;  \"  \"  ;  \"  \"  ;  \"  \"  ;  \"  \"  ;  \"  \"  ;\n",
            "-----RESPONSE ONLY------\n",
            "1. Issue Summary: The user requested a consultation to assess storage needs, expressing concerns about scratch purging and seeking the best options for storage, particularly for long-term storage.\n",
            "\n",
            "2. Resolution: The support team suggested the Data Depot as a potential solution, but also mentioned that additional depot space would need to be purchased by the user's PI. They offered an in-person consultation and provided information about a weekly coffee hour for further discussion. The user confirmed availability and was informed that walk-ins are welcome. The ticket was resolved.\n",
            "-----RESPONSE ONLY------\n",
            "1. Issue Summary: The user reported being unable to submit jobs or view queues on the Negishi cluster and noticed no news message about the cluster. They inquired about potential maintenance and an estimated time of completion.\n",
            "\n",
            "2. Resolution: The support team confirmed an outage for Negishi and provided a link to the news announcement. They advised that the issue should have been resolved due to the outage. The user was asked to confirm if the problem persists.\n"
          ]
        },
        {
          "name": "stderr",
          "output_type": "stream",
          "text": [
            "\r 40%|████      | 10/25 [08:31<14:30, 58.03s/it]"
          ]
        },
        {
          "name": "stdout",
          "output_type": "stream",
          "text": [
            "-----RESPONSE ONLY------\n",
            "1. Issue Summary: The user encountered an error message when submitting jobs on the Bell system, specifically a \"fl:filesystem:AccessDenied\" error related to the /tmp directory not being writable. The issue appears to have been caused by the node starting before it was fully booted, resulting in the /tmp directory not being writable.\n",
            "\n",
            "2. Resolution: The support team investigated the issue and determined that it was likely due to the node starting before it was fully booted, causing the /tmp directory to not be writable when the job started. The user confirmed that the issue has not occurred since then. The support team will pass the suggestion for a system to determine node allocation to avoid assigning booting nodes to jobs starting soon to the appropriate team for further consideration.\n",
            "-----RESPONSE ONLY------\n",
            "1. Issue Summary: The user reported that a job cancellation on Negishi resulted in a stuck job and a queue delay for subsequent jobs.\n",
            "\n",
            "2. Resolution: The support team confirmed an unscheduled Negishi outage on March 4th and provided a link to the outage details. They assured the user that everything has been resolved and encouraged them to reach out if further questions or concerns arise. The ticket was marked as resolved temporarily due to lack of response from the user.\n",
            "-----RESPONSE ONLY------\n",
            "1. Issue Summary: The user was unable to run the Guidance 2 software on the Negishi cluster due to an error indicating that the command 'mafft' does not exist, despite being able to load mafft on its own.\n",
            "\n",
            "2. Resolution: The bioinformatics team installed Guidance with all its dependencies in a new container and provided instructions for loading the module and running the software. The user was advised to use the following command: `$ ml --force purge $ ml biocontainers` followed by `$ ml guidance2` and the guidance.pl command with the appropriate parameters. The team also provided a link to user guides for each biocontainer module at https://www.rcac.purdue.edu/knowledge/biocontainers. They tested the software with a few CDS sequences and confirmed that it seemed to be working. If the user encounters any issues or errors, they were instructed to reply to the message within seven days to reopen the ticket. After that period, the ticket will close, and further replies won't be visible in the system. If additional assistance is needed after the ticket is closed, the user should submit a new ticket.\n",
            "-----RESPONSE ONLY------\n",
            "1. Issue Summary: The user requested access to a team on the Bell cluster for a research project with a professor.\n",
            "\n",
            "2. Resolution: The support team advised the user to request access from their professor, who has the authority to approve access without further involvement from the support team. The ticket was marked as resolved after no further response from the user.\n"
          ]
        },
        {
          "name": "stderr",
          "output_type": "stream",
          "text": [
            "\r 44%|████▍     | 11/25 [09:11<12:17, 52.68s/it]"
          ]
        },
        {
          "name": "stdout",
          "output_type": "stream",
          "text": [
            "-----RESPONSE ONLY------\n",
            "1. Issue Summary:  The user is seeking guidance on how to enable a display and use Visual Studio Code and Spyder on the Gilbreth node while debugging Python programs from a Mac M1 Pro laptop. The user has installed Xquartz but is unsure of the next steps.\n",
            "\n",
            "2. Resolution:  The user was advised to use SSH X11 forwarding to connect to the Gilbreth node and access the graphical applications. The user was also provided with a link to the documentation on setting up SSH X11 forwarding: https://www.rcac.purdue.edu/knowledge/article/SSH-X11-Forwarding-101  The issue was resolved during a Coffee Hour session.\n",
            "-----RESPONSE ONLY------\n",
            "1. Issue Summary: The user inquired about access to the Gilbreth cluster for GPU-based projects and requested contact information for the process.\n",
            "\n",
            "2. Resolution: The support team provided a link to request access through the PI and detailed the purchasing process for Gilbreth. They also mentioned the option to submit a project proposal for Anvil, which is funded by the NSF. No further response was received from the user. The ticket was closed.\n",
            "-----RESPONSE ONLY------\n",
            "1. Issue Summary: The user requested access to Abaqus software on RCAC servers for remote experimentation. The user is a PhD student at Purdue University's Indianapolis campus.\n",
            "\n",
            "2. Resolution: The support team asked for clarification about the server the user intended to access. The user provided their Purdue ID and username. The support team did not find any account associated with the provided information. The ticket was marked as resolved, but the user was advised to reply within 7 days if further assistance is needed. If no response is received, the user can create a new ticket.\n",
            "-----RESPONSE ONLY------\n",
            "1. Issue Summary: The user requested access to two A100-80GB GPUs on the Gilbreth HPC cluster for their research group. They inquired about trial usage and encountered an issue where they were unable to request multiple GPUs for a single job.\n",
            "\n",
            "2. Resolution: The support team confirmed that the user's request had been fulfilled, and the lusu-k queue should have access to the requested GPUs. They provided guidance on how to request multiple GPUs for a job and explained that jobs submitted in the lab/group queue should start within 4 hours, assuming the queue has enough capacity. The user confirmed that they no longer had any questions, and the ticket was marked as resolved.\n"
          ]
        },
        {
          "name": "stderr",
          "output_type": "stream",
          "text": [
            "\r 48%|████▊     | 12/25 [09:52<10:35, 48.89s/it]"
          ]
        },
        {
          "name": "stdout",
          "output_type": "stream",
          "text": [
            "-----RESPONSE ONLY------\n",
            "1. Issue Summary: The user reported inconsistent performance results when running the same code on GPU Scholar compared to their local GPU, specifically lower F1 scores on Scholar. The issue was related to the use of the `os.listdir()` function in Python when reading image files, which required a `sort()` function to work correctly on Scholar.\n",
            "\n",
            "2. Resolution: The issue was resolved by adding a `sort()` function when using `os.listdir()` to read image files in Python. The user confirmed that the code now runs fine on Scholar, although the root cause of the discrepancy between Scholar and the local GPU remains unclear. The user was informed that their data scientists would further investigate the F1 scores on Scholar.\n",
            "-----RESPONSE ONLY------\n",
            "1. Issue Summary: The user is experiencing issues with a Mac computer connected to Weber, specifically communication problems with external drives and an error message when attempting to run EES on Citrix.\n",
            "\n",
            "2. Resolution: The support team forwarded the issue to experts and requested additional information. A follow-up was scheduled for a personal consultation to address the problems. The ticket remains open for further updates.\n",
            "-----RESPONSE ONLY------\n",
            "1. Issue Summary: The user inquired about the availability of virtual machine resources for faculty members, specifically for teaching R in a course. They mentioned using ThinLinc in the past but are no longer able to access it since moving to a different department. They are considering using RCAC Scholar as an alternative and requested guidance on trying it out before making a decision.\n",
            "\n",
            "2. Resolution: The support team confirmed that Scholar is the appropriate resource for the user's needs and suggested setting up the system before the course starts to allow the user to try it out. They also clarified that other clusters would require purchase and are not designed for courses. The ticket was marked as resolved after no further response from the user.\n",
            "-----RESPONSE ONLY------\n",
            "1. Issue Summary: The user is unable to access the ThinLinc client for a class and is trying to connect to the server desktop.eceprog.ecn.purdue.edu. The user encounters a blank screen instead of the expected screen.\n",
            "\n",
            "2. Resolution: The support team advised the user to contact the ECN support team for further assistance since the server is part of the ECN infrastructure. The user was provided a link to the ECN support page: https://engineering.purdue.edu/ECN/Support.\n"
          ]
        },
        {
          "name": "stderr",
          "output_type": "stream",
          "text": [
            "\r 52%|█████▏    | 13/25 [10:43<09:54, 49.57s/it]"
          ]
        },
        {
          "name": "stdout",
          "output_type": "stream",
          "text": [
            "-----RESPONSE ONLY------\n",
            "1. Issue Summary:  The user requested assistance in adding a new member to a group's data depot storage space.\n",
            "\n",
            "2. Resolution:  The user was directed to the RCAC Group management page, where they can add new members using the \"new member\" button. The PI (Dr. name) is responsible for managing group membership.\n",
            "-----RESPONSE ONLY------\n",
            "1. Issue Summary: The user was unable to access the Negishi gateway Jupyter notebook using their Purdue credentials and received an \"Internal Server Error\" message since Friday. The issue was initially resolved for another user, but the user in question continued to experience the problem.\n",
            "\n",
            "2. Resolution: The support team confirmed that the issue was resolved on the Negishi gateway. The user confirmed that they were able to log in successfully after the issue was reported. The ticket was marked as resolved.\n",
            "-----RESPONSE ONLY------\n",
            "1. Issue Summary: The user reported being unable to access the Data Depot using a MacBook and Samba connections, and other lab members were experiencing similar issues.\n",
            "\n",
            "2. Resolution: The support team identified and resolved the issue by implementing a fix. The user confirmed that the connection was working after the fix was implemented.\n",
            "-----RESPONSE ONLY------\n",
            "1. Issue Summary: The user reported that modules used for deep learning research, such as learning/conda-2020.11-py38-gpu and ml-toolkit-gpu/all/all, were no longer available, and the corresponding learning kernel in the ipython notebook environment was missing. The user requested guidance on creating a new conda environment and making a new conda kernel for the jupyter notebook.\n",
            "\n",
            "2. Resolution: The support team provided the command to install both jupyter and the kernel: `conda install jupyter ipykernel`. To make the kernel available on the jupyter notebook, the user should run `python -m ipykernel install --user --name=myenv --display-name \"Python (myenv)\"`. The user was advised to replace \"myenv\" with the name of the environment they created. The support team marked the ticket as resolved after not receiving further feedback.\n"
          ]
        },
        {
          "name": "stderr",
          "output_type": "stream",
          "text": [
            "\r 56%|█████▌    | 14/25 [11:22<08:29, 46.35s/it]"
          ]
        },
        {
          "name": "stdout",
          "output_type": "stream",
          "text": [
            "-----RESPONSE ONLY------\n",
            "1. Issue Summary: The user inquired about accessing the Gilbreth GPU for a class of 30 students and asked if they could share one node.\n",
            "\n",
            "2. Resolution: The support team informed the user that the Gilbreth cluster is primarily for research use and suggested using the Scholar cluster instead, which offers NVIDIA V100 and A30 GPUs for instructional purposes. The user was directed to create a class account via the user portal and provided with a link to the Scholar use policy. The ticket was marked as resolved after no further response from the user within a week.\n",
            "-----RESPONSE ONLY------\n",
            "1. Issue Summary: The user inquired about editing the source code of a specific BioContainer without affecting the actual package.\n",
            "\n",
            "2. Resolution: The support team requested clarification on the specific BioContainer and the intended changes. After receiving no further response, the ticket was marked as resolved. If the user needs further assistance, they can reopen the ticket or create a new one. No specific resolution was provided regarding the editing of BioContainer source code.\n",
            "-----RESPONSE ONLY------\n",
            "1. Issue Summary: The user inquired about the duration of access to Purdue resources, including email and cluster access, after graduation. They also asked about alumni email access and forwarding options.\n",
            "\n",
            "2. Resolution: The support team clarified that access to Purdue resources is controlled by IAMO and subject to account purge. They suggested using the R4P process to maintain access after graduation. They also provided links to relevant documentation on the R4P process and account expiration policies. The user was advised to contact IAMO for further information about alumni email access. The ticket was marked as resolved due to lack of further response from the user. A separate message was sent regarding device delivery.\n",
            "-----RESPONSE ONLY------\n",
            "1. Issue Summary: The user encountered an error while attempting to create a Conda environment for the updated Gilbreth using the command \"conda-env-mod create -p /depot/gdsp/apps/FourCastNetPy --jupyter.\"\n",
            "\n",
            "2. Resolution: The support team suggested visiting the coffee hour consultation on Monday for in-person assistance. Although the support team member will be traveling, other staff members will be available to provide the necessary assistance.\n"
          ]
        },
        {
          "name": "stderr",
          "output_type": "stream",
          "text": [
            "\r 60%|██████    | 15/25 [12:36<09:06, 54.65s/it]"
          ]
        },
        {
          "name": "stdout",
          "output_type": "stream",
          "text": [
            "-----RESPONSE ONLY------\n",
            "1. Issue Summary:  The user reported an issue with the \"module load\" command, stating that it was not working as expected on the cluster.\n",
            "\n",
            "2. Resolution:  The support team confirmed that the issue was due to a missing modulefile. They added the necessary modulefile and verified that the \"module load\" command now works correctly. The user was instructed to try the command again and confirmed that it was functioning properly. The ticket was closed.\n",
            "\n",
            "Please note: This response adheres to the specified format and includes any specific technical details mentioned in the original message. Bullet points, extra commentary, names, greetings, sign-offs, and references to the original message have been removed. Any suggestion to follow up or reopen the ticket is also excluded.\n",
            "\n",
            "Reference: https://www.rcac.purdue.edu/knowledge/faq/17781 \n",
            "https://www.rcac.purdue.edu/knowledge/faq/17782 \n",
            "https://www.rcac.purdue.edu/knowledge/faq/17783 \n",
            "https://www.rcac.purdue.edu/knowledge/faq/17784 \n",
            "https://www.rcac.purdue.edu/knowledge/faq/17785 \n",
            "https\n",
            "-----RESPONSE ONLY------\n",
            "1. Issue Summary: The user reported that Tmux no longer functions as expected following an update to Gilbreth's operating system from CentOS 7 to Rocky Linux 9.\n",
            "\n",
            "2. Resolution: The support team provided information about the system update and asked the user to specify the Tmux version, compilation details, usage, and any error messages or logs. The user did not respond further, and the ticket was marked as resolved after no additional feedback was received within a week.\n",
            "-----RESPONSE ONLY------\n",
            "1. Issue Summary: The user is a research scientist at the University of Virginia and is interested in exploring potential career opportunities within the Rosen Center for Advanced Computing (RCAC) at Purdue University. They are currently working remotely and are considering a move to West Lafayette. The user has over 10 years of experience in supporting large-scale simulations and analytics, and is interested in opportunities that align with their skills and experience.\n",
            "\n",
            "2. Resolution: The support team advised the user to keep an eye on the Purdue career website for RCAC positions. They were encouraged to apply for specific positions through the application portal when they become available. The user was informed that all positions will be posted on the career website. No further action was required from the support team at this time.\n",
            "-----RESPONSE ONLY------\n",
            "1. Issue Summary: The user encountered an error when attempting to add Scholar cluster access to their sections of CNIT 32200. The error was due to a limitation in the \"department\" field in the class information table of the database, which only allowed four letters.\n",
            "\n",
            "2. Resolution: The support team identified the issue and updated the settings in the database to accommodate the longer department names. The classes have been created, and it is expected that participants will gain access to Scholar within 1-2 days. The ticket was marked as resolved, but the user was advised to reply within 7 days if any further issues arise. If the ticket is not reopened within that timeframe, a new ticket can be created at any time by emailing the support team.\n"
          ]
        },
        {
          "name": "stderr",
          "output_type": "stream",
          "text": [
            "\r 64%|██████▍   | 16/25 [13:31<08:12, 54.75s/it]"
          ]
        },
        {
          "name": "stdout",
          "output_type": "stream",
          "text": [
            "-----RESPONSE ONLY------\n",
            "1. Issue Summary: The user is seeking sponsorship from the Rosen Center for Advanced Computing (RCAC) for the Catapult 2025 hackathon, an AI-focused event that aims to bring together students for innovation and entrepreneurship. The user is interested in RCAC's involvement due to the potential for students to gain valuable experience and for RCAC to gain exposure to the AI and entrepreneurship communities. The user provides a sponsorship information page and expresses interest in setting up booths for direct exposure.\n",
            "\n",
            "2. Resolution: The RCAC team expressed interest in sponsoring the Catapult hackathon and asked for further details on the event's requirements. It was mentioned that access to compute resources may not be necessary for the hackathon itself, and the RCAC team suggested that their new supercomputer with an AI partition could be useful for participants' prototypes. The conversation was moved outside the ticket system, and the user was advised to send an email to the specified address for further discussion. The event was confirmed to have concluded successfully.\n",
            "-----RESPONSE ONLY------\n",
            "1. Issue Summary: The user submitted an interactive session request but did not receive a response after waiting for over 4 hours. They inquired about the status of their job.\n",
            "\n",
            "2. Resolution: The support team explained that the job was not started due to an upcoming Gilbreth maintenance on January 24th. The user was advised to submit a job with an end time before the maintenance window. The maintenance schedule can be found at https://www.rcac.purdue.edu/news/6369.\n",
            "-----RESPONSE ONLY------\n",
            "1. Issue Summary: The user was unable to request more than two nodes with one A100 GPU each from the standby queue, even after the first request was granted. The second request was revoked during resource configuration, leading to concerns about a potential new rule limiting simultaneous node requests.\n",
            "\n",
            "2. Resolution: The support team confirmed that there is no enforced limit on requesting multiple nodes from the standby queue. However, the user's second job was revoked during resource configuration due to contention or constraint issues (--constraint=K). The team suggested removing the --constraint=K flag or adjusting it to see if that helps. The user was advised to update the support team if the issue persists. The ticket was marked as resolved after no further response from the user.\n",
            "-----RESPONSE ONLY------\n",
            "1. Issue Summary: The user reported that when submitting multiple jobs simultaneously on the Gilbreth cluster for TensorFlow, some jobs failed with a message indicating a module load issue, while others ran successfully. The user was unsure why this was happening.\n",
            "\n",
            "2. Resolution: The support team identified that the issue was due to a specific node (`gilbreth-b006`) not syncing correctly with the configuration repository, causing module files to be out of date. The node was marked offline to SLURM to prevent further job submissions. The root cause was not specified further. The user was informed of the resolution and the issue was resolved.\n"
          ]
        },
        {
          "name": "stderr",
          "output_type": "stream",
          "text": [
            "\r 68%|██████▊   | 17/25 [14:02<06:23, 47.88s/it]"
          ]
        },
        {
          "name": "stdout",
          "output_type": "stream",
          "text": [
            "-----RESPONSE ONLY------\n",
            "1. Issue Summary:  The user reported experiencing issues logging into Gautschi, a research computing resource, and encountered problems when compiling code and running simulations. The user was getting logged out immediately and suspected a barrier.\n",
            "\n",
            "2. Resolution:  The support team confirmed that the user's account on Gautschi was functioning correctly. The user was able to access the system after the maintenance was completed. The support team explained that the login issues were likely due to the system maintenance.\n",
            "-----RESPONSE ONLY------\n",
            "1. Issue Summary: The user requested that a geoshare be created on Negishi to facilitate the transition of MyGeoHUB from one account to another. They also requested that the same public keys be used as on the existing account.\n",
            "\n",
            "2. Resolution: The support team successfully created the geoshare account on Negishi and added the requested public keys. The user confirmed access to the new account and the ticket was marked as resolved. The same process was also applied to the nano0 and nano1 accounts.\n",
            "-----RESPONSE ONLY------\n",
            "1. Issue Summary: The user reported being unable to log in to the ThinLinc remote desktop interface for the Bell cluster.\n",
            "\n",
            "2. Resolution: The support team confirmed that Bell was under maintenance on the day of the issue. They advised the user to clean up space in their home directory once the maintenance was complete and provided a link to a user guide on using the 'ssh' command. They also suggested using the 'ncdu' command to identify large files taking up space.\n",
            "-----RESPONSE ONLY------\n",
            "1. Issue Summary: The user encountered an error while installing Scalapack 2.2.0 on the Negishi cluster using GCC 11.2.0. The error message indicated a mismatch issue, and the user tried various approaches, including using different GCC compilers, but the issue persisted.\n",
            "\n",
            "2. Resolution: The user successfully resolved the issue independently by modifying the Fortran compiler flags to include `-march=native -Wno-argument-mismatch`. The issue was resolved without further assistance from the support team. The ticket was marked as resolved.\n"
          ]
        },
        {
          "name": "stderr",
          "output_type": "stream",
          "text": [
            "\r 72%|███████▏  | 18/25 [14:45<05:24, 46.42s/it]"
          ]
        },
        {
          "name": "stdout",
          "output_type": "stream",
          "text": [
            "-----RESPONSE ONLY------\n",
            "1. Issue Summary: The user reported that two students were unable to access the Jupyter Notebook on Gateway Scholar. The issue was resolved after the support team confirmed that the students' accounts were properly provisioned and they were able to log in successfully. A subsequent issue was encountered with a new student who was still unable to access Scholar despite being manually added to the course. The support team identified and resolved the issue by manually adding the student to the necessary group.\n",
            "\n",
            "2. Resolution: The support team confirmed that the students' accounts were properly provisioned and tested their login credentials. They found that the student's account was missing from a group that allows Gateway logins and manually added the account to the group. The support team reached out to the student directly to confirm the resolution. No further issues were reported.\n",
            "-----RESPONSE ONLY------\n",
            "1. Issue Summary:  The user requested a letter of support from RCAC for a proposed NSF project titled \"Comprehensive Approaches to Highly-Multivariate Spatially-Indexed Data.\" The project involves statistical simulation studies, oceanography data analysis, and climate model output. The user inquired about the appropriate contact for this request and expressed interest in potential collaboration with RCAC.\n",
            "\n",
            "2. Resolution:  RCAC expressed interest in supporting the project and offered to provide a letter of support. A meeting was scheduled to discuss further details, and the user provided a project summary for the letter. The ticket was resolved through email communication and the meeting was scheduled via Teams.\n",
            "-----RESPONSE ONLY------\n",
            "1. Issue Summary: The user reported experiencing difficulties accessing the contents stored in their datadepot, including virtual environments, due to abnormally high loading times. They also mentioned that the issue seemed to have started after receiving an email about problems with RCAC.\n",
            "\n",
            "2. Resolution: The support team confirmed that the issue was being actively investigated in collaboration with the vendor. They apologized for any inconvenience and assured the user that they were making every effort to restore normal function. The user was informed that they would be kept updated on any significant progress or breakthroughs. The ticket was eventually closed after the issue was resolved.\n",
            "-----RESPONSE ONLY------\n",
            "1. Issue Summary: The user inquired about facilities for Long Read Sequencing on cardiac tissue of dogs, which is a natural model for a human disease. The user was seeking guidance on the best cluster for their research needs.\n",
            "\n",
            "2. Resolution: The support team provided detailed information about the Gautschi cluster, including memory, processor, interconnect, and GPU node options. They also mentioned other clusters with different hardware types and the Anvil cluster funded through the NSF. The user was advised to submit a project proposal through the ACCESS website for Anvil. No further response was received from the user. The ticket was closed.\n"
          ]
        },
        {
          "name": "stderr",
          "output_type": "stream",
          "text": [
            "\r 76%|███████▌  | 19/25 [15:33<04:39, 46.66s/it]"
          ]
        },
        {
          "name": "stdout",
          "output_type": "stream",
          "text": [
            "-----RESPONSE ONLY------\n",
            "1. Issue Summary: The user requested access for a specific group member on a specific resource.\n",
            "\n",
            "2. Resolution: The support team confirmed that the user had already added the requested member to their group and provided instructions on how to grant access to the specified resource via the member management portal. The ticket was marked as resolved.\n",
            "-----RESPONSE ONLY------\n",
            "1. Issue Summary: The user is experiencing difficulties logging into Gautschi, either through SSH or ThinLinc, despite having been granted access. The user is unable to complete the login process using their password and the \"push\" command, and encounters an error message when attempting to log in through ThinLinc.\n",
            "\n",
            "2. Resolution: The support team confirmed that the user's account has been successfully created and provided instructions for accessing Gautschi through SSH and ThinLinc. The user was advised to use their institution credentials and the \"push\" command for multi-factor authentication. The support team also suggested reviewing the user guide for additional information on using Gautschi and other RCAC resources. If the issue persists, the support team will escalate the ticket to the appropriate team for further investigation. The ticket was marked as resolved after no further response from the user.\n",
            "-----RESPONSE ONLY------\n",
            "1. Issue Summary: The user requested the availability of the parallel package on the Gilbreth cluster for improved performance in their use cases.\n",
            "\n",
            "2. Resolution: The support team confirmed the availability of GNU Parallel on Gilbreth and provided additional suggestions for parallel task orchestration tools, including HyperShell. They also offered a meeting to discuss the user's workflows and needs further. The user confirmed availability for a meeting on Friday afternoon.\n",
            "-----RESPONSE ONLY------\n",
            "1. Issue Summary:  The user requested the allocation of 49 TB of storage on the Geddes system.\n",
            "\n",
            "2. Resolution:  The storage was successfully set up, and the user was notified. The order was marked as fulfilled.\n"
          ]
        },
        {
          "name": "stderr",
          "output_type": "stream",
          "text": [
            "\r 80%|████████  | 20/25 [16:37<04:19, 51.84s/it]"
          ]
        },
        {
          "name": "stdout",
          "output_type": "stream",
          "text": [
            "-----RESPONSE ONLY------\n",
            "1. Issue Summary: The user, a former PhD student, needs access to the remote desktop in Negishi for ongoing projects with their advisor. They are unsure of the process to join their advisor's group and gain access.\n",
            "\n",
            "2. Resolution: The user was informed that access to Purdue resources, including community clusters, is controlled by a valid career account. Their advisor needs to fill out a Request for Privileges (R4P) form, which is handled through the Identity and Access Management Office (IAMO). The user was provided a link to instructions for the R4P process: https://www.purdue.edu/hr/buspur/supportingDocs/r4pRequestorInstructions.pdf. The advisor will fill out the form on the user's behalf.\n",
            "-----RESPONSE ONLY------\n",
            "1. Issue Summary: The user requested access to STATA MP on Bell for a PhD project, and the support team confirmed that access would require approval from a group manager within the Krannert School of Management.\n",
            "\n",
            "2. Resolution: The user was advised to contact the appropriate group manager to request access to STATA/MP. The support team marked the ticket as resolved, but the user reported still needing a license for STATA/MP. The support team then clarified that the user would need to request access from the Krannert School of Management.\n",
            "-----RESPONSE ONLY------\n",
            "1. Issue Summary: The user is a graduate student in the Biological Sciences department who requires a GPU for a pose estimation software (DeepLabCut) to train and run a model. The software needs at least a couple of days to complete the task, but the current method (Google Colab Pro) times out within 24 hours. The user inquired about using a cluster that could support the GPU requirement, with the added consideration that the project does not have any funding.\n",
            "\n",
            "2. Resolution: The support team suggested the Gilbreth cluster, which contains various NVIDIA GPUs (V100s, A10s, A30s, A100s, and H100s). However, access to Gilbreth is not free. The user was advised to ask around and see if any groups would be willing to add them to their subscriptions to Gilbreth. The ticket was marked as resolved, but the user was informed that they could reopen the ticket within the next 7 days if they have further questions. If not, they can create a new ticket at any time by emailing the support team. The user was also provided links to the Gilbreth cluster information and pricing.\n",
            "-----RESPONSE ONLY------\n",
            "1. Issue Summary: The user inquired about setting up parallel computing for R on the Nigishi cluster, expressing concern about the inefficiency of single-threaded R processes on a multi-core system.\n",
            "\n",
            "2. Resolution: The support team provided a link to a tutorial on parallel programming in R and suggested launching R on the Negishi Gateway to test parallel performance. They also mentioned that further discussions could be arranged if needed. The ticket was marked as resolved after no further response from the user.\n"
          ]
        },
        {
          "name": "stderr",
          "output_type": "stream",
          "text": [
            "\r 84%|████████▍ | 21/25 [17:31<03:30, 52.71s/it]"
          ]
        },
        {
          "name": "stdout",
          "output_type": "stream",
          "text": [
            "-----RESPONSE ONLY------\n",
            "1. Issue Summary: The user encountered an error when running a workflow using the name tool on a login node, specifically a 'failed to register worker' issue.\n",
            "\n",
            "2. Resolution: The support team suggested running the workflow in an interactive job instead of a login node, which resolved the issue. They also recommended controlling the number of cores during the name init using the 'ignore_reinit_error=True' and 'num_cpus=4' options. The ticket was marked as resolved after the user confirmed the solution.\n",
            "-----RESPONSE ONLY------\n",
            "1. Issue Summary: The user is experiencing difficulty playing MP4 simulations on the cluster and is encountering an error message while running a project simulation on Ansys. The user is seeking guidance on how to set up the necessary resources to avoid the error and is also inquiring about software options for viewing MP4 simulations on the cluster.\n",
            "\n",
            "2. Resolution: The support team provided information about a multimedia player available on the Negishi Remote Desktop and suggested that the issue might be related to the user's specific workflow rather than the Ansys software itself. They recommended contacting Ansys user support or user forum for further assistance. When the user reported that the multimedia player was not functioning on Negishi, the support team suggested transferring the videos to a local machine for viewing. After the user requested the installation of the VLC media player, the support team confirmed that VLC has been deployed as a module on Negishi and provided instructions on how to launch it. The ticket was resolved after the user was informed about the availability of VLC.\n",
            "-----RESPONSE ONLY------\n",
            "1. Issue Summary: The user requested assistance in building and managing Apptainer containers for their lab, including setup in a shared location and ongoing maintenance. They expressed a lack of experience in managing containers and requested guidance from RCAC.\n",
            "\n",
            "2. Resolution: The support team advised the user to first attempt building the containers themselves, using available resources such as previous workshop slides and coffee hours for assistance. They also mentioned that RCAC generally recommends individuals to build the containers first and seek help for any issues that arise. The ticket was marked as resolved after a week without further response.\n",
            "-----RESPONSE ONLY------\n",
            "1. Issue Summary: The user is unable to log in to the Remote Desktop - ThinLinc using their Purdue account, despite being authorized to do so for a course.\n",
            "\n",
            "2. Resolution: The support team provided instructions to download and use the ThinLinc desktop client, which should resolve the login issue. The user was advised to close the existing ThinLinc client, reopen it, and select \"End existing session.\" If the issue persists, the user can reopen the ticket within 7 days.\n"
          ]
        },
        {
          "name": "stderr",
          "output_type": "stream",
          "text": [
            "\r 88%|████████▊ | 22/25 [18:24<02:38, 52.85s/it]"
          ]
        },
        {
          "name": "stdout",
          "output_type": "stream",
          "text": [
            "-----RESPONSE ONLY------\n",
            "1. Issue Summary: The user requested guidance on submitting a job for ABAQUS on the Scholar cluster. They noted that they did not see specific instructions for ABAQUS on the RCAC instruction page.\n",
            "\n",
            "2. Resolution: The support team provided instructions for running ABAQUS as a GUI or command-line tool after loading the appropriate module in the job submission file. They also suggested a tutorial from another institution that might be helpful (https://classes.engineering.wustl.edu/2009/spring/mase5513/abaqus/docs/v6.6/books/usb/default.htm?startat=pt01ch03s02abx02.html). The user was directed to the Scholar job submission guide for further information (https://www.rcac.purdue.edu/knowledge/scholar/run). The ticket was marked as resolved after no further response from the user.\n",
            "-----RESPONSE ONLY------\n",
            "1. Issue Summary: The user is experiencing issues when attempting to run a job on compute nodes after successfully running it on the front-end nodes. The job involves executables `parallel_computation.py` and `SU2_CFD`, and the user suspects that the issue might be related to the compilation flags used during code compilation. The user also encounters an error message related to the Hydra job manager.\n",
            "\n",
            "2. Resolution: The support team forwarded the issue to experts and requested additional information about the MPI library and its version. After receiving the information, the team updated some configuration settings for OpenMPI. The ticket was marked as resolved after no further response from the user within the specified timeframe. If the user responds within the next 7 days, the ticket will be reopened.\n",
            "-----RESPONSE ONLY------\n",
            "1. Issue Summary: The user requested access to a cluster for a research group led by Dr. Greeley.\n",
            "\n",
            "2. Resolution: The user was directed to log into the RCAC account portal and submit a request for access to the desired cluster through the appropriate research group. If further assistance is needed, the user was advised to re-open the ticket within 7 days. The ticket was marked as resolved due to lack of response.\n",
            "-----RESPONSE ONLY------\n",
            "1. Issue Summary: The user was unable to access a newly purchased A100 GPU queue on Gilbreth, despite being added to the queue through their RCAC account.\n",
            "\n",
            "2. Resolution: The support team informed the user that they needed to be manually added to the queue by a group administrator. The user was directed to a specific webpage to request access. After completing this step, the user was able to access the queue. The ticket was marked as resolved.\n"
          ]
        },
        {
          "name": "stderr",
          "output_type": "stream",
          "text": [
            "\r 92%|█████████▏| 23/25 [19:16<01:44, 52.37s/it]"
          ]
        },
        {
          "name": "stdout",
          "output_type": "stream",
          "text": [
            "-----RESPONSE ONLY------\n",
            "1. Issue Summary: The user requested the reinstallation of an older Intel version (19.0.5.281) to support the icpc command, as the newer version (2024.2.0) is causing difficulties in maintaining consistency with the original code. The user also inquired about the possibility of changing back to the new OS in the future.\n",
            "\n",
            "2. Resolution: The support team decided to provide the deprecated software as-is, with no support. The user was informed that the script to change the shell to look at the old CentOS 7 module files (`source /apps/cent7/rocky8-compatibility/switch-to-old-dangerous-unstable-centos7-modules.sh`) only affects the current shell and does not prevent the use of the Rocky 8 (new OS) modules in future sessions. The ticket was marked as resolved after the user confirmed understanding the response.\n",
            "-----RESPONSE ONLY------\n",
            "1. Issue Summary: The user requested to be unsubscribed from a mailing list, stating they are not a student at Purdue and did not sign up for the list.\n",
            "\n",
            "2. Resolution: The support team explained that the user was added to the list due to their involvement in a project on the Anvil cluster. They were advised to contact the project lead, Bihter Padak, to be removed from the project on the ACCESS website.\n",
            "-----RESPONSE ONLY------\n",
            "1. Issue Summary: The user requested the deletion of their account and files from the Bell cluster due to their departure from Purdue on a specific date.\n",
            "\n",
            "2. Resolution: The support team informed the user that their account would be deactivated in October, and they could be removed from the group immediately if their PI (Prof. Kais) grants permission. The ticket was marked as resolved after no further response from the user.\n",
            "-----RESPONSE ONLY------\n",
            "1. Issue Summary: The user reported that they were unable to access the scratch storage on Bell, receiving an error message stating \"Error in getting information for file .... Cannot send after transport endpoint shutdown.\" The issue affected all folders.\n",
            "\n",
            "2. Resolution: The user resolved the issue by closing all tabs, logging out, and then logging back in. The problem was no longer present, and the user confirmed that everything was working as expected. The support team marked the ticket as resolved temporarily, advising the user to reopen it if the issue reoccurs.\n"
          ]
        },
        {
          "name": "stderr",
          "output_type": "stream",
          "text": [
            "\r 96%|█████████▌| 24/25 [20:20<00:55, 55.88s/it]"
          ]
        },
        {
          "name": "stdout",
          "output_type": "stream",
          "text": [
            "-----RESPONSE ONLY------\n",
            "1. Issue Summary:  The user requested access to a Data Depot account for a new user. The support team confirmed that the user already had access to the Data Depot account and provided instructions for the user to access the account.\n",
            "\n",
            "2. Resolution:  The support team confirmed that the user had access to the Data Depot account and provided instructions for the user to access the account. The user confirmed that they were able to connect to the Data Depot account. The ticket was marked resolved.\n",
            "-----RESPONSE ONLY------\n",
            "1. Issue Summary: The user is attempting to install the FPLO code on a Bell cluster and encountered an error due to missing packages. Specifically, the user needs to install qt4-dev-tools, libncurses5-dev, libncursesw5-dev, python-pip, and python.h. The user requested a consultation meeting to discuss the installation process.\n",
            "\n",
            "2. Resolution: The support team scheduled a consultation meeting for the user to discuss the installation process. The user was advised to ensure that the required Python packages are installed in the depot space. The support team also provided a Teams invitation for the meeting. The ticket was marked as resolved after the consultation meeting, but the user was advised to reopen the ticket if further assistance is needed.\n",
            "-----RESPONSE ONLY------\n",
            "1. Issue Summary: The user reported that a script previously used on the Bell cluster is no longer working due to errors related to the \"RAPsearch\" module. The script attempts to load the module and run the \"rapsearch\" command, but it is now reporting that the module is unknown and the command is not found. The user asked if the module environment has changed or if the package has been removed or renamed.\n",
            "\n",
            "2. Resolution: The support team confirmed that the \"rapsearch\" program is now available via the Biocontainers module. To load it, the user should run the following command: `module load --force purge module load biocontainers module load rapsearch`. This will load rapsearch/2.24 and its dependencies, allowing the user to run \"rapsearch\" or \"prerapsearch\" as before. The support team also explained that the legacy module tree was deprecated, and all bioinformatics software was consolidated under Biocontainers. If the user needs a tool that is not available in Biocontainers, they should send a request to the support team for a faster turnaround. The ticket was marked as resolved after the user confirmed that the issue was resolved.\n",
            "-----RESPONSE ONLY------\n",
            "1. Issue Summary: The user is unable to use PyTorch with GPU on Negishi (A100 GPU node) because libcuda.so is not found in standard locations. They are unsure about the specific module or environment variable to load to access the CUDA runtime.\n",
            "\n",
            "2. Resolution: The support team confirmed that the issue was resolved without further action. The ticket was marked as resolved temporarily, and the user was advised to re-open it within 7 days if assistance is still needed.\n"
          ]
        },
        {
          "name": "stderr",
          "output_type": "stream",
          "text": [
            "100%|██████████| 25/25 [21:05<00:00, 50.62s/it]"
          ]
        },
        {
          "name": "stdout",
          "output_type": "stream",
          "text": [
            "-----RESPONSE ONLY------\n",
            "1. Issue Summary: The user is unable to log in to Scholar using their Purdue credentials and inquires about account access for an AAE512 course.\n",
            "\n",
            "2. Resolution: The support team confirmed that the user's account is pending and advised them to wait overnight for activation. The user was later informed that their account is now ready to use.\n",
            "-----RESPONSE ONLY------\n",
            "1. Issue Summary: The user requested a meeting to discuss the deployment of a second image on Geddes and its connection to the nanoHUB (dev) website.\n",
            "\n",
            "2. Resolution: The support team suggested scheduling a meeting through the RCAC Coffee Hour Chat. The user was informed that this would be the most efficient way to coordinate with the necessary parties. The ticket was marked as resolved after no further response from the user.\n",
            "-----RESPONSE ONLY------\n",
            "1. Issue Summary: The user encountered an issue connecting to a queue using \"ssh queue\" from data.cs.purdue.edu, resulting in a \"Connection to queue closed\" error.\n",
            "\n",
            "2. Resolution: The support team determined that RCAC does not manage data.cs.purdue.edu and advised the user to contact the appropriate IT support for that domain. The ticket was marked as resolved, but the user was encouraged to reopen or create a new ticket if further assistance is needed.\n",
            "-----RESPONSE ONLY------\n",
            "1. Issue Summary: The user is experiencing difficulties visualizing large files using ParaView on the login nodes due to slow performance. They encountered an error when attempting to launch ParaView in an interactive session, suspecting it to be an X11 issue. The user is seeking guidance on how to enable X11 forwarding for an interactive session and is unsure of the appropriate workflow for visualizing large files.\n",
            "\n",
            "2. Resolution: The support team advised the user to submit a ticket via the ACCESS user support portal (https://support.access-ci.org/help-ticket) for further assistance with the issue on Anvil. Since the problem seems to be related to a resource outside of Purdue, the ticket was marked as resolved within the Purdue IT service. The user was informed to contact the ACCESS support team for specific guidance on their issue.\n"
          ]
        },
        {
          "name": "stderr",
          "output_type": "stream",
          "text": [
            "\n"
          ]
        }
      ],
      "source": [
        "results = []\n",
        "\n",
        "# Prepare prompts in Mistral-Instruct format\n",
        "formatted_prompts = [\n",
        "    f\"[INST] {prompt_text.strip()} [/INST]\" for prompt_text in sample_df[\"prompt\"]\n",
        "]\n",
        "\n",
        "batch_size = 4\n",
        "\n",
        "for i in tqdm(range(0, len(formatted_prompts), batch_size)):\n",
        "    batch_prompts = formatted_prompts[i:i + batch_size]\n",
        "\n",
        "    # Tokenize batch\n",
        "    batch_inputs = tokenizer(\n",
        "        batch_prompts,\n",
        "        return_tensors=\"pt\",\n",
        "        padding=True,\n",
        "        truncation=True,\n",
        "        max_length=1621\n",
        "    ).to(model.device)\n",
        "\n",
        "    with torch.no_grad():\n",
        "        output_ids = model.generate(\n",
        "            **batch_inputs,\n",
        "            max_new_tokens=300,\n",
        "            do_sample=False,\n",
        "            eos_token_id=tokenizer.eos_token_id,\n",
        "            pad_token_id=tokenizer.pad_token_id\n",
        "        )\n",
        "\n",
        "    decoded_outputs = tokenizer.batch_decode(output_ids, skip_special_tokens=True)\n",
        "\n",
        "    # If model echoed the prompt, remove it\n",
        "    for prompt, full_output in zip(batch_prompts, decoded_outputs):\n",
        "      output_clean = full_output.strip()\n",
        "\n",
        "      # Remove [INST] and [/INST] from prompt for fair comparison\n",
        "      clean_prompt = strip_inst_tags(prompt)\n",
        "\n",
        "      # Normalize whitespace for reliable matching\n",
        "      norm_prompt = ''.join(clean_prompt.split())\n",
        "      norm_output = ''.join(output_clean.split())\n",
        "\n",
        "      if norm_output.startswith(norm_prompt):\n",
        "        response_only = output_clean[len(clean_prompt):].strip()\n",
        "      else:\n",
        "        response_only = output_clean\n",
        "      print(\"-----RESPONSE ONLY------\")\n",
        "      print(response_only)\n",
        "\n",
        "      results.append(response_only)\n",
        "\n"
      ]
    },
    {
      "cell_type": "code",
      "execution_count": null,
      "metadata": {
        "id": "-9K-HVmAsh1T"
      },
      "outputs": [],
      "source": [
        "sample_df[\"ticket_summary\"] = results # save outputs to a new column"
      ]
    },
    {
      "cell_type": "markdown",
      "metadata": {
        "id": "jjzodVXgJJvY"
      },
      "source": [
        "##**Postprocessing**"
      ]
    },
    {
      "cell_type": "code",
      "execution_count": null,
      "metadata": {
        "id": "DkoHSneiIuCd"
      },
      "outputs": [],
      "source": [
        "# Extract Issue Summary and Resolution\n",
        "def extract_issue_resolution(text):\n",
        "    \"\"\"\n",
        "    Extract the 'Issue Summary' and 'Resolution' sections from structured LLM output.\n",
        "    \"\"\"\n",
        "    issue_pattern = r\"1\\. Issue Summary:\\s*(.*?)\\s*2\\. Resolution:\"\n",
        "    resolution_pattern = r\"2\\. Resolution:\\s*(.*)\"\n",
        "\n",
        "    issue_match = re.search(issue_pattern, text, re.DOTALL)\n",
        "    resolution_match = re.search(resolution_pattern, text, re.DOTALL)\n",
        "\n",
        "    issue = issue_match.group(1).strip() if issue_match else None\n",
        "    resolution = resolution_match.group(1).strip() if resolution_match else None\n",
        "\n",
        "    return pd.Series([issue, resolution], index=[\"issue_summary\", \"resolution\"])\n"
      ]
    },
    {
      "cell_type": "code",
      "execution_count": null,
      "metadata": {
        "id": "Rmnc8HVFIu3n"
      },
      "outputs": [],
      "source": [
        "# Apply parsing to sample dataset\n",
        "sample_df[[\"issue_summary\", \"resolution\"]] = sample_df[\"ticket_summary\"].apply(extract_issue_resolution)\n",
        "\n",
        "# Retain only relevant columns\n",
        "sample_df = sample_df[['issuenumber', 'title', 'issue_summary', 'resolution']]"
      ]
    },
    {
      "cell_type": "code",
      "execution_count": null,
      "metadata": {
        "id": "M99SEzQYJUPx"
      },
      "outputs": [],
      "source": [
        "# Clean closure phrases in resolutions\n",
        "def remove_generic_closure_sentences(text):\n",
        "    \"\"\"\n",
        "    Remove generic closure and follow-up phrases that do not contribute meaningful semantic content.\n",
        "    Useful for improving the quality of semantic embeddings in downstream tasks like FAQ generation.\n",
        "    \"\"\"\n",
        "    sentences = sent_tokenize(text)\n",
        "    cleaned = []\n",
        "\n",
        "    for s in map(str.strip, sentences):\n",
        "        # Empty or hallucinated filler\n",
        "        if s == \"\" or re.fullmatch(r\"[\\\"';\\s]+\", s): continue\n",
        "        if re.search(r\"^[;\\\"'\\s]{2,}$\", s): continue\n",
        "\n",
        "        # Reopen and follow-up language\n",
        "        if re.search(r\"(?i)re[-\\s]?open( the)? ticket\", s): continue\n",
        "        if re.search(r\"(?i)(reply|respond|contact).*?(within|in|next).*?\\d+\\s*(days?|hours?)\", s): continue\n",
        "        if re.search(r\"(?i)ticket (remains|will remain) open\", s): continue\n",
        "        if re.search(r\"(?i)ticket (will|may)?\\s*(be\\s*)?(close[sd]?|closed)\", s): continue\n",
        "        if re.search(r\"(?i)reopen the current ticket.*?open a new one\", s): continue\n",
        "\n",
        "        # Resolution confirmation or closure\n",
        "        if re.search(r\"(?i)(ticket|issue).*?marked\\s*(as\\s*)?resolved\", s): continue\n",
        "        if re.search(r\"(?i)(ticket|issue).*?(was|is|has been)?\\s*(closed|considered resolved)\", s): continue\n",
        "        if re.search(r\"(?i)(the )?ticket was resolved\", s): continue\n",
        "        if re.search(r\"(?i)mark(ed|ing)? (the )?ticket as resolved\", s): continue\n",
        "        if re.search(r\"(?i)(resolving this|closing ticket|ticket'?s closure)\", s): continue\n",
        "\n",
        "        # New ticket creation\n",
        "        if re.search(r\"(?i)(create|submit|open).*?a new (support )?ticket\", s): continue\n",
        "        if re.search(r\"(?i)a new ticket.*?(can|may|would|should).*?(be created|required|submitted)\", s): continue\n",
        "        if re.search(r\"(?i)a new ticket\", s): continue # covers all remaining cases of \"a new ticket\" mentioned\n",
        "\n",
        "        # Gratitude and acknowledgments\n",
        "        if re.search(r\"(?i)(expressed|indicated).*?(gratitude|thanks|appreciation|satisfaction)\", s): continue\n",
        "        if re.search(r\"(?i)appreciated the assistance\", s): continue\n",
        "\n",
        "        # Encouragement to follow up or contact\n",
        "        if re.search(r\"(?i)(feel free|don’t hesitate|you can).*?(contact|reach out)\", s): continue\n",
        "        if re.search(r\"(?i)user was advised to contact.*?(support|help)\", s): continue\n",
        "        if re.search(r\"(?i)further assistance.*?(is|was)?\\s*(available|provided|needed)\", s): continue\n",
        "\n",
        "        # Lack of response or no action required\n",
        "        if re.search(r\"(?i)no further action.*?(is|was)?\\s*required\", s): continue\n",
        "        if re.search(r\"(?i)(no further response|no response).*?(from the user)?\", s): continue\n",
        "        if re.search(r\"(?i)ticket.*?resolved.*?no response\", s): continue\n",
        "        if re.search(r\"(?i)no further issues were reported\", s): continue\n",
        "\n",
        "        # Model regurgitation / footers\n",
        "        if re.search(r\"(?i)^please note\", s): continue\n",
        "        if re.search(r\"(?i)(bullet points|commentary|names|greetings|sign[- ]?offs|references).*?(removed|excluded|not included|stripped)\", s): continue\n",
        "        if re.search(r\"(?i)suggestion(s)? to (follow[- ]?up|re[- ]?open).*?(excluded|omitted|removed)\", s): continue\n",
        "\n",
        "        # Signature lines or affiliations\n",
        "        if re.search(r\"(?i)(Regards|Sincerely|Thank you).*\\n.*(Ph\\.?D|University|Department of)\", s): continue\n",
        "\n",
        "        # If none of the rules match, keep the sentence\n",
        "        cleaned.append(s)\n",
        "\n",
        "    return \" \".join(cleaned)"
      ]
    },
    {
      "cell_type": "code",
      "execution_count": null,
      "metadata": {
        "id": "_UBXsGxWJZsh"
      },
      "outputs": [],
      "source": [
        "# Apply cleaning to the resolution column\n",
        "sample_df[\"resolution\"] = sample_df[\"resolution\"].apply(remove_generic_closure_sentences)"
      ]
    },
    {
      "cell_type": "code",
      "execution_count": null,
      "metadata": {
        "id": "cViMJsgk68cY"
      },
      "outputs": [],
      "source": [
        "# Save results to a CSV file\n",
        "sample_df.to_csv(\"/content/drive/MyDrive/Colab Notebooks/TicketHub/mistral_sample_outputs_100.csv\", index=False)\n"
      ]
    }
  ],
  "metadata": {
    "accelerator": "GPU",
    "colab": {
      "gpuType": "A100",
      "machine_shape": "hm",
      "provenance": []
    },
    "kernelspec": {
      "display_name": "Python 3",
      "name": "python3"
    },
    "language_info": {
      "name": "python"
    },
    "widgets": {
      "application/vnd.jupyter.widget-state+json": {
        "019631df02454b7d889bb8328477affe": {
          "model_module": "@jupyter-widgets/controls",
          "model_module_version": "1.5.0",
          "model_name": "DescriptionStyleModel",
          "state": {
            "_model_module": "@jupyter-widgets/controls",
            "_model_module_version": "1.5.0",
            "_model_name": "DescriptionStyleModel",
            "_view_count": null,
            "_view_module": "@jupyter-widgets/base",
            "_view_module_version": "1.2.0",
            "_view_name": "StyleView",
            "description_width": ""
          }
        },
        "03b739c2b3d24f5f896c07f36c99d87e": {
          "model_module": "@jupyter-widgets/controls",
          "model_module_version": "1.5.0",
          "model_name": "HBoxModel",
          "state": {
            "_dom_classes": [],
            "_model_module": "@jupyter-widgets/controls",
            "_model_module_version": "1.5.0",
            "_model_name": "HBoxModel",
            "_view_count": null,
            "_view_module": "@jupyter-widgets/controls",
            "_view_module_version": "1.5.0",
            "_view_name": "HBoxView",
            "box_style": "",
            "children": [
              "IPY_MODEL_8675c6fb3bcd42cebb5808baf65bd549",
              "IPY_MODEL_9803c4b9f30842d2a4de2c2d62f898fa",
              "IPY_MODEL_a950071d2ea040378e2916882500c8b3"
            ],
            "layout": "IPY_MODEL_0df31e4f5aa14987a5aeee2db3edd388"
          }
        },
        "069f08ae9c9240c6a3f6cb4806118c70": {
          "model_module": "@jupyter-widgets/base",
          "model_module_version": "1.2.0",
          "model_name": "LayoutModel",
          "state": {
            "_model_module": "@jupyter-widgets/base",
            "_model_module_version": "1.2.0",
            "_model_name": "LayoutModel",
            "_view_count": null,
            "_view_module": "@jupyter-widgets/base",
            "_view_module_version": "1.2.0",
            "_view_name": "LayoutView",
            "align_content": null,
            "align_items": null,
            "align_self": null,
            "border": null,
            "bottom": null,
            "display": null,
            "flex": null,
            "flex_flow": null,
            "grid_area": null,
            "grid_auto_columns": null,
            "grid_auto_flow": null,
            "grid_auto_rows": null,
            "grid_column": null,
            "grid_gap": null,
            "grid_row": null,
            "grid_template_areas": null,
            "grid_template_columns": null,
            "grid_template_rows": null,
            "height": null,
            "justify_content": null,
            "justify_items": null,
            "left": null,
            "margin": null,
            "max_height": null,
            "max_width": null,
            "min_height": null,
            "min_width": null,
            "object_fit": null,
            "object_position": null,
            "order": null,
            "overflow": null,
            "overflow_x": null,
            "overflow_y": null,
            "padding": null,
            "right": null,
            "top": null,
            "visibility": null,
            "width": null
          }
        },
        "0df31e4f5aa14987a5aeee2db3edd388": {
          "model_module": "@jupyter-widgets/base",
          "model_module_version": "1.2.0",
          "model_name": "LayoutModel",
          "state": {
            "_model_module": "@jupyter-widgets/base",
            "_model_module_version": "1.2.0",
            "_model_name": "LayoutModel",
            "_view_count": null,
            "_view_module": "@jupyter-widgets/base",
            "_view_module_version": "1.2.0",
            "_view_name": "LayoutView",
            "align_content": null,
            "align_items": null,
            "align_self": null,
            "border": null,
            "bottom": null,
            "display": null,
            "flex": null,
            "flex_flow": null,
            "grid_area": null,
            "grid_auto_columns": null,
            "grid_auto_flow": null,
            "grid_auto_rows": null,
            "grid_column": null,
            "grid_gap": null,
            "grid_row": null,
            "grid_template_areas": null,
            "grid_template_columns": null,
            "grid_template_rows": null,
            "height": null,
            "justify_content": null,
            "justify_items": null,
            "left": null,
            "margin": null,
            "max_height": null,
            "max_width": null,
            "min_height": null,
            "min_width": null,
            "object_fit": null,
            "object_position": null,
            "order": null,
            "overflow": null,
            "overflow_x": null,
            "overflow_y": null,
            "padding": null,
            "right": null,
            "top": null,
            "visibility": null,
            "width": null
          }
        },
        "0f597510b067434492ab9e7603165463": {
          "model_module": "@jupyter-widgets/controls",
          "model_module_version": "1.5.0",
          "model_name": "FloatProgressModel",
          "state": {
            "_dom_classes": [],
            "_model_module": "@jupyter-widgets/controls",
            "_model_module_version": "1.5.0",
            "_model_name": "FloatProgressModel",
            "_view_count": null,
            "_view_module": "@jupyter-widgets/controls",
            "_view_module_version": "1.5.0",
            "_view_name": "ProgressView",
            "bar_style": "success",
            "description": "",
            "description_tooltip": null,
            "layout": "IPY_MODEL_19b6536630b44fda8ab511828fcba7a1",
            "max": 140874,
            "min": 0,
            "orientation": "horizontal",
            "style": "IPY_MODEL_ae52d19cf71f4cc79f72fa0326f6cd31",
            "value": 140874
          }
        },
        "10109bba63124688b8119c9aaae87a8e": {
          "model_module": "@jupyter-widgets/controls",
          "model_module_version": "1.5.0",
          "model_name": "HTMLModel",
          "state": {
            "_dom_classes": [],
            "_model_module": "@jupyter-widgets/controls",
            "_model_module_version": "1.5.0",
            "_model_name": "HTMLModel",
            "_view_count": null,
            "_view_module": "@jupyter-widgets/controls",
            "_view_module_version": "1.5.0",
            "_view_name": "HTMLView",
            "description": "",
            "description_tooltip": null,
            "layout": "IPY_MODEL_069f08ae9c9240c6a3f6cb4806118c70",
            "placeholder": "​",
            "style": "IPY_MODEL_b66d61e81689413581c07dd967a54ac4",
            "value": " 414/414 [00:00&lt;00:00, 54.9kB/s]"
          }
        },
        "15e002f9bfdb4266b2c9e2f419ce8ab4": {
          "model_module": "@jupyter-widgets/controls",
          "model_module_version": "1.5.0",
          "model_name": "DescriptionStyleModel",
          "state": {
            "_model_module": "@jupyter-widgets/controls",
            "_model_module_version": "1.5.0",
            "_model_name": "DescriptionStyleModel",
            "_view_count": null,
            "_view_module": "@jupyter-widgets/base",
            "_view_module_version": "1.2.0",
            "_view_name": "StyleView",
            "description_width": ""
          }
        },
        "1940ef4f49804b6fb47da34133ceb94a": {
          "model_module": "@jupyter-widgets/controls",
          "model_module_version": "1.5.0",
          "model_name": "DescriptionStyleModel",
          "state": {
            "_model_module": "@jupyter-widgets/controls",
            "_model_module_version": "1.5.0",
            "_model_name": "DescriptionStyleModel",
            "_view_count": null,
            "_view_module": "@jupyter-widgets/base",
            "_view_module_version": "1.2.0",
            "_view_name": "StyleView",
            "description_width": ""
          }
        },
        "19b6536630b44fda8ab511828fcba7a1": {
          "model_module": "@jupyter-widgets/base",
          "model_module_version": "1.2.0",
          "model_name": "LayoutModel",
          "state": {
            "_model_module": "@jupyter-widgets/base",
            "_model_module_version": "1.2.0",
            "_model_name": "LayoutModel",
            "_view_count": null,
            "_view_module": "@jupyter-widgets/base",
            "_view_module_version": "1.2.0",
            "_view_name": "LayoutView",
            "align_content": null,
            "align_items": null,
            "align_self": null,
            "border": null,
            "bottom": null,
            "display": null,
            "flex": null,
            "flex_flow": null,
            "grid_area": null,
            "grid_auto_columns": null,
            "grid_auto_flow": null,
            "grid_auto_rows": null,
            "grid_column": null,
            "grid_gap": null,
            "grid_row": null,
            "grid_template_areas": null,
            "grid_template_columns": null,
            "grid_template_rows": null,
            "height": null,
            "justify_content": null,
            "justify_items": null,
            "left": null,
            "margin": null,
            "max_height": null,
            "max_width": null,
            "min_height": null,
            "min_width": null,
            "object_fit": null,
            "object_position": null,
            "order": null,
            "overflow": null,
            "overflow_x": null,
            "overflow_y": null,
            "padding": null,
            "right": null,
            "top": null,
            "visibility": null,
            "width": null
          }
        },
        "204ae6bfc83d4c1e9d0d6865f23485e8": {
          "model_module": "@jupyter-widgets/base",
          "model_module_version": "1.2.0",
          "model_name": "LayoutModel",
          "state": {
            "_model_module": "@jupyter-widgets/base",
            "_model_module_version": "1.2.0",
            "_model_name": "LayoutModel",
            "_view_count": null,
            "_view_module": "@jupyter-widgets/base",
            "_view_module_version": "1.2.0",
            "_view_name": "LayoutView",
            "align_content": null,
            "align_items": null,
            "align_self": null,
            "border": null,
            "bottom": null,
            "display": null,
            "flex": null,
            "flex_flow": null,
            "grid_area": null,
            "grid_auto_columns": null,
            "grid_auto_flow": null,
            "grid_auto_rows": null,
            "grid_column": null,
            "grid_gap": null,
            "grid_row": null,
            "grid_template_areas": null,
            "grid_template_columns": null,
            "grid_template_rows": null,
            "height": null,
            "justify_content": null,
            "justify_items": null,
            "left": null,
            "margin": null,
            "max_height": null,
            "max_width": null,
            "min_height": null,
            "min_width": null,
            "object_fit": null,
            "object_position": null,
            "order": null,
            "overflow": null,
            "overflow_x": null,
            "overflow_y": null,
            "padding": null,
            "right": null,
            "top": null,
            "visibility": null,
            "width": null
          }
        },
        "243fe0d4788d43b5a8c747a7808130cf": {
          "model_module": "@jupyter-widgets/controls",
          "model_module_version": "1.5.0",
          "model_name": "HTMLModel",
          "state": {
            "_dom_classes": [],
            "_model_module": "@jupyter-widgets/controls",
            "_model_module_version": "1.5.0",
            "_model_name": "HTMLModel",
            "_view_count": null,
            "_view_module": "@jupyter-widgets/controls",
            "_view_module_version": "1.5.0",
            "_view_name": "HTMLView",
            "description": "",
            "description_tooltip": null,
            "layout": "IPY_MODEL_adf721324ec146899cf461f53afc9639",
            "placeholder": "​",
            "style": "IPY_MODEL_5937ef5e4253487991191aef6f3bdbf2",
            "value": "tokenizer.model: 100%"
          }
        },
        "299dd0ac696f4f439d883474b9a66155": {
          "model_module": "@jupyter-widgets/base",
          "model_module_version": "1.2.0",
          "model_name": "LayoutModel",
          "state": {
            "_model_module": "@jupyter-widgets/base",
            "_model_module_version": "1.2.0",
            "_model_name": "LayoutModel",
            "_view_count": null,
            "_view_module": "@jupyter-widgets/base",
            "_view_module_version": "1.2.0",
            "_view_name": "LayoutView",
            "align_content": null,
            "align_items": null,
            "align_self": null,
            "border": null,
            "bottom": null,
            "display": null,
            "flex": null,
            "flex_flow": null,
            "grid_area": null,
            "grid_auto_columns": null,
            "grid_auto_flow": null,
            "grid_auto_rows": null,
            "grid_column": null,
            "grid_gap": null,
            "grid_row": null,
            "grid_template_areas": null,
            "grid_template_columns": null,
            "grid_template_rows": null,
            "height": null,
            "justify_content": null,
            "justify_items": null,
            "left": null,
            "margin": null,
            "max_height": null,
            "max_width": null,
            "min_height": null,
            "min_width": null,
            "object_fit": null,
            "object_position": null,
            "order": null,
            "overflow": null,
            "overflow_x": null,
            "overflow_y": null,
            "padding": null,
            "right": null,
            "top": null,
            "visibility": null,
            "width": null
          }
        },
        "2f57858ad31d450f9c21dbc4001d637a": {
          "model_module": "@jupyter-widgets/controls",
          "model_module_version": "1.5.0",
          "model_name": "ProgressStyleModel",
          "state": {
            "_model_module": "@jupyter-widgets/controls",
            "_model_module_version": "1.5.0",
            "_model_name": "ProgressStyleModel",
            "_view_count": null,
            "_view_module": "@jupyter-widgets/base",
            "_view_module_version": "1.2.0",
            "_view_name": "StyleView",
            "bar_color": null,
            "description_width": ""
          }
        },
        "301584388b844394a0de80cb61608327": {
          "model_module": "@jupyter-widgets/base",
          "model_module_version": "1.2.0",
          "model_name": "LayoutModel",
          "state": {
            "_model_module": "@jupyter-widgets/base",
            "_model_module_version": "1.2.0",
            "_model_name": "LayoutModel",
            "_view_count": null,
            "_view_module": "@jupyter-widgets/base",
            "_view_module_version": "1.2.0",
            "_view_name": "LayoutView",
            "align_content": null,
            "align_items": null,
            "align_self": null,
            "border": null,
            "bottom": null,
            "display": null,
            "flex": null,
            "flex_flow": null,
            "grid_area": null,
            "grid_auto_columns": null,
            "grid_auto_flow": null,
            "grid_auto_rows": null,
            "grid_column": null,
            "grid_gap": null,
            "grid_row": null,
            "grid_template_areas": null,
            "grid_template_columns": null,
            "grid_template_rows": null,
            "height": null,
            "justify_content": null,
            "justify_items": null,
            "left": null,
            "margin": null,
            "max_height": null,
            "max_width": null,
            "min_height": null,
            "min_width": null,
            "object_fit": null,
            "object_position": null,
            "order": null,
            "overflow": null,
            "overflow_x": null,
            "overflow_y": null,
            "padding": null,
            "right": null,
            "top": null,
            "visibility": null,
            "width": null
          }
        },
        "3bc3b2b537a3493289b071924394d542": {
          "model_module": "@jupyter-widgets/controls",
          "model_module_version": "1.5.0",
          "model_name": "ProgressStyleModel",
          "state": {
            "_model_module": "@jupyter-widgets/controls",
            "_model_module_version": "1.5.0",
            "_model_name": "ProgressStyleModel",
            "_view_count": null,
            "_view_module": "@jupyter-widgets/base",
            "_view_module_version": "1.2.0",
            "_view_name": "StyleView",
            "bar_color": null,
            "description_width": ""
          }
        },
        "427f4a374a424cd0b1e614d72d42f29a": {
          "model_module": "@jupyter-widgets/base",
          "model_module_version": "1.2.0",
          "model_name": "LayoutModel",
          "state": {
            "_model_module": "@jupyter-widgets/base",
            "_model_module_version": "1.2.0",
            "_model_name": "LayoutModel",
            "_view_count": null,
            "_view_module": "@jupyter-widgets/base",
            "_view_module_version": "1.2.0",
            "_view_name": "LayoutView",
            "align_content": null,
            "align_items": null,
            "align_self": null,
            "border": null,
            "bottom": null,
            "display": null,
            "flex": null,
            "flex_flow": null,
            "grid_area": null,
            "grid_auto_columns": null,
            "grid_auto_flow": null,
            "grid_auto_rows": null,
            "grid_column": null,
            "grid_gap": null,
            "grid_row": null,
            "grid_template_areas": null,
            "grid_template_columns": null,
            "grid_template_rows": null,
            "height": null,
            "justify_content": null,
            "justify_items": null,
            "left": null,
            "margin": null,
            "max_height": null,
            "max_width": null,
            "min_height": null,
            "min_width": null,
            "object_fit": null,
            "object_position": null,
            "order": null,
            "overflow": null,
            "overflow_x": null,
            "overflow_y": null,
            "padding": null,
            "right": null,
            "top": null,
            "visibility": null,
            "width": null
          }
        },
        "43a3b1c6fef7415bba837774702d26b1": {
          "model_module": "@jupyter-widgets/controls",
          "model_module_version": "1.5.0",
          "model_name": "HBoxModel",
          "state": {
            "_dom_classes": [],
            "_model_module": "@jupyter-widgets/controls",
            "_model_module_version": "1.5.0",
            "_model_name": "HBoxModel",
            "_view_count": null,
            "_view_module": "@jupyter-widgets/controls",
            "_view_module_version": "1.5.0",
            "_view_name": "HBoxView",
            "box_style": "",
            "children": [
              "IPY_MODEL_50713cb02336482eabfd6a3c9725dc65",
              "IPY_MODEL_e73b75a06ca542b7a2e7f2259790cbdd",
              "IPY_MODEL_10109bba63124688b8119c9aaae87a8e"
            ],
            "layout": "IPY_MODEL_6a2895baad1847f487d24d91d4901cc0"
          }
        },
        "46d0b940d36240a9a086292e4d54db6c": {
          "model_module": "@jupyter-widgets/base",
          "model_module_version": "1.2.0",
          "model_name": "LayoutModel",
          "state": {
            "_model_module": "@jupyter-widgets/base",
            "_model_module_version": "1.2.0",
            "_model_name": "LayoutModel",
            "_view_count": null,
            "_view_module": "@jupyter-widgets/base",
            "_view_module_version": "1.2.0",
            "_view_name": "LayoutView",
            "align_content": null,
            "align_items": null,
            "align_self": null,
            "border": null,
            "bottom": null,
            "display": null,
            "flex": null,
            "flex_flow": null,
            "grid_area": null,
            "grid_auto_columns": null,
            "grid_auto_flow": null,
            "grid_auto_rows": null,
            "grid_column": null,
            "grid_gap": null,
            "grid_row": null,
            "grid_template_areas": null,
            "grid_template_columns": null,
            "grid_template_rows": null,
            "height": null,
            "justify_content": null,
            "justify_items": null,
            "left": null,
            "margin": null,
            "max_height": null,
            "max_width": null,
            "min_height": null,
            "min_width": null,
            "object_fit": null,
            "object_position": null,
            "order": null,
            "overflow": null,
            "overflow_x": null,
            "overflow_y": null,
            "padding": null,
            "right": null,
            "top": null,
            "visibility": null,
            "width": null
          }
        },
        "50713cb02336482eabfd6a3c9725dc65": {
          "model_module": "@jupyter-widgets/controls",
          "model_module_version": "1.5.0",
          "model_name": "HTMLModel",
          "state": {
            "_dom_classes": [],
            "_model_module": "@jupyter-widgets/controls",
            "_model_module_version": "1.5.0",
            "_model_name": "HTMLModel",
            "_view_count": null,
            "_view_module": "@jupyter-widgets/controls",
            "_view_module_version": "1.5.0",
            "_view_name": "HTMLView",
            "description": "",
            "description_tooltip": null,
            "layout": "IPY_MODEL_f91872a24b1149399286673bdfc0926f",
            "placeholder": "​",
            "style": "IPY_MODEL_1940ef4f49804b6fb47da34133ceb94a",
            "value": "special_tokens_map.json: 100%"
          }
        },
        "5366c19377044577aa5b045942a1226e": {
          "model_module": "@jupyter-widgets/base",
          "model_module_version": "1.2.0",
          "model_name": "LayoutModel",
          "state": {
            "_model_module": "@jupyter-widgets/base",
            "_model_module_version": "1.2.0",
            "_model_name": "LayoutModel",
            "_view_count": null,
            "_view_module": "@jupyter-widgets/base",
            "_view_module_version": "1.2.0",
            "_view_name": "LayoutView",
            "align_content": null,
            "align_items": null,
            "align_self": null,
            "border": null,
            "bottom": null,
            "display": null,
            "flex": null,
            "flex_flow": null,
            "grid_area": null,
            "grid_auto_columns": null,
            "grid_auto_flow": null,
            "grid_auto_rows": null,
            "grid_column": null,
            "grid_gap": null,
            "grid_row": null,
            "grid_template_areas": null,
            "grid_template_columns": null,
            "grid_template_rows": null,
            "height": null,
            "justify_content": null,
            "justify_items": null,
            "left": null,
            "margin": null,
            "max_height": null,
            "max_width": null,
            "min_height": null,
            "min_width": null,
            "object_fit": null,
            "object_position": null,
            "order": null,
            "overflow": null,
            "overflow_x": null,
            "overflow_y": null,
            "padding": null,
            "right": null,
            "top": null,
            "visibility": null,
            "width": null
          }
        },
        "56dc65808bad44af96a2c2e40f477936": {
          "model_module": "@jupyter-widgets/base",
          "model_module_version": "1.2.0",
          "model_name": "LayoutModel",
          "state": {
            "_model_module": "@jupyter-widgets/base",
            "_model_module_version": "1.2.0",
            "_model_name": "LayoutModel",
            "_view_count": null,
            "_view_module": "@jupyter-widgets/base",
            "_view_module_version": "1.2.0",
            "_view_name": "LayoutView",
            "align_content": null,
            "align_items": null,
            "align_self": null,
            "border": null,
            "bottom": null,
            "display": null,
            "flex": null,
            "flex_flow": null,
            "grid_area": null,
            "grid_auto_columns": null,
            "grid_auto_flow": null,
            "grid_auto_rows": null,
            "grid_column": null,
            "grid_gap": null,
            "grid_row": null,
            "grid_template_areas": null,
            "grid_template_columns": null,
            "grid_template_rows": null,
            "height": null,
            "justify_content": null,
            "justify_items": null,
            "left": null,
            "margin": null,
            "max_height": null,
            "max_width": null,
            "min_height": null,
            "min_width": null,
            "object_fit": null,
            "object_position": null,
            "order": null,
            "overflow": null,
            "overflow_x": null,
            "overflow_y": null,
            "padding": null,
            "right": null,
            "top": null,
            "visibility": null,
            "width": null
          }
        },
        "5937ef5e4253487991191aef6f3bdbf2": {
          "model_module": "@jupyter-widgets/controls",
          "model_module_version": "1.5.0",
          "model_name": "DescriptionStyleModel",
          "state": {
            "_model_module": "@jupyter-widgets/controls",
            "_model_module_version": "1.5.0",
            "_model_name": "DescriptionStyleModel",
            "_view_count": null,
            "_view_module": "@jupyter-widgets/base",
            "_view_module_version": "1.2.0",
            "_view_name": "StyleView",
            "description_width": ""
          }
        },
        "609084ad490e478b806cf04de69493fa": {
          "model_module": "@jupyter-widgets/controls",
          "model_module_version": "1.5.0",
          "model_name": "DescriptionStyleModel",
          "state": {
            "_model_module": "@jupyter-widgets/controls",
            "_model_module_version": "1.5.0",
            "_model_name": "DescriptionStyleModel",
            "_view_count": null,
            "_view_module": "@jupyter-widgets/base",
            "_view_module_version": "1.2.0",
            "_view_name": "StyleView",
            "description_width": ""
          }
        },
        "682796e9167b418cb66adf65f055b7f4": {
          "model_module": "@jupyter-widgets/controls",
          "model_module_version": "1.5.0",
          "model_name": "FloatProgressModel",
          "state": {
            "_dom_classes": [],
            "_model_module": "@jupyter-widgets/controls",
            "_model_module_version": "1.5.0",
            "_model_name": "FloatProgressModel",
            "_view_count": null,
            "_view_module": "@jupyter-widgets/controls",
            "_view_module_version": "1.5.0",
            "_view_name": "ProgressView",
            "bar_style": "success",
            "description": "",
            "description_tooltip": null,
            "layout": "IPY_MODEL_5366c19377044577aa5b045942a1226e",
            "max": 587404,
            "min": 0,
            "orientation": "horizontal",
            "style": "IPY_MODEL_c7a4fbe70da044269c641404fb834965",
            "value": 587404
          }
        },
        "6a2895baad1847f487d24d91d4901cc0": {
          "model_module": "@jupyter-widgets/base",
          "model_module_version": "1.2.0",
          "model_name": "LayoutModel",
          "state": {
            "_model_module": "@jupyter-widgets/base",
            "_model_module_version": "1.2.0",
            "_model_name": "LayoutModel",
            "_view_count": null,
            "_view_module": "@jupyter-widgets/base",
            "_view_module_version": "1.2.0",
            "_view_name": "LayoutView",
            "align_content": null,
            "align_items": null,
            "align_self": null,
            "border": null,
            "bottom": null,
            "display": null,
            "flex": null,
            "flex_flow": null,
            "grid_area": null,
            "grid_auto_columns": null,
            "grid_auto_flow": null,
            "grid_auto_rows": null,
            "grid_column": null,
            "grid_gap": null,
            "grid_row": null,
            "grid_template_areas": null,
            "grid_template_columns": null,
            "grid_template_rows": null,
            "height": null,
            "justify_content": null,
            "justify_items": null,
            "left": null,
            "margin": null,
            "max_height": null,
            "max_width": null,
            "min_height": null,
            "min_width": null,
            "object_fit": null,
            "object_position": null,
            "order": null,
            "overflow": null,
            "overflow_x": null,
            "overflow_y": null,
            "padding": null,
            "right": null,
            "top": null,
            "visibility": null,
            "width": null
          }
        },
        "7143597f0cf44e29aa73461bbe6e8f63": {
          "model_module": "@jupyter-widgets/controls",
          "model_module_version": "1.5.0",
          "model_name": "ProgressStyleModel",
          "state": {
            "_model_module": "@jupyter-widgets/controls",
            "_model_module_version": "1.5.0",
            "_model_name": "ProgressStyleModel",
            "_view_count": null,
            "_view_module": "@jupyter-widgets/base",
            "_view_module_version": "1.2.0",
            "_view_name": "StyleView",
            "bar_color": null,
            "description_width": ""
          }
        },
        "7240504a05c0462c9f09f8154883405c": {
          "model_module": "@jupyter-widgets/controls",
          "model_module_version": "1.5.0",
          "model_name": "HTMLModel",
          "state": {
            "_dom_classes": [],
            "_model_module": "@jupyter-widgets/controls",
            "_model_module_version": "1.5.0",
            "_model_name": "HTMLModel",
            "_view_count": null,
            "_view_module": "@jupyter-widgets/controls",
            "_view_module_version": "1.5.0",
            "_view_name": "HTMLView",
            "description": "",
            "description_tooltip": null,
            "layout": "IPY_MODEL_f3eea1ab0fe84039aca91e1dbce25807",
            "placeholder": "​",
            "style": "IPY_MODEL_8fea195d91a04bedb0f7be7796fa98ad",
            "value": " 3/3 [00:17&lt;00:00,  5.79s/it]"
          }
        },
        "72eed002663147d996f74e207e3d40ff": {
          "model_module": "@jupyter-widgets/controls",
          "model_module_version": "1.5.0",
          "model_name": "HBoxModel",
          "state": {
            "_dom_classes": [],
            "_model_module": "@jupyter-widgets/controls",
            "_model_module_version": "1.5.0",
            "_model_name": "HBoxModel",
            "_view_count": null,
            "_view_module": "@jupyter-widgets/controls",
            "_view_module_version": "1.5.0",
            "_view_name": "HBoxView",
            "box_style": "",
            "children": [
              "IPY_MODEL_ebb7fc0b09be43b9993be83956372bd6",
              "IPY_MODEL_0f597510b067434492ab9e7603165463",
              "IPY_MODEL_864615f4c84a48f5b0af61132e12081d"
            ],
            "layout": "IPY_MODEL_ceae3856b45e48f886a07b749db2f100"
          }
        },
        "81aeb1d589f94896ad3388b603318b21": {
          "model_module": "@jupyter-widgets/base",
          "model_module_version": "1.2.0",
          "model_name": "LayoutModel",
          "state": {
            "_model_module": "@jupyter-widgets/base",
            "_model_module_version": "1.2.0",
            "_model_name": "LayoutModel",
            "_view_count": null,
            "_view_module": "@jupyter-widgets/base",
            "_view_module_version": "1.2.0",
            "_view_name": "LayoutView",
            "align_content": null,
            "align_items": null,
            "align_self": null,
            "border": null,
            "bottom": null,
            "display": null,
            "flex": null,
            "flex_flow": null,
            "grid_area": null,
            "grid_auto_columns": null,
            "grid_auto_flow": null,
            "grid_auto_rows": null,
            "grid_column": null,
            "grid_gap": null,
            "grid_row": null,
            "grid_template_areas": null,
            "grid_template_columns": null,
            "grid_template_rows": null,
            "height": null,
            "justify_content": null,
            "justify_items": null,
            "left": null,
            "margin": null,
            "max_height": null,
            "max_width": null,
            "min_height": null,
            "min_width": null,
            "object_fit": null,
            "object_position": null,
            "order": null,
            "overflow": null,
            "overflow_x": null,
            "overflow_y": null,
            "padding": null,
            "right": null,
            "top": null,
            "visibility": null,
            "width": null
          }
        },
        "864615f4c84a48f5b0af61132e12081d": {
          "model_module": "@jupyter-widgets/controls",
          "model_module_version": "1.5.0",
          "model_name": "HTMLModel",
          "state": {
            "_dom_classes": [],
            "_model_module": "@jupyter-widgets/controls",
            "_model_module_version": "1.5.0",
            "_model_name": "HTMLModel",
            "_view_count": null,
            "_view_module": "@jupyter-widgets/controls",
            "_view_module_version": "1.5.0",
            "_view_name": "HTMLView",
            "description": "",
            "description_tooltip": null,
            "layout": "IPY_MODEL_866e5e317ae84269afc21b1da9fad6bf",
            "placeholder": "​",
            "style": "IPY_MODEL_88e688aea50e43b78fa9de3e59d64505",
            "value": " 141k/141k [00:00&lt;00:00, 2.11MB/s]"
          }
        },
        "866e5e317ae84269afc21b1da9fad6bf": {
          "model_module": "@jupyter-widgets/base",
          "model_module_version": "1.2.0",
          "model_name": "LayoutModel",
          "state": {
            "_model_module": "@jupyter-widgets/base",
            "_model_module_version": "1.2.0",
            "_model_name": "LayoutModel",
            "_view_count": null,
            "_view_module": "@jupyter-widgets/base",
            "_view_module_version": "1.2.0",
            "_view_name": "LayoutView",
            "align_content": null,
            "align_items": null,
            "align_self": null,
            "border": null,
            "bottom": null,
            "display": null,
            "flex": null,
            "flex_flow": null,
            "grid_area": null,
            "grid_auto_columns": null,
            "grid_auto_flow": null,
            "grid_auto_rows": null,
            "grid_column": null,
            "grid_gap": null,
            "grid_row": null,
            "grid_template_areas": null,
            "grid_template_columns": null,
            "grid_template_rows": null,
            "height": null,
            "justify_content": null,
            "justify_items": null,
            "left": null,
            "margin": null,
            "max_height": null,
            "max_width": null,
            "min_height": null,
            "min_width": null,
            "object_fit": null,
            "object_position": null,
            "order": null,
            "overflow": null,
            "overflow_x": null,
            "overflow_y": null,
            "padding": null,
            "right": null,
            "top": null,
            "visibility": null,
            "width": null
          }
        },
        "8675c6fb3bcd42cebb5808baf65bd549": {
          "model_module": "@jupyter-widgets/controls",
          "model_module_version": "1.5.0",
          "model_name": "HTMLModel",
          "state": {
            "_dom_classes": [],
            "_model_module": "@jupyter-widgets/controls",
            "_model_module_version": "1.5.0",
            "_model_name": "HTMLModel",
            "_view_count": null,
            "_view_module": "@jupyter-widgets/controls",
            "_view_module_version": "1.5.0",
            "_view_name": "HTMLView",
            "description": "",
            "description_tooltip": null,
            "layout": "IPY_MODEL_299dd0ac696f4f439d883474b9a66155",
            "placeholder": "​",
            "style": "IPY_MODEL_dc3362d8480e44319bfe53531eee4972",
            "value": "tokenizer.json: 100%"
          }
        },
        "88e688aea50e43b78fa9de3e59d64505": {
          "model_module": "@jupyter-widgets/controls",
          "model_module_version": "1.5.0",
          "model_name": "DescriptionStyleModel",
          "state": {
            "_model_module": "@jupyter-widgets/controls",
            "_model_module_version": "1.5.0",
            "_model_name": "DescriptionStyleModel",
            "_view_count": null,
            "_view_module": "@jupyter-widgets/base",
            "_view_module_version": "1.2.0",
            "_view_name": "StyleView",
            "description_width": ""
          }
        },
        "8fea195d91a04bedb0f7be7796fa98ad": {
          "model_module": "@jupyter-widgets/controls",
          "model_module_version": "1.5.0",
          "model_name": "DescriptionStyleModel",
          "state": {
            "_model_module": "@jupyter-widgets/controls",
            "_model_module_version": "1.5.0",
            "_model_name": "DescriptionStyleModel",
            "_view_count": null,
            "_view_module": "@jupyter-widgets/base",
            "_view_module_version": "1.2.0",
            "_view_name": "StyleView",
            "description_width": ""
          }
        },
        "92a6bc282e434937862f2838388380d0": {
          "model_module": "@jupyter-widgets/controls",
          "model_module_version": "1.5.0",
          "model_name": "HBoxModel",
          "state": {
            "_dom_classes": [],
            "_model_module": "@jupyter-widgets/controls",
            "_model_module_version": "1.5.0",
            "_model_name": "HBoxModel",
            "_view_count": null,
            "_view_module": "@jupyter-widgets/controls",
            "_view_module_version": "1.5.0",
            "_view_name": "HBoxView",
            "box_style": "",
            "children": [
              "IPY_MODEL_cccea75068e146aab1886fb0d4be5275",
              "IPY_MODEL_b5d1982401eb4e7a9f105454175abcc1",
              "IPY_MODEL_7240504a05c0462c9f09f8154883405c"
            ],
            "layout": "IPY_MODEL_56dc65808bad44af96a2c2e40f477936"
          }
        },
        "9803c4b9f30842d2a4de2c2d62f898fa": {
          "model_module": "@jupyter-widgets/controls",
          "model_module_version": "1.5.0",
          "model_name": "FloatProgressModel",
          "state": {
            "_dom_classes": [],
            "_model_module": "@jupyter-widgets/controls",
            "_model_module_version": "1.5.0",
            "_model_name": "FloatProgressModel",
            "_view_count": null,
            "_view_module": "@jupyter-widgets/controls",
            "_view_module_version": "1.5.0",
            "_view_name": "ProgressView",
            "bar_style": "success",
            "description": "",
            "description_tooltip": null,
            "layout": "IPY_MODEL_301584388b844394a0de80cb61608327",
            "max": 1961548,
            "min": 0,
            "orientation": "horizontal",
            "style": "IPY_MODEL_7143597f0cf44e29aa73461bbe6e8f63",
            "value": 1961548
          }
        },
        "993d219d5312406cb20178cbe3db86a9": {
          "model_module": "@jupyter-widgets/controls",
          "model_module_version": "1.5.0",
          "model_name": "HTMLModel",
          "state": {
            "_dom_classes": [],
            "_model_module": "@jupyter-widgets/controls",
            "_model_module_version": "1.5.0",
            "_model_name": "HTMLModel",
            "_view_count": null,
            "_view_module": "@jupyter-widgets/controls",
            "_view_module_version": "1.5.0",
            "_view_name": "HTMLView",
            "description": "",
            "description_tooltip": null,
            "layout": "IPY_MODEL_ec933908d40242eaad1c79b452d470df",
            "placeholder": "​",
            "style": "IPY_MODEL_609084ad490e478b806cf04de69493fa",
            "value": " 587k/587k [00:00&lt;00:00, 11.2MB/s]"
          }
        },
        "9bd0178cfa484c5e9b1c905910ed7429": {
          "model_module": "@jupyter-widgets/base",
          "model_module_version": "1.2.0",
          "model_name": "LayoutModel",
          "state": {
            "_model_module": "@jupyter-widgets/base",
            "_model_module_version": "1.2.0",
            "_model_name": "LayoutModel",
            "_view_count": null,
            "_view_module": "@jupyter-widgets/base",
            "_view_module_version": "1.2.0",
            "_view_name": "LayoutView",
            "align_content": null,
            "align_items": null,
            "align_self": null,
            "border": null,
            "bottom": null,
            "display": null,
            "flex": null,
            "flex_flow": null,
            "grid_area": null,
            "grid_auto_columns": null,
            "grid_auto_flow": null,
            "grid_auto_rows": null,
            "grid_column": null,
            "grid_gap": null,
            "grid_row": null,
            "grid_template_areas": null,
            "grid_template_columns": null,
            "grid_template_rows": null,
            "height": null,
            "justify_content": null,
            "justify_items": null,
            "left": null,
            "margin": null,
            "max_height": null,
            "max_width": null,
            "min_height": null,
            "min_width": null,
            "object_fit": null,
            "object_position": null,
            "order": null,
            "overflow": null,
            "overflow_x": null,
            "overflow_y": null,
            "padding": null,
            "right": null,
            "top": null,
            "visibility": null,
            "width": null
          }
        },
        "a950071d2ea040378e2916882500c8b3": {
          "model_module": "@jupyter-widgets/controls",
          "model_module_version": "1.5.0",
          "model_name": "HTMLModel",
          "state": {
            "_dom_classes": [],
            "_model_module": "@jupyter-widgets/controls",
            "_model_module_version": "1.5.0",
            "_model_name": "HTMLModel",
            "_view_count": null,
            "_view_module": "@jupyter-widgets/controls",
            "_view_module_version": "1.5.0",
            "_view_name": "HTMLView",
            "description": "",
            "description_tooltip": null,
            "layout": "IPY_MODEL_46d0b940d36240a9a086292e4d54db6c",
            "placeholder": "​",
            "style": "IPY_MODEL_019631df02454b7d889bb8328477affe",
            "value": " 1.96M/1.96M [00:00&lt;00:00, 20.5MB/s]"
          }
        },
        "adf721324ec146899cf461f53afc9639": {
          "model_module": "@jupyter-widgets/base",
          "model_module_version": "1.2.0",
          "model_name": "LayoutModel",
          "state": {
            "_model_module": "@jupyter-widgets/base",
            "_model_module_version": "1.2.0",
            "_model_name": "LayoutModel",
            "_view_count": null,
            "_view_module": "@jupyter-widgets/base",
            "_view_module_version": "1.2.0",
            "_view_name": "LayoutView",
            "align_content": null,
            "align_items": null,
            "align_self": null,
            "border": null,
            "bottom": null,
            "display": null,
            "flex": null,
            "flex_flow": null,
            "grid_area": null,
            "grid_auto_columns": null,
            "grid_auto_flow": null,
            "grid_auto_rows": null,
            "grid_column": null,
            "grid_gap": null,
            "grid_row": null,
            "grid_template_areas": null,
            "grid_template_columns": null,
            "grid_template_rows": null,
            "height": null,
            "justify_content": null,
            "justify_items": null,
            "left": null,
            "margin": null,
            "max_height": null,
            "max_width": null,
            "min_height": null,
            "min_width": null,
            "object_fit": null,
            "object_position": null,
            "order": null,
            "overflow": null,
            "overflow_x": null,
            "overflow_y": null,
            "padding": null,
            "right": null,
            "top": null,
            "visibility": null,
            "width": null
          }
        },
        "ae52d19cf71f4cc79f72fa0326f6cd31": {
          "model_module": "@jupyter-widgets/controls",
          "model_module_version": "1.5.0",
          "model_name": "ProgressStyleModel",
          "state": {
            "_model_module": "@jupyter-widgets/controls",
            "_model_module_version": "1.5.0",
            "_model_name": "ProgressStyleModel",
            "_view_count": null,
            "_view_module": "@jupyter-widgets/base",
            "_view_module_version": "1.2.0",
            "_view_name": "StyleView",
            "bar_color": null,
            "description_width": ""
          }
        },
        "b5d1982401eb4e7a9f105454175abcc1": {
          "model_module": "@jupyter-widgets/controls",
          "model_module_version": "1.5.0",
          "model_name": "FloatProgressModel",
          "state": {
            "_dom_classes": [],
            "_model_module": "@jupyter-widgets/controls",
            "_model_module_version": "1.5.0",
            "_model_name": "FloatProgressModel",
            "_view_count": null,
            "_view_module": "@jupyter-widgets/controls",
            "_view_module_version": "1.5.0",
            "_view_name": "ProgressView",
            "bar_style": "success",
            "description": "",
            "description_tooltip": null,
            "layout": "IPY_MODEL_204ae6bfc83d4c1e9d0d6865f23485e8",
            "max": 3,
            "min": 0,
            "orientation": "horizontal",
            "style": "IPY_MODEL_3bc3b2b537a3493289b071924394d542",
            "value": 3
          }
        },
        "b66d61e81689413581c07dd967a54ac4": {
          "model_module": "@jupyter-widgets/controls",
          "model_module_version": "1.5.0",
          "model_name": "DescriptionStyleModel",
          "state": {
            "_model_module": "@jupyter-widgets/controls",
            "_model_module_version": "1.5.0",
            "_model_name": "DescriptionStyleModel",
            "_view_count": null,
            "_view_module": "@jupyter-widgets/base",
            "_view_module_version": "1.2.0",
            "_view_name": "StyleView",
            "description_width": ""
          }
        },
        "c7a4fbe70da044269c641404fb834965": {
          "model_module": "@jupyter-widgets/controls",
          "model_module_version": "1.5.0",
          "model_name": "ProgressStyleModel",
          "state": {
            "_model_module": "@jupyter-widgets/controls",
            "_model_module_version": "1.5.0",
            "_model_name": "ProgressStyleModel",
            "_view_count": null,
            "_view_module": "@jupyter-widgets/base",
            "_view_module_version": "1.2.0",
            "_view_name": "StyleView",
            "bar_color": null,
            "description_width": ""
          }
        },
        "cb5116e9c8984663a59d309c205624ca": {
          "model_module": "@jupyter-widgets/controls",
          "model_module_version": "1.5.0",
          "model_name": "DescriptionStyleModel",
          "state": {
            "_model_module": "@jupyter-widgets/controls",
            "_model_module_version": "1.5.0",
            "_model_name": "DescriptionStyleModel",
            "_view_count": null,
            "_view_module": "@jupyter-widgets/base",
            "_view_module_version": "1.2.0",
            "_view_name": "StyleView",
            "description_width": ""
          }
        },
        "cccea75068e146aab1886fb0d4be5275": {
          "model_module": "@jupyter-widgets/controls",
          "model_module_version": "1.5.0",
          "model_name": "HTMLModel",
          "state": {
            "_dom_classes": [],
            "_model_module": "@jupyter-widgets/controls",
            "_model_module_version": "1.5.0",
            "_model_name": "HTMLModel",
            "_view_count": null,
            "_view_module": "@jupyter-widgets/controls",
            "_view_module_version": "1.5.0",
            "_view_name": "HTMLView",
            "description": "",
            "description_tooltip": null,
            "layout": "IPY_MODEL_81aeb1d589f94896ad3388b603318b21",
            "placeholder": "​",
            "style": "IPY_MODEL_cb5116e9c8984663a59d309c205624ca",
            "value": "Loading checkpoint shards: 100%"
          }
        },
        "ceae3856b45e48f886a07b749db2f100": {
          "model_module": "@jupyter-widgets/base",
          "model_module_version": "1.2.0",
          "model_name": "LayoutModel",
          "state": {
            "_model_module": "@jupyter-widgets/base",
            "_model_module_version": "1.2.0",
            "_model_name": "LayoutModel",
            "_view_count": null,
            "_view_module": "@jupyter-widgets/base",
            "_view_module_version": "1.2.0",
            "_view_name": "LayoutView",
            "align_content": null,
            "align_items": null,
            "align_self": null,
            "border": null,
            "bottom": null,
            "display": null,
            "flex": null,
            "flex_flow": null,
            "grid_area": null,
            "grid_auto_columns": null,
            "grid_auto_flow": null,
            "grid_auto_rows": null,
            "grid_column": null,
            "grid_gap": null,
            "grid_row": null,
            "grid_template_areas": null,
            "grid_template_columns": null,
            "grid_template_rows": null,
            "height": null,
            "justify_content": null,
            "justify_items": null,
            "left": null,
            "margin": null,
            "max_height": null,
            "max_width": null,
            "min_height": null,
            "min_width": null,
            "object_fit": null,
            "object_position": null,
            "order": null,
            "overflow": null,
            "overflow_x": null,
            "overflow_y": null,
            "padding": null,
            "right": null,
            "top": null,
            "visibility": null,
            "width": null
          }
        },
        "d6f8543d404b4f458b21b0ec8dc89fc5": {
          "model_module": "@jupyter-widgets/base",
          "model_module_version": "1.2.0",
          "model_name": "LayoutModel",
          "state": {
            "_model_module": "@jupyter-widgets/base",
            "_model_module_version": "1.2.0",
            "_model_name": "LayoutModel",
            "_view_count": null,
            "_view_module": "@jupyter-widgets/base",
            "_view_module_version": "1.2.0",
            "_view_name": "LayoutView",
            "align_content": null,
            "align_items": null,
            "align_self": null,
            "border": null,
            "bottom": null,
            "display": null,
            "flex": null,
            "flex_flow": null,
            "grid_area": null,
            "grid_auto_columns": null,
            "grid_auto_flow": null,
            "grid_auto_rows": null,
            "grid_column": null,
            "grid_gap": null,
            "grid_row": null,
            "grid_template_areas": null,
            "grid_template_columns": null,
            "grid_template_rows": null,
            "height": null,
            "justify_content": null,
            "justify_items": null,
            "left": null,
            "margin": null,
            "max_height": null,
            "max_width": null,
            "min_height": null,
            "min_width": null,
            "object_fit": null,
            "object_position": null,
            "order": null,
            "overflow": null,
            "overflow_x": null,
            "overflow_y": null,
            "padding": null,
            "right": null,
            "top": null,
            "visibility": null,
            "width": null
          }
        },
        "dc3362d8480e44319bfe53531eee4972": {
          "model_module": "@jupyter-widgets/controls",
          "model_module_version": "1.5.0",
          "model_name": "DescriptionStyleModel",
          "state": {
            "_model_module": "@jupyter-widgets/controls",
            "_model_module_version": "1.5.0",
            "_model_name": "DescriptionStyleModel",
            "_view_count": null,
            "_view_module": "@jupyter-widgets/base",
            "_view_module_version": "1.2.0",
            "_view_name": "StyleView",
            "description_width": ""
          }
        },
        "e73b75a06ca542b7a2e7f2259790cbdd": {
          "model_module": "@jupyter-widgets/controls",
          "model_module_version": "1.5.0",
          "model_name": "FloatProgressModel",
          "state": {
            "_dom_classes": [],
            "_model_module": "@jupyter-widgets/controls",
            "_model_module_version": "1.5.0",
            "_model_name": "FloatProgressModel",
            "_view_count": null,
            "_view_module": "@jupyter-widgets/controls",
            "_view_module_version": "1.5.0",
            "_view_name": "ProgressView",
            "bar_style": "success",
            "description": "",
            "description_tooltip": null,
            "layout": "IPY_MODEL_d6f8543d404b4f458b21b0ec8dc89fc5",
            "max": 414,
            "min": 0,
            "orientation": "horizontal",
            "style": "IPY_MODEL_2f57858ad31d450f9c21dbc4001d637a",
            "value": 414
          }
        },
        "ebb7fc0b09be43b9993be83956372bd6": {
          "model_module": "@jupyter-widgets/controls",
          "model_module_version": "1.5.0",
          "model_name": "HTMLModel",
          "state": {
            "_dom_classes": [],
            "_model_module": "@jupyter-widgets/controls",
            "_model_module_version": "1.5.0",
            "_model_name": "HTMLModel",
            "_view_count": null,
            "_view_module": "@jupyter-widgets/controls",
            "_view_module_version": "1.5.0",
            "_view_name": "HTMLView",
            "description": "",
            "description_tooltip": null,
            "layout": "IPY_MODEL_427f4a374a424cd0b1e614d72d42f29a",
            "placeholder": "​",
            "style": "IPY_MODEL_15e002f9bfdb4266b2c9e2f419ce8ab4",
            "value": "tokenizer_config.json: 100%"
          }
        },
        "ec933908d40242eaad1c79b452d470df": {
          "model_module": "@jupyter-widgets/base",
          "model_module_version": "1.2.0",
          "model_name": "LayoutModel",
          "state": {
            "_model_module": "@jupyter-widgets/base",
            "_model_module_version": "1.2.0",
            "_model_name": "LayoutModel",
            "_view_count": null,
            "_view_module": "@jupyter-widgets/base",
            "_view_module_version": "1.2.0",
            "_view_name": "LayoutView",
            "align_content": null,
            "align_items": null,
            "align_self": null,
            "border": null,
            "bottom": null,
            "display": null,
            "flex": null,
            "flex_flow": null,
            "grid_area": null,
            "grid_auto_columns": null,
            "grid_auto_flow": null,
            "grid_auto_rows": null,
            "grid_column": null,
            "grid_gap": null,
            "grid_row": null,
            "grid_template_areas": null,
            "grid_template_columns": null,
            "grid_template_rows": null,
            "height": null,
            "justify_content": null,
            "justify_items": null,
            "left": null,
            "margin": null,
            "max_height": null,
            "max_width": null,
            "min_height": null,
            "min_width": null,
            "object_fit": null,
            "object_position": null,
            "order": null,
            "overflow": null,
            "overflow_x": null,
            "overflow_y": null,
            "padding": null,
            "right": null,
            "top": null,
            "visibility": null,
            "width": null
          }
        },
        "f3eea1ab0fe84039aca91e1dbce25807": {
          "model_module": "@jupyter-widgets/base",
          "model_module_version": "1.2.0",
          "model_name": "LayoutModel",
          "state": {
            "_model_module": "@jupyter-widgets/base",
            "_model_module_version": "1.2.0",
            "_model_name": "LayoutModel",
            "_view_count": null,
            "_view_module": "@jupyter-widgets/base",
            "_view_module_version": "1.2.0",
            "_view_name": "LayoutView",
            "align_content": null,
            "align_items": null,
            "align_self": null,
            "border": null,
            "bottom": null,
            "display": null,
            "flex": null,
            "flex_flow": null,
            "grid_area": null,
            "grid_auto_columns": null,
            "grid_auto_flow": null,
            "grid_auto_rows": null,
            "grid_column": null,
            "grid_gap": null,
            "grid_row": null,
            "grid_template_areas": null,
            "grid_template_columns": null,
            "grid_template_rows": null,
            "height": null,
            "justify_content": null,
            "justify_items": null,
            "left": null,
            "margin": null,
            "max_height": null,
            "max_width": null,
            "min_height": null,
            "min_width": null,
            "object_fit": null,
            "object_position": null,
            "order": null,
            "overflow": null,
            "overflow_x": null,
            "overflow_y": null,
            "padding": null,
            "right": null,
            "top": null,
            "visibility": null,
            "width": null
          }
        },
        "f91872a24b1149399286673bdfc0926f": {
          "model_module": "@jupyter-widgets/base",
          "model_module_version": "1.2.0",
          "model_name": "LayoutModel",
          "state": {
            "_model_module": "@jupyter-widgets/base",
            "_model_module_version": "1.2.0",
            "_model_name": "LayoutModel",
            "_view_count": null,
            "_view_module": "@jupyter-widgets/base",
            "_view_module_version": "1.2.0",
            "_view_name": "LayoutView",
            "align_content": null,
            "align_items": null,
            "align_self": null,
            "border": null,
            "bottom": null,
            "display": null,
            "flex": null,
            "flex_flow": null,
            "grid_area": null,
            "grid_auto_columns": null,
            "grid_auto_flow": null,
            "grid_auto_rows": null,
            "grid_column": null,
            "grid_gap": null,
            "grid_row": null,
            "grid_template_areas": null,
            "grid_template_columns": null,
            "grid_template_rows": null,
            "height": null,
            "justify_content": null,
            "justify_items": null,
            "left": null,
            "margin": null,
            "max_height": null,
            "max_width": null,
            "min_height": null,
            "min_width": null,
            "object_fit": null,
            "object_position": null,
            "order": null,
            "overflow": null,
            "overflow_x": null,
            "overflow_y": null,
            "padding": null,
            "right": null,
            "top": null,
            "visibility": null,
            "width": null
          }
        },
        "fd5989cd715942fd8ac63450e368f34d": {
          "model_module": "@jupyter-widgets/controls",
          "model_module_version": "1.5.0",
          "model_name": "HBoxModel",
          "state": {
            "_dom_classes": [],
            "_model_module": "@jupyter-widgets/controls",
            "_model_module_version": "1.5.0",
            "_model_name": "HBoxModel",
            "_view_count": null,
            "_view_module": "@jupyter-widgets/controls",
            "_view_module_version": "1.5.0",
            "_view_name": "HBoxView",
            "box_style": "",
            "children": [
              "IPY_MODEL_243fe0d4788d43b5a8c747a7808130cf",
              "IPY_MODEL_682796e9167b418cb66adf65f055b7f4",
              "IPY_MODEL_993d219d5312406cb20178cbe3db86a9"
            ],
            "layout": "IPY_MODEL_9bd0178cfa484c5e9b1c905910ed7429"
          }
        }
      }
    }
  },
  "nbformat": 4,
  "nbformat_minor": 0
}
